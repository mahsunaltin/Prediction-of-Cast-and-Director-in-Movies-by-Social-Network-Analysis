{
  "cells": [
    {
      "cell_type": "markdown",
      "metadata": {
        "id": "Fr3YvrD5jpp8"
      },
      "source": [
        "# Prediction of Cast and Director in Movies by Social Network Analysis\n",
        "\n",
        "**Name & Surname:** Mahsun ALTIN\n",
        "\n",
        "**Number:** 504212507\n",
        "\n",
        "In this notebook, one of the biggest movie databases, which is the IMDB (Internet Movie Database), is examined."
      ]
    },
    {
      "cell_type": "markdown",
      "metadata": {
        "id": "a7ZJRcE2ZO_M"
      },
      "source": [
        "# **Requirements**"
      ]
    },
    {
      "cell_type": "code",
      "execution_count": 1,
      "metadata": {
        "colab": {
          "base_uri": "https://localhost:8080/",
          "height": 1000
        },
        "id": "LKwTLXB1NXkI",
        "outputId": "69394228-dc32-4c4c-8bde-7ee1ff815a37"
      },
      "outputs": [
        {
          "output_type": "stream",
          "name": "stdout",
          "text": [
            "Looking in indexes: https://pypi.org/simple, https://us-python.pkg.dev/colab-wheels/public/simple/\n",
            "Collecting node2vec\n",
            "  Downloading node2vec-0.4.6-py3-none-any.whl (7.0 kB)\n",
            "Requirement already satisfied: networkx<3.0,>=2.5 in /usr/local/lib/python3.8/dist-packages (from node2vec) (2.8.8)\n",
            "Requirement already satisfied: tqdm<5.0.0,>=4.55.1 in /usr/local/lib/python3.8/dist-packages (from node2vec) (4.64.1)\n",
            "Collecting gensim<5.0.0,>=4.1.2\n",
            "  Downloading gensim-4.3.0-cp38-cp38-manylinux_2_12_x86_64.manylinux2010_x86_64.whl (24.1 MB)\n",
            "\u001b[2K     \u001b[90m━━━━━━━━━━━━━━━━━━━━━━━━━━━━━━━━━━━━━━━━\u001b[0m \u001b[32m24.1/24.1 MB\u001b[0m \u001b[31m50.2 MB/s\u001b[0m eta \u001b[36m0:00:00\u001b[0m\n",
            "\u001b[?25hRequirement already satisfied: joblib<2.0.0,>=1.1.0 in /usr/local/lib/python3.8/dist-packages (from node2vec) (1.2.0)\n",
            "Requirement already satisfied: numpy<2.0.0,>=1.19.5 in /usr/local/lib/python3.8/dist-packages (from node2vec) (1.21.6)\n",
            "Requirement already satisfied: smart-open>=1.8.1 in /usr/local/lib/python3.8/dist-packages (from gensim<5.0.0,>=4.1.2->node2vec) (6.3.0)\n",
            "Requirement already satisfied: scipy>=1.7.0 in /usr/local/lib/python3.8/dist-packages (from gensim<5.0.0,>=4.1.2->node2vec) (1.7.3)\n",
            "Collecting FuzzyTM>=0.4.0\n",
            "  Downloading FuzzyTM-2.0.5-py3-none-any.whl (29 kB)\n",
            "Requirement already satisfied: pandas in /usr/local/lib/python3.8/dist-packages (from FuzzyTM>=0.4.0->gensim<5.0.0,>=4.1.2->node2vec) (1.3.5)\n",
            "Collecting pyfume\n",
            "  Downloading pyFUME-0.2.25-py3-none-any.whl (67 kB)\n",
            "\u001b[2K     \u001b[90m━━━━━━━━━━━━━━━━━━━━━━━━━━━━━━━━━━━━━━━━\u001b[0m \u001b[32m67.1/67.1 KB\u001b[0m \u001b[31m4.1 MB/s\u001b[0m eta \u001b[36m0:00:00\u001b[0m\n",
            "\u001b[?25hRequirement already satisfied: pytz>=2017.3 in /usr/local/lib/python3.8/dist-packages (from pandas->FuzzyTM>=0.4.0->gensim<5.0.0,>=4.1.2->node2vec) (2022.7)\n",
            "Requirement already satisfied: python-dateutil>=2.7.3 in /usr/local/lib/python3.8/dist-packages (from pandas->FuzzyTM>=0.4.0->gensim<5.0.0,>=4.1.2->node2vec) (2.8.2)\n",
            "Collecting fst-pso\n",
            "  Downloading fst-pso-1.8.1.tar.gz (18 kB)\n",
            "  Preparing metadata (setup.py) ... \u001b[?25l\u001b[?25hdone\n",
            "Collecting simpful\n",
            "  Downloading simpful-2.9.0-py3-none-any.whl (30 kB)\n",
            "Requirement already satisfied: six>=1.5 in /usr/local/lib/python3.8/dist-packages (from python-dateutil>=2.7.3->pandas->FuzzyTM>=0.4.0->gensim<5.0.0,>=4.1.2->node2vec) (1.15.0)\n",
            "Collecting miniful\n",
            "  Downloading miniful-0.0.6.tar.gz (2.8 kB)\n",
            "  Preparing metadata (setup.py) ... \u001b[?25l\u001b[?25hdone\n",
            "Requirement already satisfied: requests in /usr/local/lib/python3.8/dist-packages (from simpful->pyfume->FuzzyTM>=0.4.0->gensim<5.0.0,>=4.1.2->node2vec) (2.25.1)\n",
            "Requirement already satisfied: idna<3,>=2.5 in /usr/local/lib/python3.8/dist-packages (from requests->simpful->pyfume->FuzzyTM>=0.4.0->gensim<5.0.0,>=4.1.2->node2vec) (2.10)\n",
            "Requirement already satisfied: certifi>=2017.4.17 in /usr/local/lib/python3.8/dist-packages (from requests->simpful->pyfume->FuzzyTM>=0.4.0->gensim<5.0.0,>=4.1.2->node2vec) (2022.12.7)\n",
            "Requirement already satisfied: chardet<5,>=3.0.2 in /usr/local/lib/python3.8/dist-packages (from requests->simpful->pyfume->FuzzyTM>=0.4.0->gensim<5.0.0,>=4.1.2->node2vec) (4.0.0)\n",
            "Requirement already satisfied: urllib3<1.27,>=1.21.1 in /usr/local/lib/python3.8/dist-packages (from requests->simpful->pyfume->FuzzyTM>=0.4.0->gensim<5.0.0,>=4.1.2->node2vec) (1.24.3)\n",
            "Building wheels for collected packages: fst-pso, miniful\n",
            "  Building wheel for fst-pso (setup.py) ... \u001b[?25l\u001b[?25hdone\n",
            "  Created wheel for fst-pso: filename=fst_pso-1.8.1-py3-none-any.whl size=20443 sha256=b9e2fcd14e104ac6b67b29787d67af234b4f51f4b5cbdd7b554006d63e6cd577\n",
            "  Stored in directory: /root/.cache/pip/wheels/6a/65/c4/d27eeee9ba3fc150a0dae150519591103b9e0dbffde3ae77dc\n",
            "  Building wheel for miniful (setup.py) ... \u001b[?25l\u001b[?25hdone\n",
            "  Created wheel for miniful: filename=miniful-0.0.6-py3-none-any.whl size=3530 sha256=e15a2c1388991206477ef89181f1e52803450d8988e5cf705e7b0ac81161af23\n",
            "  Stored in directory: /root/.cache/pip/wheels/ba/d9/a0/ddd93af16d5855dd9bad417623e70948fdac119d1d34fb17c8\n",
            "Successfully built fst-pso miniful\n",
            "Installing collected packages: simpful, miniful, fst-pso, pyfume, FuzzyTM, gensim, node2vec\n",
            "  Attempting uninstall: gensim\n",
            "    Found existing installation: gensim 3.6.0\n",
            "    Uninstalling gensim-3.6.0:\n",
            "      Successfully uninstalled gensim-3.6.0\n",
            "Successfully installed FuzzyTM-2.0.5 fst-pso-1.8.1 gensim-4.3.0 miniful-0.0.6 node2vec-0.4.6 pyfume-0.2.25 simpful-2.9.0\n",
            "Looking in indexes: https://pypi.org/simple, https://us-python.pkg.dev/colab-wheels/public/simple/\n",
            "Requirement already satisfied: gensim in /usr/local/lib/python3.8/dist-packages (4.3.0)\n",
            "Requirement already satisfied: numpy>=1.18.5 in /usr/local/lib/python3.8/dist-packages (from gensim) (1.21.6)\n",
            "Requirement already satisfied: smart-open>=1.8.1 in /usr/local/lib/python3.8/dist-packages (from gensim) (6.3.0)\n",
            "Requirement already satisfied: FuzzyTM>=0.4.0 in /usr/local/lib/python3.8/dist-packages (from gensim) (2.0.5)\n",
            "Requirement already satisfied: scipy>=1.7.0 in /usr/local/lib/python3.8/dist-packages (from gensim) (1.7.3)\n",
            "Requirement already satisfied: pandas in /usr/local/lib/python3.8/dist-packages (from FuzzyTM>=0.4.0->gensim) (1.3.5)\n",
            "Requirement already satisfied: pyfume in /usr/local/lib/python3.8/dist-packages (from FuzzyTM>=0.4.0->gensim) (0.2.25)\n",
            "Requirement already satisfied: pytz>=2017.3 in /usr/local/lib/python3.8/dist-packages (from pandas->FuzzyTM>=0.4.0->gensim) (2022.7)\n",
            "Requirement already satisfied: python-dateutil>=2.7.3 in /usr/local/lib/python3.8/dist-packages (from pandas->FuzzyTM>=0.4.0->gensim) (2.8.2)\n",
            "Requirement already satisfied: fst-pso in /usr/local/lib/python3.8/dist-packages (from pyfume->FuzzyTM>=0.4.0->gensim) (1.8.1)\n",
            "Requirement already satisfied: simpful in /usr/local/lib/python3.8/dist-packages (from pyfume->FuzzyTM>=0.4.0->gensim) (2.9.0)\n",
            "Requirement already satisfied: six>=1.5 in /usr/local/lib/python3.8/dist-packages (from python-dateutil>=2.7.3->pandas->FuzzyTM>=0.4.0->gensim) (1.15.0)\n",
            "Requirement already satisfied: miniful in /usr/local/lib/python3.8/dist-packages (from fst-pso->pyfume->FuzzyTM>=0.4.0->gensim) (0.0.6)\n",
            "Requirement already satisfied: requests in /usr/local/lib/python3.8/dist-packages (from simpful->pyfume->FuzzyTM>=0.4.0->gensim) (2.25.1)\n",
            "Requirement already satisfied: urllib3<1.27,>=1.21.1 in /usr/local/lib/python3.8/dist-packages (from requests->simpful->pyfume->FuzzyTM>=0.4.0->gensim) (1.24.3)\n",
            "Requirement already satisfied: idna<3,>=2.5 in /usr/local/lib/python3.8/dist-packages (from requests->simpful->pyfume->FuzzyTM>=0.4.0->gensim) (2.10)\n",
            "Requirement already satisfied: chardet<5,>=3.0.2 in /usr/local/lib/python3.8/dist-packages (from requests->simpful->pyfume->FuzzyTM>=0.4.0->gensim) (4.0.0)\n",
            "Requirement already satisfied: certifi>=2017.4.17 in /usr/local/lib/python3.8/dist-packages (from requests->simpful->pyfume->FuzzyTM>=0.4.0->gensim) (2022.12.7)\n",
            "Looking in indexes: https://pypi.org/simple, https://us-python.pkg.dev/colab-wheels/public/simple/\n",
            "Requirement already satisfied: networkx in /usr/local/lib/python3.8/dist-packages (2.8.8)\n",
            "Looking in indexes: https://pypi.org/simple, https://us-python.pkg.dev/colab-wheels/public/simple/\n",
            "Requirement already satisfied: matplotlib in /usr/local/lib/python3.8/dist-packages (3.2.2)\n",
            "Requirement already satisfied: numpy>=1.11 in /usr/local/lib/python3.8/dist-packages (from matplotlib) (1.21.6)\n",
            "Requirement already satisfied: pyparsing!=2.0.4,!=2.1.2,!=2.1.6,>=2.0.1 in /usr/local/lib/python3.8/dist-packages (from matplotlib) (3.0.9)\n",
            "Requirement already satisfied: kiwisolver>=1.0.1 in /usr/local/lib/python3.8/dist-packages (from matplotlib) (1.4.4)\n",
            "Requirement already satisfied: python-dateutil>=2.1 in /usr/local/lib/python3.8/dist-packages (from matplotlib) (2.8.2)\n",
            "Requirement already satisfied: cycler>=0.10 in /usr/local/lib/python3.8/dist-packages (from matplotlib) (0.11.0)\n",
            "Requirement already satisfied: six>=1.5 in /usr/local/lib/python3.8/dist-packages (from python-dateutil>=2.1->matplotlib) (1.15.0)\n",
            "Looking in indexes: https://pypi.org/simple, https://us-python.pkg.dev/colab-wheels/public/simple/\n",
            "Collecting wget\n",
            "  Downloading wget-3.2.zip (10 kB)\n",
            "  Preparing metadata (setup.py) ... \u001b[?25l\u001b[?25hdone\n",
            "Building wheels for collected packages: wget\n",
            "  Building wheel for wget (setup.py) ... \u001b[?25l\u001b[?25hdone\n",
            "  Created wheel for wget: filename=wget-3.2-py3-none-any.whl size=9674 sha256=a38ec3e699a73a0fdb850e82f7e099ce57742c21cd0b763c98d9b06ac64e63ba\n",
            "  Stored in directory: /root/.cache/pip/wheels/bd/a8/c3/3cf2c14a1837a4e04bd98631724e81f33f462d86a1d895fae0\n",
            "Successfully built wget\n",
            "Installing collected packages: wget\n",
            "Successfully installed wget-3.2\n",
            "Looking in indexes: https://pypi.org/simple, https://us-python.pkg.dev/colab-wheels/public/simple/\n",
            "Requirement already satisfied: numpy in /usr/local/lib/python3.8/dist-packages (1.21.6)\n",
            "Collecting numpy\n",
            "  Downloading numpy-1.24.1-cp38-cp38-manylinux_2_17_x86_64.manylinux2014_x86_64.whl (17.3 MB)\n",
            "\u001b[2K     \u001b[90m━━━━━━━━━━━━━━━━━━━━━━━━━━━━━━━━━━━━━━━━\u001b[0m \u001b[32m17.3/17.3 MB\u001b[0m \u001b[31m58.1 MB/s\u001b[0m eta \u001b[36m0:00:00\u001b[0m\n",
            "\u001b[?25hInstalling collected packages: numpy\n",
            "  Attempting uninstall: numpy\n",
            "    Found existing installation: numpy 1.21.6\n",
            "    Uninstalling numpy-1.21.6:\n",
            "      Successfully uninstalled numpy-1.21.6\n",
            "\u001b[31mERROR: pip's dependency resolver does not currently take into account all the packages that are installed. This behaviour is the source of the following dependency conflicts.\n",
            "scipy 1.7.3 requires numpy<1.23.0,>=1.16.5, but you have numpy 1.24.1 which is incompatible.\n",
            "numba 0.56.4 requires numpy<1.24,>=1.18, but you have numpy 1.24.1 which is incompatible.\u001b[0m\u001b[31m\n",
            "\u001b[0mSuccessfully installed numpy-1.24.1\n",
            "Looking in indexes: https://pypi.org/simple, https://us-python.pkg.dev/colab-wheels/public/simple/\n",
            "Requirement already satisfied: gensim in /usr/local/lib/python3.8/dist-packages (4.3.0)\n",
            "Requirement already satisfied: FuzzyTM>=0.4.0 in /usr/local/lib/python3.8/dist-packages (from gensim) (2.0.5)\n",
            "Requirement already satisfied: numpy>=1.18.5 in /usr/local/lib/python3.8/dist-packages (from gensim) (1.24.1)\n",
            "Requirement already satisfied: scipy>=1.7.0 in /usr/local/lib/python3.8/dist-packages (from gensim) (1.7.3)\n",
            "Requirement already satisfied: smart-open>=1.8.1 in /usr/local/lib/python3.8/dist-packages (from gensim) (6.3.0)\n",
            "Requirement already satisfied: pyfume in /usr/local/lib/python3.8/dist-packages (from FuzzyTM>=0.4.0->gensim) (0.2.25)\n",
            "Requirement already satisfied: pandas in /usr/local/lib/python3.8/dist-packages (from FuzzyTM>=0.4.0->gensim) (1.3.5)\n",
            "Collecting numpy>=1.18.5\n",
            "  Downloading numpy-1.22.4-cp38-cp38-manylinux_2_17_x86_64.manylinux2014_x86_64.whl (16.9 MB)\n",
            "\u001b[2K     \u001b[90m━━━━━━━━━━━━━━━━━━━━━━━━━━━━━━━━━━━━━━━━\u001b[0m \u001b[32m16.9/16.9 MB\u001b[0m \u001b[31m23.5 MB/s\u001b[0m eta \u001b[36m0:00:00\u001b[0m\n",
            "\u001b[?25hRequirement already satisfied: python-dateutil>=2.7.3 in /usr/local/lib/python3.8/dist-packages (from pandas->FuzzyTM>=0.4.0->gensim) (2.8.2)\n",
            "Requirement already satisfied: pytz>=2017.3 in /usr/local/lib/python3.8/dist-packages (from pandas->FuzzyTM>=0.4.0->gensim) (2022.7)\n",
            "Requirement already satisfied: simpful in /usr/local/lib/python3.8/dist-packages (from pyfume->FuzzyTM>=0.4.0->gensim) (2.9.0)\n",
            "Requirement already satisfied: fst-pso in /usr/local/lib/python3.8/dist-packages (from pyfume->FuzzyTM>=0.4.0->gensim) (1.8.1)\n",
            "Requirement already satisfied: six>=1.5 in /usr/local/lib/python3.8/dist-packages (from python-dateutil>=2.7.3->pandas->FuzzyTM>=0.4.0->gensim) (1.15.0)\n",
            "Requirement already satisfied: miniful in /usr/local/lib/python3.8/dist-packages (from fst-pso->pyfume->FuzzyTM>=0.4.0->gensim) (0.0.6)\n",
            "Requirement already satisfied: requests in /usr/local/lib/python3.8/dist-packages (from simpful->pyfume->FuzzyTM>=0.4.0->gensim) (2.25.1)\n",
            "Requirement already satisfied: certifi>=2017.4.17 in /usr/local/lib/python3.8/dist-packages (from requests->simpful->pyfume->FuzzyTM>=0.4.0->gensim) (2022.12.7)\n",
            "Requirement already satisfied: chardet<5,>=3.0.2 in /usr/local/lib/python3.8/dist-packages (from requests->simpful->pyfume->FuzzyTM>=0.4.0->gensim) (4.0.0)\n",
            "Requirement already satisfied: idna<3,>=2.5 in /usr/local/lib/python3.8/dist-packages (from requests->simpful->pyfume->FuzzyTM>=0.4.0->gensim) (2.10)\n",
            "Requirement already satisfied: urllib3<1.27,>=1.21.1 in /usr/local/lib/python3.8/dist-packages (from requests->simpful->pyfume->FuzzyTM>=0.4.0->gensim) (1.24.3)\n",
            "Installing collected packages: numpy\n",
            "  Attempting uninstall: numpy\n",
            "    Found existing installation: numpy 1.24.1\n",
            "    Uninstalling numpy-1.24.1:\n",
            "      Successfully uninstalled numpy-1.24.1\n",
            "Successfully installed numpy-1.22.4\n"
          ]
        },
        {
          "output_type": "display_data",
          "data": {
            "application/vnd.colab-display-data+json": {
              "pip_warning": {
                "packages": [
                  "numpy"
                ]
              }
            }
          },
          "metadata": {}
        },
        {
          "output_type": "stream",
          "name": "stdout",
          "text": [
            "Looking in indexes: https://pypi.org/simple, https://us-python.pkg.dev/colab-wheels/public/simple/\n",
            "Collecting Interval\n",
            "  Downloading interval-1.0.0.zip (14 kB)\n",
            "  Preparing metadata (setup.py) ... \u001b[?25l\u001b[?25hdone\n",
            "Building wheels for collected packages: Interval\n",
            "  Building wheel for Interval (setup.py) ... \u001b[?25l\u001b[?25hdone\n",
            "  Created wheel for Interval: filename=interval-1.0.0-py3-none-any.whl size=14269 sha256=374aacaf25b4ca467e108c32176e1234a62883c050ec545be00e812f272bee67\n",
            "  Stored in directory: /root/.cache/pip/wheels/51/0a/ef/07d42e93689b84f008abfe78d01aaed1818f3447423769b27e\n",
            "Successfully built Interval\n",
            "Installing collected packages: Interval\n",
            "Successfully installed Interval-1.0.0\n",
            "Looking in indexes: https://pypi.org/simple, https://us-python.pkg.dev/colab-wheels/public/simple/\n",
            "Requirement already satisfied: scipy in /usr/local/lib/python3.8/dist-packages (1.7.3)\n",
            "Collecting scipy\n",
            "  Downloading scipy-1.10.0-cp38-cp38-manylinux_2_17_x86_64.manylinux2014_x86_64.whl (34.5 MB)\n",
            "\u001b[2K     \u001b[90m━━━━━━━━━━━━━━━━━━━━━━━━━━━━━━━━━━━━━━━━\u001b[0m \u001b[32m34.5/34.5 MB\u001b[0m \u001b[31m29.6 MB/s\u001b[0m eta \u001b[36m0:00:00\u001b[0m\n",
            "\u001b[?25hRequirement already satisfied: numpy<1.27.0,>=1.19.5 in /usr/local/lib/python3.8/dist-packages (from scipy) (1.22.4)\n",
            "Installing collected packages: scipy\n",
            "  Attempting uninstall: scipy\n",
            "    Found existing installation: scipy 1.7.3\n",
            "    Uninstalling scipy-1.7.3:\n",
            "      Successfully uninstalled scipy-1.7.3\n",
            "Successfully installed scipy-1.10.0\n"
          ]
        }
      ],
      "source": [
        "!pip install node2vec\n",
        "!pip install gensim\n",
        "!pip install networkx\n",
        "!pip install matplotlib\n",
        "!pip install wget\n",
        "!pip install --upgrade numpy\n",
        "!pip install gensim\n",
        "!pip install --upgrade Interval\n",
        "!pip install --upgrade scipy"
      ]
    },
    {
      "cell_type": "code",
      "execution_count": 2,
      "metadata": {
        "id": "_OpwF3MlZO_O"
      },
      "outputs": [],
      "source": [
        "!mkdir emb\n",
        "!mkdir result"
      ]
    },
    {
      "cell_type": "markdown",
      "metadata": {
        "id": "HF6QGjxvaDwM"
      },
      "source": [
        "# **DATA COLLECTION**"
      ]
    },
    {
      "cell_type": "markdown",
      "metadata": {
        "id": "kdbYNPyVgElj"
      },
      "source": [
        "## Edit MainData (title.principals)"
      ]
    },
    {
      "cell_type": "code",
      "execution_count": 1,
      "metadata": {
        "colab": {
          "base_uri": "https://localhost:8080/",
          "height": 35
        },
        "id": "z632JqmSZO_P",
        "outputId": "4fcb2838-83a3-4f6e-dc60-5060a28971d5"
      },
      "outputs": [
        {
          "output_type": "execute_result",
          "data": {
            "text/plain": [
              "'title.basics.tsv.gz'"
            ],
            "application/vnd.google.colaboratory.intrinsic+json": {
              "type": "string"
            }
          },
          "metadata": {},
          "execution_count": 1
        }
      ],
      "source": [
        "import wget\n",
        "\n",
        "wget.download('https://datasets.imdbws.com/title.principals.tsv.gz')\n",
        "wget.download('https://datasets.imdbws.com/name.basics.tsv.gz')\n",
        "wget.download('https://datasets.imdbws.com/title.basics.tsv.gz')"
      ]
    },
    {
      "cell_type": "code",
      "execution_count": 1,
      "metadata": {
        "colab": {
          "base_uri": "https://localhost:8080/"
        },
        "id": "ZzKYXqEdDZU0",
        "outputId": "9bce6304-8da3-4fd1-c829-6fe8e69df143"
      },
      "outputs": [
        {
          "output_type": "stream",
          "name": "stderr",
          "text": [
            "/usr/local/lib/python3.8/dist-packages/IPython/core/interactiveshell.py:3326: DtypeWarning: Columns (4) have mixed types.Specify dtype option on import or set low_memory=False.\n",
            "  exec(code_obj, self.user_global_ns, self.user_ns)\n"
          ]
        }
      ],
      "source": [
        "import pandas as pd\n",
        "\n",
        "mainData = pd.read_csv('title.principals.tsv.gz', compression='gzip', header=0, sep='\\t')\n",
        "nameData = pd.read_csv('name.basics.tsv.gz', compression='gzip', sep='\\t', header=0)\n",
        "titleData = pd.read_csv('title.basics.tsv.gz', compression='gzip', sep='\\t', header=0)"
      ]
    },
    {
      "cell_type": "code",
      "execution_count": 2,
      "metadata": {
        "id": "6ukJqaajDiIf"
      },
      "outputs": [],
      "source": [
        "mainData = mainData.merge(titleData, on='tconst', how='left')"
      ]
    },
    {
      "cell_type": "code",
      "execution_count": 3,
      "metadata": {
        "id": "E_EUzyOIRFQK"
      },
      "outputs": [],
      "source": [
        "mainData = mainData[(mainData.titleType == \"movie\")]\n",
        "mainData = mainData.merge(nameData, on='nconst', how='left')"
      ]
    },
    {
      "cell_type": "code",
      "execution_count": 4,
      "metadata": {
        "id": "bvLZHx9dTOGz"
      },
      "outputs": [],
      "source": [
        "mainData = mainData[(mainData.deathYear == '\\\\N')]"
      ]
    },
    {
      "cell_type": "code",
      "execution_count": 5,
      "metadata": {
        "colab": {
          "base_uri": "https://localhost:8080/",
          "height": 424
        },
        "id": "EX3vVacRQt2M",
        "outputId": "ea8aeff0-5a31-4d9a-ee68-4ec3221f05a1"
      },
      "outputs": [
        {
          "output_type": "execute_result",
          "data": {
            "text/plain": [
              "            tconst  ordering      nconst         category titleType  \\\n",
              "11       tt0000502         1   nm0215752            actor     movie   \n",
              "12       tt0000502         2   nm0252720            actor     movie   \n",
              "17       tt0000574         1   nm0846887          actress     movie   \n",
              "20       tt0000574         4   nm3002376            actor     movie   \n",
              "23       tt0000574         7   nm0425854         producer     movie   \n",
              "...            ...       ...         ...              ...       ...   \n",
              "4459236  tt9916754         5   nm9272490         director     movie   \n",
              "4459237  tt9916754         6   nm8349149         director     movie   \n",
              "4459238  tt9916754         7   nm9272489  cinematographer     movie   \n",
              "4459239  tt9916754         8  nm10538638  cinematographer     movie   \n",
              "4459240  tt9916754         9  nm10538635  cinematographer     movie   \n",
              "\n",
              "                           primaryTitle startYear runtimeMinutes  \\\n",
              "11                             Bohemios      1905            100   \n",
              "12                             Bohemios      1905            100   \n",
              "17          The Story of the Kelly Gang      1906             70   \n",
              "20          The Story of the Kelly Gang      1906             70   \n",
              "23          The Story of the Kelly Gang      1906             70   \n",
              "...                                 ...       ...            ...   \n",
              "4459236  Chico Albuquerque - Revelações      2013             49   \n",
              "4459237  Chico Albuquerque - Revelações      2013             49   \n",
              "4459238  Chico Albuquerque - Revelações      2013             49   \n",
              "4459239  Chico Albuquerque - Revelações      2013             49   \n",
              "4459240  Chico Albuquerque - Revelações      2013             49   \n",
              "\n",
              "                             genres             primaryName birthYear  \\\n",
              "11                               \\N        Antonio del Pozo        \\N   \n",
              "12                               \\N             El Mochuelo        \\N   \n",
              "17       Action,Adventure,Biography          Elizabeth Tait      1879   \n",
              "20       Action,Adventure,Biography         Norman Campbell        \\N   \n",
              "23       Action,Adventure,Biography         Millard Johnson      1871   \n",
              "...                             ...                     ...       ...   \n",
              "4459236                 Documentary           Angela Gurgel        \\N   \n",
              "4459237                 Documentary  Vinicius Augusto Bozzo      1985   \n",
              "4459238                 Documentary           Marcelo Alves        \\N   \n",
              "4459239                 Documentary       Wellington Barros        \\N   \n",
              "4459240                 Documentary             Odério Dias        \\N   \n",
              "\n",
              "        deathYear  \n",
              "11             \\N  \n",
              "12             \\N  \n",
              "17             \\N  \n",
              "20             \\N  \n",
              "23             \\N  \n",
              "...           ...  \n",
              "4459236        \\N  \n",
              "4459237        \\N  \n",
              "4459238        \\N  \n",
              "4459239        \\N  \n",
              "4459240        \\N  \n",
              "\n",
              "[3468234 rows x 12 columns]"
            ],
            "text/html": [
              "\n",
              "  <div id=\"df-1564533a-fd0d-43de-b74e-e1efc0f1bf19\">\n",
              "    <div class=\"colab-df-container\">\n",
              "      <div>\n",
              "<style scoped>\n",
              "    .dataframe tbody tr th:only-of-type {\n",
              "        vertical-align: middle;\n",
              "    }\n",
              "\n",
              "    .dataframe tbody tr th {\n",
              "        vertical-align: top;\n",
              "    }\n",
              "\n",
              "    .dataframe thead th {\n",
              "        text-align: right;\n",
              "    }\n",
              "</style>\n",
              "<table border=\"1\" class=\"dataframe\">\n",
              "  <thead>\n",
              "    <tr style=\"text-align: right;\">\n",
              "      <th></th>\n",
              "      <th>tconst</th>\n",
              "      <th>ordering</th>\n",
              "      <th>nconst</th>\n",
              "      <th>category</th>\n",
              "      <th>titleType</th>\n",
              "      <th>primaryTitle</th>\n",
              "      <th>startYear</th>\n",
              "      <th>runtimeMinutes</th>\n",
              "      <th>genres</th>\n",
              "      <th>primaryName</th>\n",
              "      <th>birthYear</th>\n",
              "      <th>deathYear</th>\n",
              "    </tr>\n",
              "  </thead>\n",
              "  <tbody>\n",
              "    <tr>\n",
              "      <th>11</th>\n",
              "      <td>tt0000502</td>\n",
              "      <td>1</td>\n",
              "      <td>nm0215752</td>\n",
              "      <td>actor</td>\n",
              "      <td>movie</td>\n",
              "      <td>Bohemios</td>\n",
              "      <td>1905</td>\n",
              "      <td>100</td>\n",
              "      <td>\\N</td>\n",
              "      <td>Antonio del Pozo</td>\n",
              "      <td>\\N</td>\n",
              "      <td>\\N</td>\n",
              "    </tr>\n",
              "    <tr>\n",
              "      <th>12</th>\n",
              "      <td>tt0000502</td>\n",
              "      <td>2</td>\n",
              "      <td>nm0252720</td>\n",
              "      <td>actor</td>\n",
              "      <td>movie</td>\n",
              "      <td>Bohemios</td>\n",
              "      <td>1905</td>\n",
              "      <td>100</td>\n",
              "      <td>\\N</td>\n",
              "      <td>El Mochuelo</td>\n",
              "      <td>\\N</td>\n",
              "      <td>\\N</td>\n",
              "    </tr>\n",
              "    <tr>\n",
              "      <th>17</th>\n",
              "      <td>tt0000574</td>\n",
              "      <td>1</td>\n",
              "      <td>nm0846887</td>\n",
              "      <td>actress</td>\n",
              "      <td>movie</td>\n",
              "      <td>The Story of the Kelly Gang</td>\n",
              "      <td>1906</td>\n",
              "      <td>70</td>\n",
              "      <td>Action,Adventure,Biography</td>\n",
              "      <td>Elizabeth Tait</td>\n",
              "      <td>1879</td>\n",
              "      <td>\\N</td>\n",
              "    </tr>\n",
              "    <tr>\n",
              "      <th>20</th>\n",
              "      <td>tt0000574</td>\n",
              "      <td>4</td>\n",
              "      <td>nm3002376</td>\n",
              "      <td>actor</td>\n",
              "      <td>movie</td>\n",
              "      <td>The Story of the Kelly Gang</td>\n",
              "      <td>1906</td>\n",
              "      <td>70</td>\n",
              "      <td>Action,Adventure,Biography</td>\n",
              "      <td>Norman Campbell</td>\n",
              "      <td>\\N</td>\n",
              "      <td>\\N</td>\n",
              "    </tr>\n",
              "    <tr>\n",
              "      <th>23</th>\n",
              "      <td>tt0000574</td>\n",
              "      <td>7</td>\n",
              "      <td>nm0425854</td>\n",
              "      <td>producer</td>\n",
              "      <td>movie</td>\n",
              "      <td>The Story of the Kelly Gang</td>\n",
              "      <td>1906</td>\n",
              "      <td>70</td>\n",
              "      <td>Action,Adventure,Biography</td>\n",
              "      <td>Millard Johnson</td>\n",
              "      <td>1871</td>\n",
              "      <td>\\N</td>\n",
              "    </tr>\n",
              "    <tr>\n",
              "      <th>...</th>\n",
              "      <td>...</td>\n",
              "      <td>...</td>\n",
              "      <td>...</td>\n",
              "      <td>...</td>\n",
              "      <td>...</td>\n",
              "      <td>...</td>\n",
              "      <td>...</td>\n",
              "      <td>...</td>\n",
              "      <td>...</td>\n",
              "      <td>...</td>\n",
              "      <td>...</td>\n",
              "      <td>...</td>\n",
              "    </tr>\n",
              "    <tr>\n",
              "      <th>4459236</th>\n",
              "      <td>tt9916754</td>\n",
              "      <td>5</td>\n",
              "      <td>nm9272490</td>\n",
              "      <td>director</td>\n",
              "      <td>movie</td>\n",
              "      <td>Chico Albuquerque - Revelações</td>\n",
              "      <td>2013</td>\n",
              "      <td>49</td>\n",
              "      <td>Documentary</td>\n",
              "      <td>Angela Gurgel</td>\n",
              "      <td>\\N</td>\n",
              "      <td>\\N</td>\n",
              "    </tr>\n",
              "    <tr>\n",
              "      <th>4459237</th>\n",
              "      <td>tt9916754</td>\n",
              "      <td>6</td>\n",
              "      <td>nm8349149</td>\n",
              "      <td>director</td>\n",
              "      <td>movie</td>\n",
              "      <td>Chico Albuquerque - Revelações</td>\n",
              "      <td>2013</td>\n",
              "      <td>49</td>\n",
              "      <td>Documentary</td>\n",
              "      <td>Vinicius Augusto Bozzo</td>\n",
              "      <td>1985</td>\n",
              "      <td>\\N</td>\n",
              "    </tr>\n",
              "    <tr>\n",
              "      <th>4459238</th>\n",
              "      <td>tt9916754</td>\n",
              "      <td>7</td>\n",
              "      <td>nm9272489</td>\n",
              "      <td>cinematographer</td>\n",
              "      <td>movie</td>\n",
              "      <td>Chico Albuquerque - Revelações</td>\n",
              "      <td>2013</td>\n",
              "      <td>49</td>\n",
              "      <td>Documentary</td>\n",
              "      <td>Marcelo Alves</td>\n",
              "      <td>\\N</td>\n",
              "      <td>\\N</td>\n",
              "    </tr>\n",
              "    <tr>\n",
              "      <th>4459239</th>\n",
              "      <td>tt9916754</td>\n",
              "      <td>8</td>\n",
              "      <td>nm10538638</td>\n",
              "      <td>cinematographer</td>\n",
              "      <td>movie</td>\n",
              "      <td>Chico Albuquerque - Revelações</td>\n",
              "      <td>2013</td>\n",
              "      <td>49</td>\n",
              "      <td>Documentary</td>\n",
              "      <td>Wellington Barros</td>\n",
              "      <td>\\N</td>\n",
              "      <td>\\N</td>\n",
              "    </tr>\n",
              "    <tr>\n",
              "      <th>4459240</th>\n",
              "      <td>tt9916754</td>\n",
              "      <td>9</td>\n",
              "      <td>nm10538635</td>\n",
              "      <td>cinematographer</td>\n",
              "      <td>movie</td>\n",
              "      <td>Chico Albuquerque - Revelações</td>\n",
              "      <td>2013</td>\n",
              "      <td>49</td>\n",
              "      <td>Documentary</td>\n",
              "      <td>Odério Dias</td>\n",
              "      <td>\\N</td>\n",
              "      <td>\\N</td>\n",
              "    </tr>\n",
              "  </tbody>\n",
              "</table>\n",
              "<p>3468234 rows × 12 columns</p>\n",
              "</div>\n",
              "      <button class=\"colab-df-convert\" onclick=\"convertToInteractive('df-1564533a-fd0d-43de-b74e-e1efc0f1bf19')\"\n",
              "              title=\"Convert this dataframe to an interactive table.\"\n",
              "              style=\"display:none;\">\n",
              "        \n",
              "  <svg xmlns=\"http://www.w3.org/2000/svg\" height=\"24px\"viewBox=\"0 0 24 24\"\n",
              "       width=\"24px\">\n",
              "    <path d=\"M0 0h24v24H0V0z\" fill=\"none\"/>\n",
              "    <path d=\"M18.56 5.44l.94 2.06.94-2.06 2.06-.94-2.06-.94-.94-2.06-.94 2.06-2.06.94zm-11 1L8.5 8.5l.94-2.06 2.06-.94-2.06-.94L8.5 2.5l-.94 2.06-2.06.94zm10 10l.94 2.06.94-2.06 2.06-.94-2.06-.94-.94-2.06-.94 2.06-2.06.94z\"/><path d=\"M17.41 7.96l-1.37-1.37c-.4-.4-.92-.59-1.43-.59-.52 0-1.04.2-1.43.59L10.3 9.45l-7.72 7.72c-.78.78-.78 2.05 0 2.83L4 21.41c.39.39.9.59 1.41.59.51 0 1.02-.2 1.41-.59l7.78-7.78 2.81-2.81c.8-.78.8-2.07 0-2.86zM5.41 20L4 18.59l7.72-7.72 1.47 1.35L5.41 20z\"/>\n",
              "  </svg>\n",
              "      </button>\n",
              "      \n",
              "  <style>\n",
              "    .colab-df-container {\n",
              "      display:flex;\n",
              "      flex-wrap:wrap;\n",
              "      gap: 12px;\n",
              "    }\n",
              "\n",
              "    .colab-df-convert {\n",
              "      background-color: #E8F0FE;\n",
              "      border: none;\n",
              "      border-radius: 50%;\n",
              "      cursor: pointer;\n",
              "      display: none;\n",
              "      fill: #1967D2;\n",
              "      height: 32px;\n",
              "      padding: 0 0 0 0;\n",
              "      width: 32px;\n",
              "    }\n",
              "\n",
              "    .colab-df-convert:hover {\n",
              "      background-color: #E2EBFA;\n",
              "      box-shadow: 0px 1px 2px rgba(60, 64, 67, 0.3), 0px 1px 3px 1px rgba(60, 64, 67, 0.15);\n",
              "      fill: #174EA6;\n",
              "    }\n",
              "\n",
              "    [theme=dark] .colab-df-convert {\n",
              "      background-color: #3B4455;\n",
              "      fill: #D2E3FC;\n",
              "    }\n",
              "\n",
              "    [theme=dark] .colab-df-convert:hover {\n",
              "      background-color: #434B5C;\n",
              "      box-shadow: 0px 1px 3px 1px rgba(0, 0, 0, 0.15);\n",
              "      filter: drop-shadow(0px 1px 2px rgba(0, 0, 0, 0.3));\n",
              "      fill: #FFFFFF;\n",
              "    }\n",
              "  </style>\n",
              "\n",
              "      <script>\n",
              "        const buttonEl =\n",
              "          document.querySelector('#df-1564533a-fd0d-43de-b74e-e1efc0f1bf19 button.colab-df-convert');\n",
              "        buttonEl.style.display =\n",
              "          google.colab.kernel.accessAllowed ? 'block' : 'none';\n",
              "\n",
              "        async function convertToInteractive(key) {\n",
              "          const element = document.querySelector('#df-1564533a-fd0d-43de-b74e-e1efc0f1bf19');\n",
              "          const dataTable =\n",
              "            await google.colab.kernel.invokeFunction('convertToInteractive',\n",
              "                                                     [key], {});\n",
              "          if (!dataTable) return;\n",
              "\n",
              "          const docLinkHtml = 'Like what you see? Visit the ' +\n",
              "            '<a target=\"_blank\" href=https://colab.research.google.com/notebooks/data_table.ipynb>data table notebook</a>'\n",
              "            + ' to learn more about interactive tables.';\n",
              "          element.innerHTML = '';\n",
              "          dataTable['output_type'] = 'display_data';\n",
              "          await google.colab.output.renderOutput(dataTable, element);\n",
              "          const docLink = document.createElement('div');\n",
              "          docLink.innerHTML = docLinkHtml;\n",
              "          element.appendChild(docLink);\n",
              "        }\n",
              "      </script>\n",
              "    </div>\n",
              "  </div>\n",
              "  "
            ]
          },
          "metadata": {},
          "execution_count": 5
        }
      ],
      "source": [
        "del mainData['job']\n",
        "del mainData['endYear']\n",
        "del mainData['isAdult']\n",
        "del mainData['originalTitle']\n",
        "del mainData['characters']\n",
        "del mainData['primaryProfession']\n",
        "del mainData['knownForTitles']\n",
        "mainData"
      ]
    },
    {
      "cell_type": "code",
      "execution_count": 6,
      "metadata": {
        "id": "N45ztbwwSHC6"
      },
      "outputs": [],
      "source": [
        "### SAVE ###\n",
        "#mainData.to_csv(\"/content/mainData.csv\")"
      ]
    },
    {
      "cell_type": "code",
      "execution_count": 7,
      "metadata": {
        "id": "GG8d8Cwmk3EG"
      },
      "outputs": [],
      "source": [
        "### READ ###\n",
        "#mainData = pd.read_csv('mainData.csv', sep=',', header=0, index_col=0)\n",
        "#del mainData['knownForTitles']\n",
        "#mainData"
      ]
    },
    {
      "cell_type": "code",
      "execution_count": 8,
      "metadata": {
        "id": "3MtKiyOgc2no"
      },
      "outputs": [],
      "source": [
        "# Replace miss data with 0 values.\n",
        "mainData[\"startYear\"] = mainData[\"startYear\"].replace({\"\\\\N\": \"0\"})"
      ]
    },
    {
      "cell_type": "markdown",
      "metadata": {
        "id": "P98kYOm8wtZv"
      },
      "source": [
        "## Cast and Director Data"
      ]
    },
    {
      "cell_type": "markdown",
      "metadata": {
        "id": "GFBQu7O2recV"
      },
      "source": [
        "**Note:** In this section we created each dataset. This is important to split all mainData above."
      ]
    },
    {
      "cell_type": "code",
      "execution_count": 9,
      "metadata": {
        "colab": {
          "base_uri": "https://localhost:8080/"
        },
        "id": "QX6Rkme2dI72",
        "outputId": "58e7b8f0-f953-4f4c-865f-b54f251d9227"
      },
      "outputs": [
        {
          "output_type": "execute_result",
          "data": {
            "text/plain": [
              "1914823"
            ]
          },
          "metadata": {},
          "execution_count": 9
        }
      ],
      "source": [
        "cast_director_data = mainData[(mainData.category == \"actor\") | (mainData.category == \"actress\") | (mainData.category == \"director\")]\n",
        "#directorsData = mainData[(mainData.category == \"director\")]\n",
        "\n",
        "len(cast_director_data)"
      ]
    },
    {
      "cell_type": "code",
      "execution_count": 10,
      "metadata": {
        "colab": {
          "base_uri": "https://localhost:8080/"
        },
        "id": "hVJtUQotVAyM",
        "outputId": "694b5bf3-5fcf-4018-e0b1-86ec022968ed"
      },
      "outputs": [
        {
          "output_type": "execute_result",
          "data": {
            "text/plain": [
              "106423"
            ]
          },
          "metadata": {},
          "execution_count": 10
        }
      ],
      "source": [
        "cast_director_data = cast_director_data[(cast_director_data.startYear.astype(int) >= 2000)]\n",
        "cast_director_data = cast_director_data[cast_director_data[\"genres\"].str.contains(\"Action\")]\n",
        "len(cast_director_data)"
      ]
    },
    {
      "cell_type": "markdown",
      "metadata": {
        "id": "xaK1qJYCRPwx"
      },
      "source": [
        "### Create List For Each Dataset"
      ]
    },
    {
      "cell_type": "markdown",
      "metadata": {
        "id": "8RBmopKsZO_R"
      },
      "source": [
        "The future work will be on other datasets like train, test and validation datasets."
      ]
    },
    {
      "cell_type": "code",
      "execution_count": null,
      "metadata": {
        "colab": {
          "background_save": true
        },
        "id": "BG6ndow1w-br"
      },
      "outputs": [],
      "source": [
        "groupData = cast_director_data.groupby('tconst')\n",
        "\n",
        "listGroupData = list(groupData.groups)"
      ]
    },
    {
      "cell_type": "code",
      "execution_count": null,
      "metadata": {
        "colab": {
          "background_save": true
        },
        "id": "WPL7eMXZDnRc"
      },
      "outputs": [],
      "source": [
        "edgesList = []"
      ]
    },
    {
      "cell_type": "code",
      "execution_count": null,
      "metadata": {
        "colab": {
          "base_uri": "https://localhost:8080/"
        },
        "id": "S_FhzCbj8x4F",
        "outputId": "edbe7553-e99b-49e0-ced5-c1ed5165c73a"
      },
      "outputs": [
        {
          "name": "stdout",
          "output_type": "stream",
          "text": [
            "80373\n"
          ]
        }
      ],
      "source": [
        "for eachMovie in listGroupData:\n",
        "    oneGroup = groupData.get_group(eachMovie)\n",
        "    if (oneGroup.category.str.contains(pat=\"actor\").any() or oneGroup.category.str.contains(pat=\"actress\").any()):\n",
        "        if ((oneGroup.category.str.contains(pat=\"director\").any())):\n",
        "            for personIndex1, personRow1 in oneGroup.iterrows():\n",
        "                checkValue1 = personRow1.category\n",
        "                if(checkValue1 == \"director\"):\n",
        "                    for personIndex2, personRow2 in oneGroup.iterrows():\n",
        "                        checkValue2 = personRow2.category\n",
        "                        if(checkValue2 == \"actor\" or checkValue2 == \"actress\"):\n",
        "                            edgesList.append(\"d_\" + personRow1.nconst + \",c_\" + personRow2.nconst)\n",
        "\n",
        "print(len(edgesList))"
      ]
    },
    {
      "cell_type": "code",
      "execution_count": null,
      "metadata": {
        "colab": {
          "background_save": true
        },
        "id": "ABFNMBEgHV1s"
      },
      "outputs": [],
      "source": [
        "with open('general_network_links.txt', 'w') as f:\n",
        "    for item in edgesList:\n",
        "        f.write(\"%s\\n\" % item)"
      ]
    },
    {
      "cell_type": "markdown",
      "metadata": {
        "id": "xwhw1mzyaR-X"
      },
      "source": [
        "# **DATA PROCCESS**"
      ]
    },
    {
      "cell_type": "markdown",
      "metadata": {
        "id": "GuBNc0xPfmYk"
      },
      "source": [
        "## Necessary Libraries"
      ]
    },
    {
      "cell_type": "code",
      "execution_count": 29,
      "metadata": {
        "id": "58yr0aFPIkWD"
      },
      "outputs": [],
      "source": [
        "import pandas as pd\n",
        "import networkx as nx\n",
        "from collections import Counter\n",
        "import matplotlib.pyplot as plt\n",
        "from networkx.algorithms import bipartite\n",
        "import gensim\n",
        "import random\n",
        "import numpy as np"
      ]
    },
    {
      "cell_type": "markdown",
      "metadata": {
        "id": "VfVcsNM3TljC"
      },
      "source": [
        "## Create Network"
      ]
    },
    {
      "cell_type": "code",
      "execution_count": 25,
      "metadata": {
        "colab": {
          "base_uri": "https://localhost:8080/"
        },
        "id": "Hvw90q6jHcgn",
        "outputId": "47be2192-6fdd-4e6e-8991-a5b4374ace59"
      },
      "outputs": [
        {
          "output_type": "stream",
          "name": "stdout",
          "text": [
            "General Dataset: 75679\n"
          ]
        }
      ],
      "source": [
        "edgesData = pd.read_csv('general_network_links.txt', sep=',', header=None)\n",
        "edgesData.columns = [\"director\", \"movie_star\"]\n",
        "\n",
        "counted = edgesData.groupby(edgesData.columns.tolist()).size().reset_index().\\\n",
        "    rename(columns={0:'weight'})\n",
        "\n",
        "counted = counted.sort_values(by=\"weight\")\n",
        "\n",
        "print(\"General Dataset: \" + str(len(counted)))"
      ]
    },
    {
      "cell_type": "code",
      "execution_count": 26,
      "metadata": {
        "colab": {
          "base_uri": "https://localhost:8080/",
          "height": 143
        },
        "id": "SYpxIG0xqtqk",
        "outputId": "607a29c2-b2da-43f3-ebd2-92a9499d6cdd"
      },
      "outputs": [
        {
          "output_type": "execute_result",
          "data": {
            "text/plain": [
              "          director   movie_star  weight\n",
              "0      d_nm0000091  c_nm0000449       1\n",
              "50048  d_nm3309599  c_nm5191929       1\n",
              "50047  d_nm3309599  c_nm3286374       1"
            ],
            "text/html": [
              "\n",
              "  <div id=\"df-4126739e-9bd2-43ae-a4c6-1bf6a87c44c9\">\n",
              "    <div class=\"colab-df-container\">\n",
              "      <div>\n",
              "<style scoped>\n",
              "    .dataframe tbody tr th:only-of-type {\n",
              "        vertical-align: middle;\n",
              "    }\n",
              "\n",
              "    .dataframe tbody tr th {\n",
              "        vertical-align: top;\n",
              "    }\n",
              "\n",
              "    .dataframe thead th {\n",
              "        text-align: right;\n",
              "    }\n",
              "</style>\n",
              "<table border=\"1\" class=\"dataframe\">\n",
              "  <thead>\n",
              "    <tr style=\"text-align: right;\">\n",
              "      <th></th>\n",
              "      <th>director</th>\n",
              "      <th>movie_star</th>\n",
              "      <th>weight</th>\n",
              "    </tr>\n",
              "  </thead>\n",
              "  <tbody>\n",
              "    <tr>\n",
              "      <th>0</th>\n",
              "      <td>d_nm0000091</td>\n",
              "      <td>c_nm0000449</td>\n",
              "      <td>1</td>\n",
              "    </tr>\n",
              "    <tr>\n",
              "      <th>50048</th>\n",
              "      <td>d_nm3309599</td>\n",
              "      <td>c_nm5191929</td>\n",
              "      <td>1</td>\n",
              "    </tr>\n",
              "    <tr>\n",
              "      <th>50047</th>\n",
              "      <td>d_nm3309599</td>\n",
              "      <td>c_nm3286374</td>\n",
              "      <td>1</td>\n",
              "    </tr>\n",
              "  </tbody>\n",
              "</table>\n",
              "</div>\n",
              "      <button class=\"colab-df-convert\" onclick=\"convertToInteractive('df-4126739e-9bd2-43ae-a4c6-1bf6a87c44c9')\"\n",
              "              title=\"Convert this dataframe to an interactive table.\"\n",
              "              style=\"display:none;\">\n",
              "        \n",
              "  <svg xmlns=\"http://www.w3.org/2000/svg\" height=\"24px\"viewBox=\"0 0 24 24\"\n",
              "       width=\"24px\">\n",
              "    <path d=\"M0 0h24v24H0V0z\" fill=\"none\"/>\n",
              "    <path d=\"M18.56 5.44l.94 2.06.94-2.06 2.06-.94-2.06-.94-.94-2.06-.94 2.06-2.06.94zm-11 1L8.5 8.5l.94-2.06 2.06-.94-2.06-.94L8.5 2.5l-.94 2.06-2.06.94zm10 10l.94 2.06.94-2.06 2.06-.94-2.06-.94-.94-2.06-.94 2.06-2.06.94z\"/><path d=\"M17.41 7.96l-1.37-1.37c-.4-.4-.92-.59-1.43-.59-.52 0-1.04.2-1.43.59L10.3 9.45l-7.72 7.72c-.78.78-.78 2.05 0 2.83L4 21.41c.39.39.9.59 1.41.59.51 0 1.02-.2 1.41-.59l7.78-7.78 2.81-2.81c.8-.78.8-2.07 0-2.86zM5.41 20L4 18.59l7.72-7.72 1.47 1.35L5.41 20z\"/>\n",
              "  </svg>\n",
              "      </button>\n",
              "      \n",
              "  <style>\n",
              "    .colab-df-container {\n",
              "      display:flex;\n",
              "      flex-wrap:wrap;\n",
              "      gap: 12px;\n",
              "    }\n",
              "\n",
              "    .colab-df-convert {\n",
              "      background-color: #E8F0FE;\n",
              "      border: none;\n",
              "      border-radius: 50%;\n",
              "      cursor: pointer;\n",
              "      display: none;\n",
              "      fill: #1967D2;\n",
              "      height: 32px;\n",
              "      padding: 0 0 0 0;\n",
              "      width: 32px;\n",
              "    }\n",
              "\n",
              "    .colab-df-convert:hover {\n",
              "      background-color: #E2EBFA;\n",
              "      box-shadow: 0px 1px 2px rgba(60, 64, 67, 0.3), 0px 1px 3px 1px rgba(60, 64, 67, 0.15);\n",
              "      fill: #174EA6;\n",
              "    }\n",
              "\n",
              "    [theme=dark] .colab-df-convert {\n",
              "      background-color: #3B4455;\n",
              "      fill: #D2E3FC;\n",
              "    }\n",
              "\n",
              "    [theme=dark] .colab-df-convert:hover {\n",
              "      background-color: #434B5C;\n",
              "      box-shadow: 0px 1px 3px 1px rgba(0, 0, 0, 0.15);\n",
              "      filter: drop-shadow(0px 1px 2px rgba(0, 0, 0, 0.3));\n",
              "      fill: #FFFFFF;\n",
              "    }\n",
              "  </style>\n",
              "\n",
              "      <script>\n",
              "        const buttonEl =\n",
              "          document.querySelector('#df-4126739e-9bd2-43ae-a4c6-1bf6a87c44c9 button.colab-df-convert');\n",
              "        buttonEl.style.display =\n",
              "          google.colab.kernel.accessAllowed ? 'block' : 'none';\n",
              "\n",
              "        async function convertToInteractive(key) {\n",
              "          const element = document.querySelector('#df-4126739e-9bd2-43ae-a4c6-1bf6a87c44c9');\n",
              "          const dataTable =\n",
              "            await google.colab.kernel.invokeFunction('convertToInteractive',\n",
              "                                                     [key], {});\n",
              "          if (!dataTable) return;\n",
              "\n",
              "          const docLinkHtml = 'Like what you see? Visit the ' +\n",
              "            '<a target=\"_blank\" href=https://colab.research.google.com/notebooks/data_table.ipynb>data table notebook</a>'\n",
              "            + ' to learn more about interactive tables.';\n",
              "          element.innerHTML = '';\n",
              "          dataTable['output_type'] = 'display_data';\n",
              "          await google.colab.output.renderOutput(dataTable, element);\n",
              "          const docLink = document.createElement('div');\n",
              "          docLink.innerHTML = docLinkHtml;\n",
              "          element.appendChild(docLink);\n",
              "        }\n",
              "      </script>\n",
              "    </div>\n",
              "  </div>\n",
              "  "
            ]
          },
          "metadata": {},
          "execution_count": 26
        }
      ],
      "source": [
        "counted[:3]"
      ]
    },
    {
      "cell_type": "code",
      "execution_count": 27,
      "metadata": {
        "id": "DvB9nMu5ZO_T"
      },
      "outputs": [],
      "source": [
        "# Get them and upload to cosmograph\n",
        "counted.to_csv('edgeslist.csv')\n",
        "counted.director.to_csv('nodes_director.csv')\n",
        "counted.movie_star.to_csv('nodes_movie_star.csv')"
      ]
    },
    {
      "cell_type": "markdown",
      "metadata": {
        "id": "I3AFA7DKgV7B"
      },
      "source": [
        "**Note:** We created bipartite and weighted network."
      ]
    },
    {
      "cell_type": "code",
      "execution_count": 28,
      "metadata": {
        "id": "wpRP0MUATDUD"
      },
      "outputs": [],
      "source": [
        "left_list = counted.director.to_list()\n",
        "right_list = counted.movie_star.to_list()\n",
        "weight_list = counted.weight.to_list()\n",
        "\n",
        "with open('edgelist.txt', 'w') as f:\n",
        "    for item1, item2, item3 in zip(left_list, right_list, weight_list):\n",
        "        f.write(item1 + \" \" + item2 + \" \" + str(item3) + \"\\n\")\n",
        "\n",
        "with open('left.txt', 'w') as f:\n",
        "    for item in left_list:\n",
        "        f.write(\"%s\\n\" % item)\n",
        "\n",
        "with open('right.txt', 'w') as f:\n",
        "    for item in right_list:\n",
        "        f.write(\"%s\\n\" % item)"
      ]
    },
    {
      "cell_type": "code",
      "execution_count": 29,
      "metadata": {
        "colab": {
          "base_uri": "https://localhost:8080/"
        },
        "id": "wpeZTEmbFIZt",
        "outputId": "90536ce2-3fd2-4f04-c002-f8d1382a7cc9"
      },
      "outputs": [
        {
          "output_type": "stream",
          "name": "stdout",
          "text": [
            "Right: 47173 Left: 12882\n"
          ]
        }
      ],
      "source": [
        "left = [line.rstrip('\\n') for line in open(\"left.txt\")]\n",
        "right = [line.rstrip('\\n') for line in open(\"right.txt\")]\n",
        "\n",
        "left = list(set(left))\n",
        "right = list(set(right))\n",
        "\n",
        "print(\"Right: \" + str(len(right)) + \" Left: \" + str(len(left)))"
      ]
    },
    {
      "cell_type": "code",
      "execution_count": 30,
      "metadata": {
        "id": "QVmTsYVQHNUV"
      },
      "outputs": [],
      "source": [
        "edge_list = [line.rstrip('\\n') for line in open(\"edgelist.txt\")]\n",
        "\n",
        "a_list = []\n",
        "\n",
        "for elem in edge_list:\n",
        "    a_list.append(tuple(elem.split(\" \")))"
      ]
    },
    {
      "cell_type": "code",
      "execution_count": 31,
      "metadata": {
        "colab": {
          "base_uri": "https://localhost:8080/"
        },
        "id": "iJnoEIqKFrGB",
        "outputId": "641e4dcf-a139-43e9-9080-6d0a4a725afb"
      },
      "outputs": [
        {
          "output_type": "stream",
          "name": "stdout",
          "text": [
            "This network bipartite and weighted?\n",
            "True\n",
            "True\n"
          ]
        }
      ],
      "source": [
        "graph = nx.Graph()\n",
        "graph.add_nodes_from(right, bipartite=0)\n",
        "graph.add_nodes_from(left, bipartite=1)\n",
        "\n",
        "[graph.add_edge(x, y, weight=int(z)) for x, y, z in a_list]\n",
        "\n",
        "#print(nx.info(graph))\n",
        "print(\"This network bipartite and weighted?\")\n",
        "print(nx.is_bipartite(graph))\n",
        "print(nx.is_weighted(graph))"
      ]
    },
    {
      "cell_type": "code",
      "execution_count": 32,
      "metadata": {
        "colab": {
          "base_uri": "https://localhost:8080/",
          "height": 450
        },
        "id": "oiZhBKDcA1vP",
        "outputId": "ffe80b7a-ba27-4158-f958-8b8ee4af5710"
      },
      "outputs": [
        {
          "output_type": "display_data",
          "data": {
            "text/plain": [
              "<Figure size 1280x480 with 1 Axes>"
            ],
            "image/png": "[encoded data removed]"
          },
          "metadata": {}
        }
      ],
      "source": [
        "## degree distribution or degree histogram\n",
        "from matplotlib.pyplot import figure\n",
        "\n",
        "figure(num=None, figsize=(16, 6), dpi=80, facecolor='w', edgecolor='k')\n",
        "\n",
        "def plot_degree_dist(graph):\n",
        "    degrees = [val for (node, val) in graph.degree()]\n",
        "    all_degrees=list(degrees)\n",
        "    unique_degrees=list(set(all_degrees))\n",
        "\n",
        "    count_degrees=[]\n",
        "    for i in unique_degrees:\n",
        "        x = all_degrees.count(i)\n",
        "        count_degrees.append(x)\n",
        "    plt.loglog(unique_degrees, count_degrees, color=\"green\")\n",
        "    plt.show()\n",
        "\n",
        "    \n",
        "plt.title(\"Degree Histogram\")\n",
        "plt.ylabel(\"Number of Nodes\")    \n",
        "plt.xlabel(\"Degree\")\n",
        "\n",
        "plot_degree_dist(graph)"
      ]
    },
    {
      "cell_type": "code",
      "execution_count": null,
      "metadata": {
        "id": "OEzEaaY_OtB1"
      },
      "outputs": [],
      "source": [
        "import networkx as nx\n",
        "import matplotlib.pyplot as plt\n",
        "import random\n",
        "\n",
        "# Select two random nodes\n",
        "nodes = random.sample(list(graph.nodes()), 10000)\n",
        "\n",
        "# Select all edges incident to the nodes\n",
        "edges = []\n",
        "for node in nodes:\n",
        "    edges.extend(list(graph.edges(node)))\n",
        "\n",
        "# Create a subgraph containing the selected edges and the nodes they connect\n",
        "subG = nx.Graph()\n",
        "subG.add_edges_from(edges)\n",
        "\n",
        "# Draw the subgraph\n",
        "nx.draw(subG, with_labels=False, node_size=3)\n",
        "\n",
        "# Show the plot\n",
        "plt.show()"
      ]
    },
    {
      "cell_type": "code",
      "source": [
        "# Select a random node from one of the node sets\n",
        "node_set = random.choice([list(graph.nodes()), list(graph.nodes())])\n",
        "node = random.choice(node_set)\n",
        "\n",
        "# Select all edges incident to the node\n",
        "edges = graph.edges(node)\n",
        "\n",
        "# Add the node and its incident edges to the subgraph\n",
        "subG = nx.Graph()\n",
        "subG.add_edges_from(edges)\n",
        "subG.add_node(node)\n",
        "\n",
        "# Repeat the process until the desired number of nodes is reached\n",
        "num_nodes = 10  # Number of nodes to select\n",
        "while subG.number_of_nodes() < num_nodes:\n",
        "    # Select a random node from the graph that is not already in the subgraph\n",
        "    node_set = random.choice([list(graph.nodes()), list(graph.nodes())])\n",
        "    node = random.choice([n for n in node_set if n not in subG.nodes()])\n",
        "    edges = graph.edges(node)\n",
        "    subG.add_edges_from(edges)\n",
        "    subG.add_node(node)\n",
        "\n",
        "# Color the nodes in the subgraph according to their node sets\n",
        "colors = []\n",
        "for node in subG.nodes():\n",
        "    if node in left:\n",
        "        colors.append('blue')\n",
        "    else:\n",
        "        colors.append('red')\n",
        "\n",
        "# Draw the subgraph\n",
        "pos = nx.bipartite_layout(subG, left)\n",
        "nx.draw(subG, pos, with_labels=True, font_size=8, node_color=colors, node_size=10)\n",
        "\n",
        "# Show the plot\n",
        "plt.show()"
      ],
      "metadata": {
        "colab": {
          "base_uri": "https://localhost:8080/",
          "height": 319
        },
        "id": "Pde4wKF9bnjD",
        "outputId": "8da60e49-a7c2-4e73-c8b9-239804b4f2c6"
      },
      "execution_count": 61,
      "outputs": [
        {
          "output_type": "display_data",
          "data": {
            "text/plain": [
              "<Figure size 432x288 with 1 Axes>"
            ],
            "image/png": "[encoded data removed]"
          },
          "metadata": {}
        }
      ]
    },
    {
      "cell_type": "code",
      "execution_count": null,
      "metadata": {
        "id": "idIbqffBZO_U"
      },
      "outputs": [],
      "source": [
        "### If you want to get visualization of graph, please run it. ###\n",
        "### Because of insufficient hardware, it needs to be runned in better computers, or needs to be runned with smaller data.\n",
        "\n",
        "import networkx as nx\n",
        "from collections import Counter\n",
        "import matplotlib.pyplot as plt\n",
        "\n",
        "sp = nx.spring_layout(graph)\n",
        "\n",
        "plt.axis(\"off\")\n",
        "plt.figure(figsize=(100,100))\n",
        "\n",
        "nx.draw_networkx(graph, pos=sp, with_labels=False, node_size=1)\n",
        "\n",
        "plt.savefig(\"general_plt.pdf\")\n",
        "nx.write_edgelist(graph, \"edgesData.edgelist\", data=['weight'])"
      ]
    },
    {
      "cell_type": "markdown",
      "metadata": {
        "id": "KuzvE-lMuKgV"
      },
      "source": [
        "#### Descriptive Info"
      ]
    },
    {
      "cell_type": "code",
      "execution_count": 39,
      "metadata": {
        "id": "aTFUXy8pTvBh",
        "colab": {
          "base_uri": "https://localhost:8080/"
        },
        "outputId": "a3f81135-3774-4707-f1b0-55affa35b8bc"
      },
      "outputs": [
        {
          "output_type": "stream",
          "name": "stdout",
          "text": [
            "The most central node is d_nm0757084\n"
          ]
        }
      ],
      "source": [
        "# Calculate the degree centrality of each node\n",
        "degree_centrality = nx.degree_centrality(graph)\n",
        "\n",
        "# Find the node with the highest degree centrality\n",
        "most_central_node = max(degree_centrality, key=degree_centrality.get)\n",
        "print(f'The most central node is {most_central_node}')"
      ]
    },
    {
      "cell_type": "code",
      "execution_count": null,
      "metadata": {
        "id": "7L6iBAa9UAx_"
      },
      "outputs": [],
      "source": [
        "### Because of insufficient hardware, it needs to be runned in better computers, or needs to be runned with smaller data.\n",
        "# Calculate the centrality of each node\n",
        "betweenness_centrality = nx.betweenness_centrality(graph)\n",
        "\n",
        "# Find the node with the highest centrality\n",
        "most_central_node = max(betweenness_centrality, key=betweenness_centrality.get)\n",
        "print(f'The most central node is {most_central_node}')"
      ]
    },
    {
      "cell_type": "code",
      "execution_count": null,
      "metadata": {
        "id": "h1NFYuniT-vk"
      },
      "outputs": [],
      "source": [
        "### Because of insufficient hardware, it needs to be runned in better computers, or needs to be runned with smaller data.\n",
        "# Calculate the centrality of each node\n",
        "closeness_centrality = nx.closeness_centrality(graph)\n",
        "\n",
        "# Find the node with the highest centrality\n",
        "most_central_node = max(closeness_centrality, key=closeness_centrality.get)\n",
        "print(f'The most central node is {most_central_node}')"
      ]
    },
    {
      "cell_type": "code",
      "execution_count": 50,
      "metadata": {
        "id": "QJvrhla2T-LN",
        "colab": {
          "base_uri": "https://localhost:8080/"
        },
        "outputId": "509e2081-aea3-4f39-d4ec-3198306cc252"
      },
      "outputs": [
        {
          "output_type": "stream",
          "name": "stdout",
          "text": [
            "The most central node is d_nm0700872\n"
          ]
        }
      ],
      "source": [
        "# Calculate the centrality of each node\n",
        "eigenvector_centrality = nx.eigenvector_centrality(graph)\n",
        "\n",
        "# Find the node with the highest centrality\n",
        "most_central_node = max(eigenvector_centrality, key=eigenvector_centrality.get)\n",
        "print(f'The most central node is {most_central_node}')"
      ]
    },
    {
      "cell_type": "code",
      "source": [
        "# Select a random node from one of the node sets\n",
        "node_set = random.choice([list(graph.nodes()), list(graph.nodes())])\n",
        "node = 'd_nm0700872' #Most central node\n",
        "\n",
        "# Select all edges incident to the node\n",
        "edges = graph.edges(node)\n",
        "\n",
        "# Add the node and its incident edges to the subgraph\n",
        "subG = nx.Graph()\n",
        "subG.add_edges_from(edges)\n",
        "subG.add_node(node)\n",
        " \n",
        "# Add another most central node\n",
        "node = 'd_nm0757084'\n",
        "edges = graph.edges(node)\n",
        "subG.add_edges_from(edges)\n",
        "subG.add_node(node)\n",
        "\n",
        "# Repeat the process until the desired number of nodes is reached\n",
        "num_nodes = 3  # Number of nodes to select\n",
        "while subG.number_of_nodes() < num_nodes:\n",
        "    # Select a random node from the graph that is not already in the subgraph\n",
        "    node_set = random.choice([list(graph.nodes()), list(graph.nodes())])\n",
        "    node = random.choice([n for n in node_set if n not in subG.nodes()])\n",
        "    edges = graph.edges(node)\n",
        "    subG.add_edges_from(edges)\n",
        "    subG.add_node(node)\n",
        "\n",
        "# Color the nodes in the subgraph according to their node sets\n",
        "colors = []\n",
        "for node in subG.nodes():\n",
        "    if node in left:\n",
        "        colors.append('blue')\n",
        "    else:\n",
        "        colors.append('red')\n",
        "\n",
        "# Draw the subgraph\n",
        "pos = nx.bipartite_layout(subG, left)\n",
        "nx.draw(subG, pos, with_labels=True, font_size=8, node_color=colors, node_size=10)\n",
        "\n",
        "# Show the plot\n",
        "plt.show()"
      ],
      "metadata": {
        "colab": {
          "base_uri": "https://localhost:8080/",
          "height": 319
        },
        "id": "Xv6qgjkWmaKF",
        "outputId": "bd308531-d79b-49c2-9761-f94637ef9af8"
      },
      "execution_count": 59,
      "outputs": [
        {
          "output_type": "display_data",
          "data": {
            "text/plain": [
              "<Figure size 432x288 with 1 Axes>"
            ],
            "image/png": "[encoded data removed]"
          },
          "metadata": {}
        }
      ]
    },
    {
      "cell_type": "markdown",
      "metadata": {
        "id": "yL9Kmx8vUD2y"
      },
      "source": [
        "- List of centrality nodes"
      ]
    },
    {
      "cell_type": "code",
      "execution_count": null,
      "metadata": {
        "id": "q7hHjrHhB-Dr"
      },
      "outputs": [],
      "source": [
        "### Because of insufficient hardware, it needs to be runned in better computers, or needs to be runned with smaller data.\n",
        "\n",
        "small_general_pgr = nx.pagerank(small_general_graph)\n",
        "print(str(small_general_pgr))"
      ]
    },
    {
      "cell_type": "code",
      "execution_count": null,
      "metadata": {
        "id": "ryuy1NMNajn9"
      },
      "outputs": [],
      "source": [
        "### Because of insufficient hardware, it needs to be runned in better computers, or needs to be runned with smaller data.\n",
        "\n",
        "small_general_btw = nx.betweenness_centrality(small_general_graph)\n",
        "print(str(small_general_btw))"
      ]
    },
    {
      "cell_type": "code",
      "execution_count": null,
      "metadata": {
        "id": "HnF57r3MalT0"
      },
      "outputs": [],
      "source": [
        "### Because of insufficient hardware, it needs to be runned in better computers, or needs to be runned with smaller data.\n",
        "\n",
        "small_general_cls = nx.closeness_centrality(small_general_graph)\n",
        "print(str(small_general_cls))"
      ]
    },
    {
      "cell_type": "markdown",
      "metadata": {
        "id": "1_YNrDDYZO_U"
      },
      "source": [
        "# Prediction Studies of Links"
      ]
    },
    {
      "cell_type": "markdown",
      "metadata": {
        "id": "hm46x3GRZO_U"
      },
      "source": [
        "## Split MainData To Train, Val and Test\n",
        "\n",
        "This will be applied in the future works."
      ]
    },
    {
      "cell_type": "code",
      "execution_count": 12,
      "metadata": {
        "id": "E2zNn76yZO_U",
        "outputId": "e3abe4e2-2921-4357-94eb-99446d6f2b92",
        "colab": {
          "base_uri": "https://localhost:8080/"
        }
      },
      "outputs": [
        {
          "output_type": "execute_result",
          "data": {
            "text/plain": [
              "106423"
            ]
          },
          "metadata": {},
          "execution_count": 12
        }
      ],
      "source": [
        "cast_director_data = mainData[(mainData.category == \"actor\") | (mainData.category == \"actress\") | (mainData.category == \"director\")]\n",
        "\n",
        "cast_director_data = cast_director_data[(cast_director_data.startYear.astype(int) >= 2000)]\n",
        "cast_director_data = cast_director_data[cast_director_data[\"genres\"].str.contains(\"Action\")]\n",
        "\n",
        "len(cast_director_data)"
      ]
    },
    {
      "cell_type": "code",
      "execution_count": 13,
      "metadata": {
        "id": "p1JF8j9KSiCd"
      },
      "outputs": [],
      "source": [
        "trainData                = cast_director_data[(cast_director_data.startYear.astype(int) <= 2010) & (cast_director_data.startYear.astype(int) >= 2000)]\n",
        "trainDependentSeenData   = cast_director_data[(cast_director_data.startYear.astype(int) <= 2015) & (cast_director_data.startYear.astype(int) >= 2011)]\n",
        "testData                 = cast_director_data[(cast_director_data.startYear.astype(int) <= 2018) & (cast_director_data.startYear.astype(int) >= 2008)]\n",
        "testDependentSeenData    = cast_director_data[(cast_director_data.startYear.astype(int) <= 2022) & (cast_director_data.startYear.astype(int) >= 2019)]"
      ]
    },
    {
      "cell_type": "markdown",
      "source": [
        "# Create false and true edges; AND Networkx graphs and Their embeddings"
      ],
      "metadata": {
        "id": "8IOdjokDwl3w"
      }
    },
    {
      "cell_type": "code",
      "source": [
        "###############################################################################\n",
        "###############################################################################\n",
        "### TRAIN\n",
        "###############################################################################\n",
        "###############################################################################\n",
        "\n",
        "groupData = trainData.groupby('tconst')\n",
        "\n",
        "listGroupData = list(groupData.groups)\n",
        "\n",
        "edgesList = []\n",
        "\n",
        "for eachMovie in listGroupData:\n",
        "    oneGroup = groupData.get_group(eachMovie)\n",
        "    if (oneGroup.category.str.contains(pat=\"actor\").any() or oneGroup.category.str.contains(pat=\"actress\").any()):\n",
        "        if ((oneGroup.category.str.contains(pat=\"director\").any())):\n",
        "            for personIndex1, personRow1 in oneGroup.iterrows():\n",
        "                checkValue1 = personRow1.category\n",
        "                if(checkValue1 == \"director\"):\n",
        "                    for personIndex2, personRow2 in oneGroup.iterrows():\n",
        "                        checkValue2 = personRow2.category\n",
        "                        if(checkValue2 == \"actor\" or checkValue2 == \"actress\"):\n",
        "                            edgesList.append(\"d_\" + personRow1.nconst + \",c_\" + personRow2.nconst)\n",
        "\n",
        "print(len(edgesList))\n",
        "\n",
        "with open('train_edges_network_links.txt', 'w') as f:\n",
        "    for item in edgesList:\n",
        "        f.write(\"%s\\n\" % item)"
      ],
      "metadata": {
        "colab": {
          "base_uri": "https://localhost:8080/"
        },
        "id": "JjiWspsAkDi_",
        "outputId": "6afad01e-2ae8-4abd-c37c-322c0b7c6ec2"
      },
      "execution_count": 14,
      "outputs": [
        {
          "output_type": "stream",
          "name": "stdout",
          "text": [
            "25078\n"
          ]
        }
      ]
    },
    {
      "cell_type": "code",
      "source": [
        "edgesData = pd.read_csv('train_edges_network_links.txt', sep=',', header=None)\n",
        "edgesData.columns = [\"director\", \"movie_star\"]\n",
        "\n",
        "counted = edgesData.groupby(edgesData.columns.tolist()).size().reset_index().\\\n",
        "    rename(columns={0:'weight'})\n",
        "\n",
        "counted = counted.sort_values(by=\"weight\")\n",
        "\n",
        "print(\"General Dataset: \" + str(len(counted)))\n",
        "\n",
        "left_list = counted.director.to_list()\n",
        "right_list = counted.movie_star.to_list()\n",
        "weight_list = counted.weight.to_list()\n",
        "\n",
        "with open('edgelist.txt', 'w') as f:\n",
        "    for item1, item2, item3 in zip(left_list, right_list, weight_list):\n",
        "        f.write(item1 + \" \" + item2 + \" \" + str(item3) + \"\\n\")\n",
        "\n",
        "with open('left.txt', 'w') as f:\n",
        "    for item in left_list:\n",
        "        f.write(\"%s\\n\" % item)\n",
        "\n",
        "with open('right.txt', 'w') as f:\n",
        "    for item in right_list:\n",
        "        f.write(\"%s\\n\" % item)\n",
        "        \n",
        "left = [line.rstrip('\\n') for line in open(\"left.txt\")]\n",
        "right = [line.rstrip('\\n') for line in open(\"right.txt\")]\n",
        "\n",
        "left = list(set(left))\n",
        "right = list(set(right))\n",
        "\n",
        "print(\"Right: \" + str(len(right)) + \" Left: \" + str(len(left)))\n",
        "\n",
        "edge_list = [line.rstrip('\\n') for line in open(\"edgelist.txt\")]\n",
        "\n",
        "a_list = []\n",
        "\n",
        "for elem in edge_list:\n",
        "    a_list.append(tuple(elem.split(\" \")))\n",
        "    \n",
        "graph = nx.Graph()\n",
        "graph.add_nodes_from(right, bipartite=0)\n",
        "graph.add_nodes_from(left, bipartite=1)\n",
        "\n",
        "[graph.add_edge(x, y, weight=int(z)) for x, y, z in a_list]\n",
        "\n",
        "print(nx.info(graph))\n",
        "print(\"This network bipartite and weighted?\")\n",
        "print(nx.is_bipartite(graph))\n",
        "print(nx.is_weighted(graph))\n",
        "\n",
        "graph_nodes = []\n",
        "gen_graph_links = []\n",
        "     \n",
        "\n",
        "counter = 0\n",
        "while(counter < 10000):\n",
        "  graph_nodes = []\n",
        "  right_elem = random.choice(right)\n",
        "  left_elem = random.choice(left)\n",
        "  if(graph.has_edge(left_elem, right_elem) == False):\n",
        "    graph_nodes.append(right_elem)\n",
        "    graph_nodes.append(left_elem)\n",
        "    if not graph_nodes in gen_graph_links:\n",
        "        counter = counter + 1\n",
        "        gen_graph_links.append(graph_nodes)\n",
        "     \n",
        "\n",
        "with open('train_edges_network_links_false.txt', 'w') as f:\n",
        "    for item in gen_graph_links:\n",
        "        f.write(\"%s\\n\" % item)"
      ],
      "metadata": {
        "colab": {
          "base_uri": "https://localhost:8080/"
        },
        "id": "2IL3lH_-lHcc",
        "outputId": "0d36a069-423d-4466-b164-2bf335e1743f"
      },
      "execution_count": 16,
      "outputs": [
        {
          "output_type": "stream",
          "name": "stdout",
          "text": [
            "General Dataset: 23717\n",
            "Right: 15302 Left: 4330\n"
          ]
        },
        {
          "output_type": "stream",
          "name": "stderr",
          "text": [
            "<ipython-input-16-a4fa4c37bc87>:48: DeprecationWarning: info is deprecated and will be removed in version 3.0.\n",
            "\n",
            "  print(nx.info(graph))\n"
          ]
        },
        {
          "output_type": "stream",
          "name": "stdout",
          "text": [
            "Graph with 19632 nodes and 23717 edges\n",
            "This network bipartite and weighted?\n",
            "True\n",
            "True\n"
          ]
        }
      ]
    },
    {
      "cell_type": "code",
      "source": [
        "from node2vec import Node2Vec\n",
        "\n",
        "# Precompute probabilities and generate walks - **ON WINDOWS ONLY WORKS WITH workers=1**\n",
        "node2vec = Node2Vec(graph, dimensions=6, walk_length=10, num_walks=3, workers=2, weight_key=\"weight\")  # Use temp_folder for big graphs\n",
        "\n",
        "# Embed nodes\n",
        "model = node2vec.fit(window=10, min_count=1, batch_words=4)  # Any keywords acceptable by gensim.Word2Vec can be passed, `diemnsions` and `workers` are automatically passed (from the Node2Vec constructor)\n",
        "\n",
        "EMBEDDING_FILENAME = 'emb/train_embeddings.emb'\n",
        "EMBEDDING_MODEL_FILENAME = 'emb/train_embeddings.model'\n",
        "\n",
        "# Save embeddings for later use\n",
        "model.wv.save_word2vec_format(EMBEDDING_FILENAME)\n",
        "\n",
        "# Save model for later use\n",
        "model.save(EMBEDDING_MODEL_FILENAME)"
      ],
      "metadata": {
        "colab": {
          "base_uri": "https://localhost:8080/",
          "height": 49,
          "referenced_widgets": [
            "9a3e38071fd140f395fb11be9f42aa4c",
            "ec1335a4f6e54cea815c8d0ef5f53279",
            "4017c1a942024629933a66f3bca06671",
            "65e07892c56f4911940d7521b4424618",
            "9e956e2d0e714b3ab2dbc8b3c81d3346",
            "b979210150794f20ace097e29e4c3696",
            "752a98ba46184420932bc3d0e8f61cf1",
            "8e8eb73489db419c8988b35482df8201",
            "c74c8c52293441d18b68352497e04781",
            "f6016ff210d344f8ac50496b2bcf35f9",
            "924886d63117443aa6e74f88e4e44143"
          ]
        },
        "id": "HZhAO6VYoNSq",
        "outputId": "5627a031-ab5e-4721-b36f-bfdaa57ffabc"
      },
      "execution_count": 17,
      "outputs": [
        {
          "output_type": "display_data",
          "data": {
            "text/plain": [
              "Computing transition probabilities:   0%|          | 0/19632 [00:00<?, ?it/s]"
            ],
            "application/vnd.jupyter.widget-view+json": {
              "version_major": 2,
              "version_minor": 0,
              "model_id": "9a3e38071fd140f395fb11be9f42aa4c"
            }
          },
          "metadata": {}
        }
      ]
    },
    {
      "cell_type": "code",
      "source": [
        "###############################################################################\n",
        "###############################################################################\n",
        "### TRAIN DEPENDENT SEEN\n",
        "###############################################################################\n",
        "###############################################################################\n",
        "\n",
        "groupData = trainDependentSeenData.groupby('tconst')\n",
        "\n",
        "listGroupData = list(groupData.groups)\n",
        "\n",
        "edgesList = []\n",
        "\n",
        "for eachMovie in listGroupData:\n",
        "    oneGroup = groupData.get_group(eachMovie)\n",
        "    if (oneGroup.category.str.contains(pat=\"actor\").any() or oneGroup.category.str.contains(pat=\"actress\").any()):\n",
        "        if ((oneGroup.category.str.contains(pat=\"director\").any())):\n",
        "            for personIndex1, personRow1 in oneGroup.iterrows():\n",
        "                checkValue1 = personRow1.category\n",
        "                if(checkValue1 == \"director\"):\n",
        "                    for personIndex2, personRow2 in oneGroup.iterrows():\n",
        "                        checkValue2 = personRow2.category\n",
        "                        if(checkValue2 == \"actor\" or checkValue2 == \"actress\"):\n",
        "                            edgesList.append(\"d_\" + personRow1.nconst + \",c_\" + personRow2.nconst)\n",
        "\n",
        "print(len(edgesList))\n",
        "\n",
        "with open('train_dependent_seen_edges_network_links.txt', 'w') as f:\n",
        "    for item in edgesList:\n",
        "        f.write(\"%s\\n\" % item)"
      ],
      "metadata": {
        "colab": {
          "base_uri": "https://localhost:8080/"
        },
        "id": "d50u8Y__kDrA",
        "outputId": "f96b1630-7931-4b87-8516-a7654e638aea"
      },
      "execution_count": 18,
      "outputs": [
        {
          "output_type": "stream",
          "name": "stdout",
          "text": [
            "20295\n"
          ]
        }
      ]
    },
    {
      "cell_type": "code",
      "source": [
        "edgesData = pd.read_csv('train_dependent_seen_edges_network_links.txt', sep=',', header=None)\n",
        "edgesData.columns = [\"director\", \"movie_star\"]\n",
        "\n",
        "counted = edgesData.groupby(edgesData.columns.tolist()).size().reset_index().\\\n",
        "    rename(columns={0:'weight'})\n",
        "\n",
        "counted = counted.sort_values(by=\"weight\")\n",
        "\n",
        "print(\"General Dataset: \" + str(len(counted)))\n",
        "\n",
        "left_list = counted.director.to_list()\n",
        "right_list = counted.movie_star.to_list()\n",
        "weight_list = counted.weight.to_list()\n",
        "\n",
        "with open('edgelist.txt', 'w') as f:\n",
        "    for item1, item2, item3 in zip(left_list, right_list, weight_list):\n",
        "        f.write(item1 + \" \" + item2 + \" \" + str(item3) + \"\\n\")\n",
        "\n",
        "with open('left.txt', 'w') as f:\n",
        "    for item in left_list:\n",
        "        f.write(\"%s\\n\" % item)\n",
        "\n",
        "with open('right.txt', 'w') as f:\n",
        "    for item in right_list:\n",
        "        f.write(\"%s\\n\" % item)\n",
        "        \n",
        "left = [line.rstrip('\\n') for line in open(\"left.txt\")]\n",
        "right = [line.rstrip('\\n') for line in open(\"right.txt\")]\n",
        "\n",
        "left = list(set(left))\n",
        "right = list(set(right))\n",
        "\n",
        "print(\"Right: \" + str(len(right)) + \" Left: \" + str(len(left)))\n",
        "\n",
        "edge_list = [line.rstrip('\\n') for line in open(\"edgelist.txt\")]\n",
        "\n",
        "a_list = []\n",
        "\n",
        "for elem in edge_list:\n",
        "    a_list.append(tuple(elem.split(\" \")))\n",
        "    \n",
        "graph = nx.Graph()\n",
        "graph.add_nodes_from(right, bipartite=0)\n",
        "graph.add_nodes_from(left, bipartite=1)\n",
        "\n",
        "[graph.add_edge(x, y, weight=int(z)) for x, y, z in a_list]\n",
        "\n",
        "print(nx.info(graph))\n",
        "print(\"This network bipartite and weighted?\")\n",
        "print(nx.is_bipartite(graph))\n",
        "print(nx.is_weighted(graph))\n",
        "\n",
        "graph_nodes = []\n",
        "gen_graph_links = []\n",
        "     \n",
        "\n",
        "counter = 0\n",
        "while(counter < 10000):\n",
        "  graph_nodes = []\n",
        "  right_elem = random.choice(right)\n",
        "  left_elem = random.choice(left)\n",
        "  if(graph.has_edge(left_elem, right_elem) == False):\n",
        "    graph_nodes.append(right_elem)\n",
        "    graph_nodes.append(left_elem)\n",
        "    if not graph_nodes in gen_graph_links:\n",
        "        counter = counter + 1\n",
        "        gen_graph_links.append(graph_nodes)\n",
        "     \n",
        "\n",
        "with open('train_dependent_seen_edges_network_links_false.txt', 'w') as f:\n",
        "    for item in gen_graph_links:\n",
        "        f.write(\"%s\\n\" % item)"
      ],
      "metadata": {
        "colab": {
          "base_uri": "https://localhost:8080/"
        },
        "id": "-gSLMe9-lrU0",
        "outputId": "c22caa93-4b44-4f9c-dd89-10121cfae178"
      },
      "execution_count": 19,
      "outputs": [
        {
          "output_type": "stream",
          "name": "stdout",
          "text": [
            "General Dataset: 19665\n",
            "Right: 14580 Left: 4024\n"
          ]
        },
        {
          "output_type": "stream",
          "name": "stderr",
          "text": [
            "<ipython-input-19-a1feda961eed>:48: DeprecationWarning: info is deprecated and will be removed in version 3.0.\n",
            "\n",
            "  print(nx.info(graph))\n"
          ]
        },
        {
          "output_type": "stream",
          "name": "stdout",
          "text": [
            "Graph with 18604 nodes and 19665 edges\n",
            "This network bipartite and weighted?\n",
            "True\n",
            "True\n"
          ]
        }
      ]
    },
    {
      "cell_type": "code",
      "source": [
        "from node2vec import Node2Vec\n",
        "\n",
        "# Precompute probabilities and generate walks - **ON WINDOWS ONLY WORKS WITH workers=1**\n",
        "node2vec = Node2Vec(graph, dimensions=6, walk_length=10, num_walks=3, workers=2, weight_key=\"weight\")  # Use temp_folder for big graphs\n",
        "\n",
        "# Embed nodes\n",
        "model = node2vec.fit(window=10, min_count=1, batch_words=4)  # Any keywords acceptable by gensim.Word2Vec can be passed, `diemnsions` and `workers` are automatically passed (from the Node2Vec constructor)\n",
        "\n",
        "EMBEDDING_FILENAME = 'emb/train_dependent_seen_embeddings.emb'\n",
        "EMBEDDING_MODEL_FILENAME = 'emb/train_dependent_seen_embeddings.model'\n",
        "\n",
        "# Save embeddings for later use\n",
        "model.wv.save_word2vec_format(EMBEDDING_FILENAME)\n",
        "\n",
        "# Save model for later use\n",
        "model.save(EMBEDDING_MODEL_FILENAME)"
      ],
      "metadata": {
        "colab": {
          "base_uri": "https://localhost:8080/",
          "height": 49,
          "referenced_widgets": [
            "b474138b34ab406c871c75a62ba36887",
            "351aad48c2c84440aaa46ed53d1bc3d4",
            "c3914ca7cfb444519b6bf316d6342eca",
            "2f7fd0ecd9724a3aa4bec47ed1d016ee",
            "ba4eb24bcaea49189cbb9d57c60c24a3",
            "60d328c07685411883dbe56b1591b554",
            "fe092af741df45c8a6dd3e9bab7fe829",
            "5f68f3a2622e496a83d9dca79d31cc1e",
            "1db50453b9d943c1a3f56851815a07a9",
            "6e84ea4f1eb148d89d4e47e337dd646d",
            "fbcf7ac4534c43f199954d98aec2207e"
          ]
        },
        "id": "nYmeUkI8odYf",
        "outputId": "442af2a8-e1d9-45ed-98fa-04efea028565"
      },
      "execution_count": 20,
      "outputs": [
        {
          "output_type": "display_data",
          "data": {
            "text/plain": [
              "Computing transition probabilities:   0%|          | 0/18604 [00:00<?, ?it/s]"
            ],
            "application/vnd.jupyter.widget-view+json": {
              "version_major": 2,
              "version_minor": 0,
              "model_id": "b474138b34ab406c871c75a62ba36887"
            }
          },
          "metadata": {}
        }
      ]
    },
    {
      "cell_type": "code",
      "source": [
        "###############################################################################\n",
        "###############################################################################\n",
        "### TEST\n",
        "###############################################################################\n",
        "###############################################################################\n",
        "\n",
        "groupData = testData.groupby('tconst')\n",
        "\n",
        "listGroupData = list(groupData.groups)\n",
        "\n",
        "edgesList = []\n",
        "\n",
        "for eachMovie in listGroupData:\n",
        "    oneGroup = groupData.get_group(eachMovie)\n",
        "    if (oneGroup.category.str.contains(pat=\"actor\").any() or oneGroup.category.str.contains(pat=\"actress\").any()):\n",
        "        if ((oneGroup.category.str.contains(pat=\"director\").any())):\n",
        "            for personIndex1, personRow1 in oneGroup.iterrows():\n",
        "                checkValue1 = personRow1.category\n",
        "                if(checkValue1 == \"director\"):\n",
        "                    for personIndex2, personRow2 in oneGroup.iterrows():\n",
        "                        checkValue2 = personRow2.category\n",
        "                        if(checkValue2 == \"actor\" or checkValue2 == \"actress\"):\n",
        "                            edgesList.append(\"d_\" + personRow1.nconst + \",c_\" + personRow2.nconst)\n",
        "\n",
        "print(len(edgesList))\n",
        "\n",
        "with open('test_edges_network_links.txt', 'w') as f:\n",
        "    for item in edgesList:\n",
        "        f.write(\"%s\\n\" % item)"
      ],
      "metadata": {
        "colab": {
          "base_uri": "https://localhost:8080/"
        },
        "id": "B3Zjgc2-kDt0",
        "outputId": "ac8274be-feb6-4f5b-ef6f-93fcfa642ffc"
      },
      "execution_count": 21,
      "outputs": [
        {
          "output_type": "stream",
          "name": "stdout",
          "text": [
            "44714\n"
          ]
        }
      ]
    },
    {
      "cell_type": "code",
      "source": [
        "edgesData = pd.read_csv('test_edges_network_links.txt', sep=',', header=None)\n",
        "edgesData.columns = [\"director\", \"movie_star\"]\n",
        "\n",
        "counted = edgesData.groupby(edgesData.columns.tolist()).size().reset_index().\\\n",
        "    rename(columns={0:'weight'})\n",
        "\n",
        "counted = counted.sort_values(by=\"weight\")\n",
        "\n",
        "print(\"General Dataset: \" + str(len(counted)))\n",
        "\n",
        "left_list = counted.director.to_list()\n",
        "right_list = counted.movie_star.to_list()\n",
        "weight_list = counted.weight.to_list()\n",
        "\n",
        "with open('edgelist.txt', 'w') as f:\n",
        "    for item1, item2, item3 in zip(left_list, right_list, weight_list):\n",
        "        f.write(item1 + \" \" + item2 + \" \" + str(item3) + \"\\n\")\n",
        "\n",
        "with open('left.txt', 'w') as f:\n",
        "    for item in left_list:\n",
        "        f.write(\"%s\\n\" % item)\n",
        "\n",
        "with open('right.txt', 'w') as f:\n",
        "    for item in right_list:\n",
        "        f.write(\"%s\\n\" % item)\n",
        "        \n",
        "left = [line.rstrip('\\n') for line in open(\"left.txt\")]\n",
        "right = [line.rstrip('\\n') for line in open(\"right.txt\")]\n",
        "\n",
        "left = list(set(left))\n",
        "right = list(set(right))\n",
        "\n",
        "print(\"Right: \" + str(len(right)) + \" Left: \" + str(len(left)))\n",
        "\n",
        "edge_list = [line.rstrip('\\n') for line in open(\"edgelist.txt\")]\n",
        "\n",
        "a_list = []\n",
        "\n",
        "for elem in edge_list:\n",
        "    a_list.append(tuple(elem.split(\" \")))\n",
        "    \n",
        "graph = nx.Graph()\n",
        "graph.add_nodes_from(right, bipartite=0)\n",
        "graph.add_nodes_from(left, bipartite=1)\n",
        "\n",
        "[graph.add_edge(x, y, weight=int(z)) for x, y, z in a_list]\n",
        "\n",
        "print(nx.info(graph))\n",
        "print(\"This network bipartite and weighted?\")\n",
        "print(nx.is_bipartite(graph))\n",
        "print(nx.is_weighted(graph))\n",
        "\n",
        "graph_nodes = []\n",
        "gen_graph_links = []\n",
        "     \n",
        "\n",
        "counter = 0\n",
        "while(counter < 10000):\n",
        "  graph_nodes = []\n",
        "  right_elem = random.choice(right)\n",
        "  left_elem = random.choice(left)\n",
        "  if(graph.has_edge(left_elem, right_elem) == False):\n",
        "    graph_nodes.append(right_elem)\n",
        "    graph_nodes.append(left_elem)\n",
        "    if not graph_nodes in gen_graph_links:\n",
        "        counter = counter + 1\n",
        "        gen_graph_links.append(graph_nodes)\n",
        "     \n",
        "\n",
        "with open('test_edges_network_links_false.txt', 'w') as f:\n",
        "    for item in gen_graph_links:\n",
        "        f.write(\"%s\\n\" % item)"
      ],
      "metadata": {
        "colab": {
          "base_uri": "https://localhost:8080/"
        },
        "id": "I-9ggIGjm-_a",
        "outputId": "52bb4be6-086c-4e4e-9c27-dc191507c502"
      },
      "execution_count": 22,
      "outputs": [
        {
          "output_type": "stream",
          "name": "stdout",
          "text": [
            "General Dataset: 42730\n",
            "Right: 29107 Left: 7964\n"
          ]
        },
        {
          "output_type": "stream",
          "name": "stderr",
          "text": [
            "<ipython-input-22-0b7cc22f5f3a>:48: DeprecationWarning: info is deprecated and will be removed in version 3.0.\n",
            "\n",
            "  print(nx.info(graph))\n"
          ]
        },
        {
          "output_type": "stream",
          "name": "stdout",
          "text": [
            "Graph with 37071 nodes and 42730 edges\n",
            "This network bipartite and weighted?\n",
            "True\n",
            "True\n"
          ]
        }
      ]
    },
    {
      "cell_type": "code",
      "source": [
        "from node2vec import Node2Vec\n",
        "\n",
        "# Precompute probabilities and generate walks - **ON WINDOWS ONLY WORKS WITH workers=1**\n",
        "node2vec = Node2Vec(graph, dimensions=6, walk_length=10, num_walks=3, workers=2, weight_key=\"weight\")  # Use temp_folder for big graphs\n",
        "\n",
        "# Embed nodes\n",
        "model = node2vec.fit(window=10, min_count=1, batch_words=4)  # Any keywords acceptable by gensim.Word2Vec can be passed, `diemnsions` and `workers` are automatically passed (from the Node2Vec constructor)\n",
        "\n",
        "EMBEDDING_FILENAME = 'emb/test_embeddings.emb'\n",
        "EMBEDDING_MODEL_FILENAME = 'emb/test_embeddings.model'\n",
        "\n",
        "# Save embeddings for later use\n",
        "model.wv.save_word2vec_format(EMBEDDING_FILENAME)\n",
        "\n",
        "# Save model for later use\n",
        "model.save(EMBEDDING_MODEL_FILENAME)"
      ],
      "metadata": {
        "colab": {
          "base_uri": "https://localhost:8080/",
          "height": 49,
          "referenced_widgets": [
            "f49c46e64b5447e2be42af6b9452f5a3",
            "4843dc8c3e604c189d60f6d13d429b33",
            "bc4266f9487440a4a8779b5829e0d863",
            "a14fa05008db4e5c810693b303000bdd",
            "7d7c860c5db34860a45284e1b23c15c0",
            "f519b78a450247789c6c397db1f0450a",
            "421771a8eb544c30a3a6496e5e8f4cce",
            "9ea74948699e4fb49ba97c763e09a409",
            "92c8ca724fed4fb6bfa3d906df661d7c",
            "0dd79498b39b497084317918b145527f",
            "4a19ce299cd940aabc79a0d0dbdd8877"
          ]
        },
        "id": "oH-jgeSVokKn",
        "outputId": "fb87a112-368e-4194-91d1-68f9a7ede3cd"
      },
      "execution_count": 23,
      "outputs": [
        {
          "output_type": "display_data",
          "data": {
            "text/plain": [
              "Computing transition probabilities:   0%|          | 0/37071 [00:00<?, ?it/s]"
            ],
            "application/vnd.jupyter.widget-view+json": {
              "version_major": 2,
              "version_minor": 0,
              "model_id": "f49c46e64b5447e2be42af6b9452f5a3"
            }
          },
          "metadata": {}
        }
      ]
    },
    {
      "cell_type": "code",
      "source": [
        "###############################################################################\n",
        "###############################################################################\n",
        "### TEST DEPENDENT SEEN\n",
        "###############################################################################\n",
        "###############################################################################\n",
        "\n",
        "groupData = testDependentSeenData.groupby('tconst')\n",
        "\n",
        "listGroupData = list(groupData.groups)\n",
        "\n",
        "edgesList = []\n",
        "\n",
        "for eachMovie in listGroupData:\n",
        "    oneGroup = groupData.get_group(eachMovie)\n",
        "    if (oneGroup.category.str.contains(pat=\"actor\").any() or oneGroup.category.str.contains(pat=\"actress\").any()):\n",
        "        if ((oneGroup.category.str.contains(pat=\"director\").any())):\n",
        "            for personIndex1, personRow1 in oneGroup.iterrows():\n",
        "                checkValue1 = personRow1.category\n",
        "                if(checkValue1 == \"director\"):\n",
        "                    for personIndex2, personRow2 in oneGroup.iterrows():\n",
        "                        checkValue2 = personRow2.category\n",
        "                        if(checkValue2 == \"actor\" or checkValue2 == \"actress\"):\n",
        "                            edgesList.append(\"d_\" + personRow1.nconst + \",c_\" + personRow2.nconst)\n",
        "\n",
        "print(len(edgesList))\n",
        "\n",
        "with open('test_dependent_seen_edges_network_links.txt', 'w') as f:\n",
        "    for item in edgesList:\n",
        "        f.write(\"%s\\n\" % item)"
      ],
      "metadata": {
        "colab": {
          "base_uri": "https://localhost:8080/"
        },
        "id": "GZb4l1qMkDwH",
        "outputId": "987ea0f8-fc05-4dcd-f09f-6878c0db3e7d"
      },
      "execution_count": 24,
      "outputs": [
        {
          "output_type": "stream",
          "name": "stdout",
          "text": [
            "18232\n"
          ]
        }
      ]
    },
    {
      "cell_type": "code",
      "source": [
        "edgesData = pd.read_csv('test_dependent_seen_edges_network_links.txt', sep=',', header=None)\n",
        "edgesData.columns = [\"director\", \"movie_star\"]\n",
        "\n",
        "counted = edgesData.groupby(edgesData.columns.tolist()).size().reset_index().\\\n",
        "    rename(columns={0:'weight'})\n",
        "\n",
        "counted = counted.sort_values(by=\"weight\")\n",
        "\n",
        "print(\"General Dataset: \" + str(len(counted)))\n",
        "\n",
        "left_list = counted.director.to_list()\n",
        "right_list = counted.movie_star.to_list()\n",
        "weight_list = counted.weight.to_list()\n",
        "\n",
        "with open('edgelist.txt', 'w') as f:\n",
        "    for item1, item2, item3 in zip(left_list, right_list, weight_list):\n",
        "        f.write(item1 + \" \" + item2 + \" \" + str(item3) + \"\\n\")\n",
        "\n",
        "with open('left.txt', 'w') as f:\n",
        "    for item in left_list:\n",
        "        f.write(\"%s\\n\" % item)\n",
        "\n",
        "with open('right.txt', 'w') as f:\n",
        "    for item in right_list:\n",
        "        f.write(\"%s\\n\" % item)\n",
        "        \n",
        "left = [line.rstrip('\\n') for line in open(\"left.txt\")]\n",
        "right = [line.rstrip('\\n') for line in open(\"right.txt\")]\n",
        "\n",
        "left = list(set(left))\n",
        "right = list(set(right))\n",
        "\n",
        "print(\"Right: \" + str(len(right)) + \" Left: \" + str(len(left)))\n",
        "\n",
        "edge_list = [line.rstrip('\\n') for line in open(\"edgelist.txt\")]\n",
        "\n",
        "a_list = []\n",
        "\n",
        "for elem in edge_list:\n",
        "    a_list.append(tuple(elem.split(\" \")))\n",
        "    \n",
        "graph = nx.Graph()\n",
        "graph.add_nodes_from(right, bipartite=0)\n",
        "graph.add_nodes_from(left, bipartite=1)\n",
        "\n",
        "[graph.add_edge(x, y, weight=int(z)) for x, y, z in a_list]\n",
        "\n",
        "print(nx.info(graph))\n",
        "print(\"This network bipartite and weighted?\")\n",
        "print(nx.is_bipartite(graph))\n",
        "print(nx.is_weighted(graph))\n",
        "\n",
        "graph_nodes = []\n",
        "gen_graph_links = []\n",
        "     \n",
        "\n",
        "counter = 0\n",
        "while(counter < 10000):\n",
        "  graph_nodes = []\n",
        "  right_elem = random.choice(right)\n",
        "  left_elem = random.choice(left)\n",
        "  if(graph.has_edge(left_elem, right_elem) == False):\n",
        "    graph_nodes.append(right_elem)\n",
        "    graph_nodes.append(left_elem)\n",
        "    if not graph_nodes in gen_graph_links:\n",
        "        counter = counter + 1\n",
        "        gen_graph_links.append(graph_nodes)\n",
        "     \n",
        "\n",
        "with open('test_dependent_seen_edges_network_links_false.txt', 'w') as f:\n",
        "    for item in gen_graph_links:\n",
        "        f.write(\"%s\\n\" % item)"
      ],
      "metadata": {
        "colab": {
          "base_uri": "https://localhost:8080/"
        },
        "id": "cXNeKszUky4v",
        "outputId": "7299ae8d-6a7b-4ee7-d727-9be6dd149ca7"
      },
      "execution_count": 25,
      "outputs": [
        {
          "output_type": "stream",
          "name": "stdout",
          "text": [
            "General Dataset: 17660\n",
            "Right: 13624 Left: 3601\n",
            "Graph with 17225 nodes and 17660 edges\n",
            "This network bipartite and weighted?\n"
          ]
        },
        {
          "output_type": "stream",
          "name": "stderr",
          "text": [
            "<ipython-input-25-4d148158595b>:48: DeprecationWarning: info is deprecated and will be removed in version 3.0.\n",
            "\n",
            "  print(nx.info(graph))\n"
          ]
        },
        {
          "output_type": "stream",
          "name": "stdout",
          "text": [
            "True\n",
            "True\n"
          ]
        }
      ]
    },
    {
      "cell_type": "code",
      "source": [
        "from node2vec import Node2Vec\n",
        "\n",
        "# Precompute probabilities and generate walks - **ON WINDOWS ONLY WORKS WITH workers=1**\n",
        "node2vec = Node2Vec(graph, dimensions=6, walk_length=10, num_walks=3, workers=2, weight_key=\"weight\")  # Use temp_folder for big graphs\n",
        "\n",
        "# Embed nodes\n",
        "model = node2vec.fit(window=10, min_count=1, batch_words=4)  # Any keywords acceptable by gensim.Word2Vec can be passed, `diemnsions` and `workers` are automatically passed (from the Node2Vec constructor)\n",
        "\n",
        "EMBEDDING_FILENAME = 'emb/test_dependent_seen_embeddings.emb'\n",
        "EMBEDDING_MODEL_FILENAME = 'emb/test_dependent_seen_embeddings.model'\n",
        "\n",
        "# Save embeddings for later use\n",
        "model.wv.save_word2vec_format(EMBEDDING_FILENAME)\n",
        "\n",
        "# Save model for later use\n",
        "model.save(EMBEDDING_MODEL_FILENAME)"
      ],
      "metadata": {
        "colab": {
          "base_uri": "https://localhost:8080/",
          "height": 49,
          "referenced_widgets": [
            "83658adf14814ec58dc017eba66b486e",
            "0723a6f2804c4289a8759821e28c5e45",
            "9a255bb0cc6f41a8b57a88cae5320d77",
            "ebce420b4bf6442b8b107f145fb8c3d5",
            "138f4f8fc07e49a39830a80f9829760f",
            "13108ea09b5f4483a25ef9c8cfa321fd",
            "b82bf2707c8d453fb8b98c9db10eb760",
            "7c01366ef1754894bf76fc04a06f5438",
            "80d1ae66354240388cd4b35cd9eceb3d",
            "12c65ee5c26e4fe485ee98dc7e8856ff",
            "14c42ade77954fc487f0de33b6fbf636"
          ]
        },
        "id": "gek2kWaZopXR",
        "outputId": "8cfdf053-ba79-4fc7-e3b6-fbbac4c3d269"
      },
      "execution_count": 26,
      "outputs": [
        {
          "output_type": "display_data",
          "data": {
            "text/plain": [
              "Computing transition probabilities:   0%|          | 0/17225 [00:00<?, ?it/s]"
            ],
            "application/vnd.jupyter.widget-view+json": {
              "version_major": 2,
              "version_minor": 0,
              "model_id": "83658adf14814ec58dc017eba66b486e"
            }
          },
          "metadata": {}
        }
      ]
    },
    {
      "cell_type": "markdown",
      "source": [
        "# Create dataset"
      ],
      "metadata": {
        "id": "Ln8DXrjAqKkD"
      }
    },
    {
      "cell_type": "code",
      "source": [
        "import ast"
      ],
      "metadata": {
        "id": "zPGarnimqZXe"
      },
      "execution_count": 27,
      "outputs": []
    },
    {
      "cell_type": "code",
      "source": [
        "#For True Labels\n",
        "\n",
        "node_emb = pd.read_csv('/content/emb/train_embeddings.emb', sep=' ', header = None, skiprows=1)\n",
        "node_emb = node_emb.rename(columns = {0:'director'})\n",
        "\n",
        "edgesData_test = pd.read_csv('/content/train_edges_network_links.txt', sep=',', header=None)\n",
        "edgesData_test.columns = [\"director\", \"movie_star\"]\n",
        "\n",
        "counted_links_true = edgesData_test.groupby(edgesData_test.columns.tolist()).size().reset_index().\\\n",
        "    rename(columns={0:'weight'})\n",
        "\n",
        "counted_links_true = counted_links_true.sort_values(by=\"weight\")\n",
        "del counted_links_true['weight']\n",
        "\n",
        "counted_links_true = counted_links_true.merge(node_emb, on='director', how='left')\n",
        "counted_links_true = counted_links_true[np.isfinite(counted_links_true[1])]\n",
        "     \n",
        "\n",
        "node_emb = pd.read_csv('/content/emb/train_embeddings.emb', sep=' ', header = None, skiprows=1)\n",
        "node_emb = node_emb.rename(columns = {0:'movie_star'})\n",
        "counted_links_true = counted_links_true.merge(node_emb, on='movie_star', how='left')\n",
        "counted_links_true = counted_links_true[np.isfinite(counted_links_true[\"1_y\"])]\n",
        "counted_links_true['1'] = counted_links_true['1_x'] - counted_links_true['1_y']\n",
        "counted_links_true['2'] = counted_links_true['2_x'] - counted_links_true['2_y']\n",
        "counted_links_true['3'] = counted_links_true['3_x'] - counted_links_true['3_y']\n",
        "counted_links_true['4'] = counted_links_true['4_x'] - counted_links_true['4_y']\n",
        "counted_links_true['5'] = counted_links_true['5_x'] - counted_links_true['5_y']\n",
        "counted_links_true['6'] = counted_links_true['6_x'] - counted_links_true['6_y']\n",
        "\n",
        "\n",
        "del counted_links_true['1_x']\n",
        "del counted_links_true['1_y']\n",
        "del counted_links_true['2_x']\n",
        "del counted_links_true['2_y']\n",
        "del counted_links_true['3_x']\n",
        "del counted_links_true['3_y']\n",
        "del counted_links_true['4_x']\n",
        "del counted_links_true['4_y']\n",
        "del counted_links_true['5_x']\n",
        "del counted_links_true['5_y']\n",
        "del counted_links_true['6_x']\n",
        "del counted_links_true['6_y']\n",
        "\n",
        "counted_links_true['Y'] = True\n",
        "\n",
        "#For False Labels\n",
        "\n",
        "node_emb = pd.read_csv('/content/emb/train_embeddings.emb', sep=' ', header = None, skiprows=1)\n",
        "node_emb = node_emb.rename(columns = {0:'director'})\n",
        "\n",
        "new_list = [line.rstrip('\\n') for line in open(\"/content/train_edges_network_links_false.txt\")]\n",
        "gen_graph_links = []\n",
        "\n",
        "for element in new_list:\n",
        "  gen_graph_links.append(ast.literal_eval(element))\n",
        "\n",
        "len(gen_graph_links)\n",
        "     \n",
        "\n",
        "counted_links_false = pd.DataFrame.from_records(gen_graph_links)\n",
        "counted_links_false.columns = [\"director\", \"movie_star\"]\n",
        "\n",
        "counted_links_false = counted_links_false.merge(node_emb, on='director', how='left')\n",
        "counted_links_false = counted_links_false[np.isfinite(counted_links_false[1])]\n",
        "     \n",
        "\n",
        "node_emb = pd.read_csv('/content/emb/train_embeddings.emb', sep=' ', header = None, skiprows=1)\n",
        "node_emb = node_emb.rename(columns = {0:'movie_star'})\n",
        "counted_links_false = counted_links_false.merge(node_emb, on='movie_star', how='left')\n",
        "counted_links_false = counted_links_false[np.isfinite(counted_links_false[\"1_y\"])]\n",
        "counted_links_false['1'] = counted_links_false['1_x'] - counted_links_false['1_y']\n",
        "counted_links_false['2'] = counted_links_false['2_x'] - counted_links_false['2_y']\n",
        "counted_links_false['3'] = counted_links_false['3_x'] - counted_links_false['3_y']\n",
        "counted_links_false['4'] = counted_links_false['4_x'] - counted_links_false['4_y']\n",
        "counted_links_false['5'] = counted_links_false['5_x'] - counted_links_false['5_y']\n",
        "counted_links_false['6'] = counted_links_false['6_x'] - counted_links_false['6_y']\n",
        "\n",
        "\n",
        "del counted_links_false['1_x']\n",
        "del counted_links_false['1_y']\n",
        "del counted_links_false['2_x']\n",
        "del counted_links_false['2_y']\n",
        "del counted_links_false['3_x']\n",
        "del counted_links_false['3_y']\n",
        "del counted_links_false['4_x']\n",
        "del counted_links_false['4_y']\n",
        "del counted_links_false['5_x']\n",
        "del counted_links_false['5_y']\n",
        "del counted_links_false['6_x']\n",
        "del counted_links_false['6_y']\n",
        "\n",
        "counted_links_false['Y'] = False\n",
        "\n",
        "train = pd.concat([counted_links_true, counted_links_false])\n",
        "train.to_csv(\"train.csv\")"
      ],
      "metadata": {
        "id": "XOq618l-ky7I"
      },
      "execution_count": 37,
      "outputs": []
    },
    {
      "cell_type": "code",
      "source": [
        "train"
      ],
      "metadata": {
        "colab": {
          "base_uri": "https://localhost:8080/",
          "height": 424
        },
        "id": "K8Nb0Ns7qJtJ",
        "outputId": "54918f85-ded5-4c9f-df2e-7c347cd7e24a"
      },
      "execution_count": 38,
      "outputs": [
        {
          "output_type": "execute_result",
          "data": {
            "text/plain": [
              "         director   movie_star         1         2         3         4  \\\n",
              "0     d_nm0000091  c_nm0000449 -0.527472 -0.945318 -1.458488 -1.383765   \n",
              "1     d_nm1796477  c_nm0460037 -0.988247  0.305819 -0.549546  0.859755   \n",
              "2     d_nm1796477  c_nm0023553 -0.906265  0.230913 -0.395650  0.720345   \n",
              "3     d_nm1792707  c_nm1795577 -1.300174  0.659857 -0.384179 -0.697612   \n",
              "4     d_nm1792707  c_nm1792920 -1.311182  0.605399 -0.393693 -0.713478   \n",
              "...           ...          ...       ...       ...       ...       ...   \n",
              "9995  c_nm2681362  d_nm0004915 -1.585595 -1.900183  2.732309  2.146351   \n",
              "9996  c_nm0498488  d_nm1196102 -0.429313 -3.059219 -1.451231  0.074083   \n",
              "9997  c_nm1392076  d_nm2781113 -1.510585 -2.111490 -0.516887  0.847463   \n",
              "9998  c_nm0369513  d_nm3708253  0.443970 -1.333238  0.197523 -1.933675   \n",
              "9999  c_nm1301340  d_nm0847187  0.555339 -2.925585  0.999316 -1.594487   \n",
              "\n",
              "             5         6      Y  \n",
              "0     0.931323  0.360546   True  \n",
              "1     0.367729  0.679583   True  \n",
              "2     0.297104  0.640179   True  \n",
              "3    -0.588430  0.508462   True  \n",
              "4    -0.583735  0.533139   True  \n",
              "...        ...       ...    ...  \n",
              "9995 -1.193271 -0.288004  False  \n",
              "9996  0.200281 -3.529691  False  \n",
              "9997 -1.700178 -2.247956  False  \n",
              "9998 -3.202692 -1.642955  False  \n",
              "9999 -0.428113  0.758580  False  \n",
              "\n",
              "[33717 rows x 9 columns]"
            ],
            "text/html": [
              "\n",
              "  <div id=\"df-e72e6bfe-de3b-422d-989e-2fa469a7a5fc\">\n",
              "    <div class=\"colab-df-container\">\n",
              "      <div>\n",
              "<style scoped>\n",
              "    .dataframe tbody tr th:only-of-type {\n",
              "        vertical-align: middle;\n",
              "    }\n",
              "\n",
              "    .dataframe tbody tr th {\n",
              "        vertical-align: top;\n",
              "    }\n",
              "\n",
              "    .dataframe thead th {\n",
              "        text-align: right;\n",
              "    }\n",
              "</style>\n",
              "<table border=\"1\" class=\"dataframe\">\n",
              "  <thead>\n",
              "    <tr style=\"text-align: right;\">\n",
              "      <th></th>\n",
              "      <th>director</th>\n",
              "      <th>movie_star</th>\n",
              "      <th>1</th>\n",
              "      <th>2</th>\n",
              "      <th>3</th>\n",
              "      <th>4</th>\n",
              "      <th>5</th>\n",
              "      <th>6</th>\n",
              "      <th>Y</th>\n",
              "    </tr>\n",
              "  </thead>\n",
              "  <tbody>\n",
              "    <tr>\n",
              "      <th>0</th>\n",
              "      <td>d_nm0000091</td>\n",
              "      <td>c_nm0000449</td>\n",
              "      <td>-0.527472</td>\n",
              "      <td>-0.945318</td>\n",
              "      <td>-1.458488</td>\n",
              "      <td>-1.383765</td>\n",
              "      <td>0.931323</td>\n",
              "      <td>0.360546</td>\n",
              "      <td>True</td>\n",
              "    </tr>\n",
              "    <tr>\n",
              "      <th>1</th>\n",
              "      <td>d_nm1796477</td>\n",
              "      <td>c_nm0460037</td>\n",
              "      <td>-0.988247</td>\n",
              "      <td>0.305819</td>\n",
              "      <td>-0.549546</td>\n",
              "      <td>0.859755</td>\n",
              "      <td>0.367729</td>\n",
              "      <td>0.679583</td>\n",
              "      <td>True</td>\n",
              "    </tr>\n",
              "    <tr>\n",
              "      <th>2</th>\n",
              "      <td>d_nm1796477</td>\n",
              "      <td>c_nm0023553</td>\n",
              "      <td>-0.906265</td>\n",
              "      <td>0.230913</td>\n",
              "      <td>-0.395650</td>\n",
              "      <td>0.720345</td>\n",
              "      <td>0.297104</td>\n",
              "      <td>0.640179</td>\n",
              "      <td>True</td>\n",
              "    </tr>\n",
              "    <tr>\n",
              "      <th>3</th>\n",
              "      <td>d_nm1792707</td>\n",
              "      <td>c_nm1795577</td>\n",
              "      <td>-1.300174</td>\n",
              "      <td>0.659857</td>\n",
              "      <td>-0.384179</td>\n",
              "      <td>-0.697612</td>\n",
              "      <td>-0.588430</td>\n",
              "      <td>0.508462</td>\n",
              "      <td>True</td>\n",
              "    </tr>\n",
              "    <tr>\n",
              "      <th>4</th>\n",
              "      <td>d_nm1792707</td>\n",
              "      <td>c_nm1792920</td>\n",
              "      <td>-1.311182</td>\n",
              "      <td>0.605399</td>\n",
              "      <td>-0.393693</td>\n",
              "      <td>-0.713478</td>\n",
              "      <td>-0.583735</td>\n",
              "      <td>0.533139</td>\n",
              "      <td>True</td>\n",
              "    </tr>\n",
              "    <tr>\n",
              "      <th>...</th>\n",
              "      <td>...</td>\n",
              "      <td>...</td>\n",
              "      <td>...</td>\n",
              "      <td>...</td>\n",
              "      <td>...</td>\n",
              "      <td>...</td>\n",
              "      <td>...</td>\n",
              "      <td>...</td>\n",
              "      <td>...</td>\n",
              "    </tr>\n",
              "    <tr>\n",
              "      <th>9995</th>\n",
              "      <td>c_nm2681362</td>\n",
              "      <td>d_nm0004915</td>\n",
              "      <td>-1.585595</td>\n",
              "      <td>-1.900183</td>\n",
              "      <td>2.732309</td>\n",
              "      <td>2.146351</td>\n",
              "      <td>-1.193271</td>\n",
              "      <td>-0.288004</td>\n",
              "      <td>False</td>\n",
              "    </tr>\n",
              "    <tr>\n",
              "      <th>9996</th>\n",
              "      <td>c_nm0498488</td>\n",
              "      <td>d_nm1196102</td>\n",
              "      <td>-0.429313</td>\n",
              "      <td>-3.059219</td>\n",
              "      <td>-1.451231</td>\n",
              "      <td>0.074083</td>\n",
              "      <td>0.200281</td>\n",
              "      <td>-3.529691</td>\n",
              "      <td>False</td>\n",
              "    </tr>\n",
              "    <tr>\n",
              "      <th>9997</th>\n",
              "      <td>c_nm1392076</td>\n",
              "      <td>d_nm2781113</td>\n",
              "      <td>-1.510585</td>\n",
              "      <td>-2.111490</td>\n",
              "      <td>-0.516887</td>\n",
              "      <td>0.847463</td>\n",
              "      <td>-1.700178</td>\n",
              "      <td>-2.247956</td>\n",
              "      <td>False</td>\n",
              "    </tr>\n",
              "    <tr>\n",
              "      <th>9998</th>\n",
              "      <td>c_nm0369513</td>\n",
              "      <td>d_nm3708253</td>\n",
              "      <td>0.443970</td>\n",
              "      <td>-1.333238</td>\n",
              "      <td>0.197523</td>\n",
              "      <td>-1.933675</td>\n",
              "      <td>-3.202692</td>\n",
              "      <td>-1.642955</td>\n",
              "      <td>False</td>\n",
              "    </tr>\n",
              "    <tr>\n",
              "      <th>9999</th>\n",
              "      <td>c_nm1301340</td>\n",
              "      <td>d_nm0847187</td>\n",
              "      <td>0.555339</td>\n",
              "      <td>-2.925585</td>\n",
              "      <td>0.999316</td>\n",
              "      <td>-1.594487</td>\n",
              "      <td>-0.428113</td>\n",
              "      <td>0.758580</td>\n",
              "      <td>False</td>\n",
              "    </tr>\n",
              "  </tbody>\n",
              "</table>\n",
              "<p>33717 rows × 9 columns</p>\n",
              "</div>\n",
              "      <button class=\"colab-df-convert\" onclick=\"convertToInteractive('df-e72e6bfe-de3b-422d-989e-2fa469a7a5fc')\"\n",
              "              title=\"Convert this dataframe to an interactive table.\"\n",
              "              style=\"display:none;\">\n",
              "        \n",
              "  <svg xmlns=\"http://www.w3.org/2000/svg\" height=\"24px\"viewBox=\"0 0 24 24\"\n",
              "       width=\"24px\">\n",
              "    <path d=\"M0 0h24v24H0V0z\" fill=\"none\"/>\n",
              "    <path d=\"M18.56 5.44l.94 2.06.94-2.06 2.06-.94-2.06-.94-.94-2.06-.94 2.06-2.06.94zm-11 1L8.5 8.5l.94-2.06 2.06-.94-2.06-.94L8.5 2.5l-.94 2.06-2.06.94zm10 10l.94 2.06.94-2.06 2.06-.94-2.06-.94-.94-2.06-.94 2.06-2.06.94z\"/><path d=\"M17.41 7.96l-1.37-1.37c-.4-.4-.92-.59-1.43-.59-.52 0-1.04.2-1.43.59L10.3 9.45l-7.72 7.72c-.78.78-.78 2.05 0 2.83L4 21.41c.39.39.9.59 1.41.59.51 0 1.02-.2 1.41-.59l7.78-7.78 2.81-2.81c.8-.78.8-2.07 0-2.86zM5.41 20L4 18.59l7.72-7.72 1.47 1.35L5.41 20z\"/>\n",
              "  </svg>\n",
              "      </button>\n",
              "      \n",
              "  <style>\n",
              "    .colab-df-container {\n",
              "      display:flex;\n",
              "      flex-wrap:wrap;\n",
              "      gap: 12px;\n",
              "    }\n",
              "\n",
              "    .colab-df-convert {\n",
              "      background-color: #E8F0FE;\n",
              "      border: none;\n",
              "      border-radius: 50%;\n",
              "      cursor: pointer;\n",
              "      display: none;\n",
              "      fill: #1967D2;\n",
              "      height: 32px;\n",
              "      padding: 0 0 0 0;\n",
              "      width: 32px;\n",
              "    }\n",
              "\n",
              "    .colab-df-convert:hover {\n",
              "      background-color: #E2EBFA;\n",
              "      box-shadow: 0px 1px 2px rgba(60, 64, 67, 0.3), 0px 1px 3px 1px rgba(60, 64, 67, 0.15);\n",
              "      fill: #174EA6;\n",
              "    }\n",
              "\n",
              "    [theme=dark] .colab-df-convert {\n",
              "      background-color: #3B4455;\n",
              "      fill: #D2E3FC;\n",
              "    }\n",
              "\n",
              "    [theme=dark] .colab-df-convert:hover {\n",
              "      background-color: #434B5C;\n",
              "      box-shadow: 0px 1px 3px 1px rgba(0, 0, 0, 0.15);\n",
              "      filter: drop-shadow(0px 1px 2px rgba(0, 0, 0, 0.3));\n",
              "      fill: #FFFFFF;\n",
              "    }\n",
              "  </style>\n",
              "\n",
              "      <script>\n",
              "        const buttonEl =\n",
              "          document.querySelector('#df-e72e6bfe-de3b-422d-989e-2fa469a7a5fc button.colab-df-convert');\n",
              "        buttonEl.style.display =\n",
              "          google.colab.kernel.accessAllowed ? 'block' : 'none';\n",
              "\n",
              "        async function convertToInteractive(key) {\n",
              "          const element = document.querySelector('#df-e72e6bfe-de3b-422d-989e-2fa469a7a5fc');\n",
              "          const dataTable =\n",
              "            await google.colab.kernel.invokeFunction('convertToInteractive',\n",
              "                                                     [key], {});\n",
              "          if (!dataTable) return;\n",
              "\n",
              "          const docLinkHtml = 'Like what you see? Visit the ' +\n",
              "            '<a target=\"_blank\" href=https://colab.research.google.com/notebooks/data_table.ipynb>data table notebook</a>'\n",
              "            + ' to learn more about interactive tables.';\n",
              "          element.innerHTML = '';\n",
              "          dataTable['output_type'] = 'display_data';\n",
              "          await google.colab.output.renderOutput(dataTable, element);\n",
              "          const docLink = document.createElement('div');\n",
              "          docLink.innerHTML = docLinkHtml;\n",
              "          element.appendChild(docLink);\n",
              "        }\n",
              "      </script>\n",
              "    </div>\n",
              "  </div>\n",
              "  "
            ]
          },
          "metadata": {},
          "execution_count": 38
        }
      ]
    },
    {
      "cell_type": "code",
      "source": [
        "#For True Labels\n",
        "\n",
        "node_emb = pd.read_csv('/content/emb/train_dependent_seen_embeddings.emb', sep=' ', header = None, skiprows=1)\n",
        "node_emb = node_emb.rename(columns = {0:'director'})\n",
        "\n",
        "edgesData_test = pd.read_csv('/content/train_dependent_seen_edges_network_links.txt', sep=',', header=None)\n",
        "edgesData_test.columns = [\"director\", \"movie_star\"]\n",
        "\n",
        "counted_links_true = edgesData_test.groupby(edgesData_test.columns.tolist()).size().reset_index().\\\n",
        "    rename(columns={0:'weight'})\n",
        "\n",
        "counted_links_true = counted_links_true.sort_values(by=\"weight\")\n",
        "del counted_links_true['weight']\n",
        "\n",
        "counted_links_true = counted_links_true.merge(node_emb, on='director', how='left')\n",
        "counted_links_true = counted_links_true[np.isfinite(counted_links_true[1])]\n",
        "     \n",
        "\n",
        "node_emb = pd.read_csv('/content/emb/train_dependent_seen_embeddings.emb', sep=' ', header = None, skiprows=1)\n",
        "node_emb = node_emb.rename(columns = {0:'movie_star'})\n",
        "counted_links_true = counted_links_true.merge(node_emb, on='movie_star', how='left')\n",
        "counted_links_true = counted_links_true[np.isfinite(counted_links_true[\"1_y\"])]\n",
        "counted_links_true['1'] = counted_links_true['1_x'] - counted_links_true['1_y']\n",
        "counted_links_true['2'] = counted_links_true['2_x'] - counted_links_true['2_y']\n",
        "counted_links_true['3'] = counted_links_true['3_x'] - counted_links_true['3_y']\n",
        "counted_links_true['4'] = counted_links_true['4_x'] - counted_links_true['4_y']\n",
        "counted_links_true['5'] = counted_links_true['5_x'] - counted_links_true['5_y']\n",
        "counted_links_true['6'] = counted_links_true['6_x'] - counted_links_true['6_y']\n",
        "\n",
        "\n",
        "del counted_links_true['1_x']\n",
        "del counted_links_true['1_y']\n",
        "del counted_links_true['2_x']\n",
        "del counted_links_true['2_y']\n",
        "del counted_links_true['3_x']\n",
        "del counted_links_true['3_y']\n",
        "del counted_links_true['4_x']\n",
        "del counted_links_true['4_y']\n",
        "del counted_links_true['5_x']\n",
        "del counted_links_true['5_y']\n",
        "del counted_links_true['6_x']\n",
        "del counted_links_true['6_y']\n",
        "\n",
        "counted_links_true['Y'] = True\n",
        "\n",
        "#For False Labels\n",
        "\n",
        "node_emb = pd.read_csv('/content/emb/train_dependent_seen_embeddings.emb', sep=' ', header = None, skiprows=1)\n",
        "node_emb = node_emb.rename(columns = {0:'director'})\n",
        "\n",
        "new_list = [line.rstrip('\\n') for line in open(\"/content/train_dependent_seen_edges_network_links_false.txt\")]\n",
        "gen_graph_links = []\n",
        "\n",
        "for element in new_list:\n",
        "  gen_graph_links.append(ast.literal_eval(element))\n",
        "\n",
        "len(gen_graph_links)\n",
        "     \n",
        "\n",
        "counted_links_false = pd.DataFrame.from_records(gen_graph_links)\n",
        "counted_links_false.columns = [\"director\", \"movie_star\"]\n",
        "\n",
        "counted_links_false = counted_links_false.merge(node_emb, on='director', how='left')\n",
        "counted_links_false = counted_links_false[np.isfinite(counted_links_false[1])]\n",
        "     \n",
        "\n",
        "node_emb = pd.read_csv('/content/emb/train_dependent_seen_embeddings.emb', sep=' ', header = None, skiprows=1)\n",
        "node_emb = node_emb.rename(columns = {0:'movie_star'})\n",
        "counted_links_false = counted_links_false.merge(node_emb, on='movie_star', how='left')\n",
        "counted_links_false = counted_links_false[np.isfinite(counted_links_false[\"1_y\"])]\n",
        "counted_links_false['1'] = counted_links_false['1_x'] - counted_links_false['1_y']\n",
        "counted_links_false['2'] = counted_links_false['2_x'] - counted_links_false['2_y']\n",
        "counted_links_false['3'] = counted_links_false['3_x'] - counted_links_false['3_y']\n",
        "counted_links_false['4'] = counted_links_false['4_x'] - counted_links_false['4_y']\n",
        "counted_links_false['5'] = counted_links_false['5_x'] - counted_links_false['5_y']\n",
        "counted_links_false['6'] = counted_links_false['6_x'] - counted_links_false['6_y']\n",
        "\n",
        "\n",
        "del counted_links_false['1_x']\n",
        "del counted_links_false['1_y']\n",
        "del counted_links_false['2_x']\n",
        "del counted_links_false['2_y']\n",
        "del counted_links_false['3_x']\n",
        "del counted_links_false['3_y']\n",
        "del counted_links_false['4_x']\n",
        "del counted_links_false['4_y']\n",
        "del counted_links_false['5_x']\n",
        "del counted_links_false['5_y']\n",
        "del counted_links_false['6_x']\n",
        "del counted_links_false['6_y']\n",
        "\n",
        "counted_links_false['Y'] = False\n",
        "\n",
        "test = pd.concat([counted_links_true, counted_links_false])\n",
        "test.to_csv(\"test.csv\")"
      ],
      "metadata": {
        "id": "3BVwE1vvqJvv"
      },
      "execution_count": 39,
      "outputs": []
    },
    {
      "cell_type": "code",
      "source": [
        "test"
      ],
      "metadata": {
        "colab": {
          "base_uri": "https://localhost:8080/",
          "height": 424
        },
        "id": "_AMcFaQGqJyG",
        "outputId": "929b387a-7a37-4f6d-c0b0-bda9e9c10e11"
      },
      "execution_count": 40,
      "outputs": [
        {
          "output_type": "execute_result",
          "data": {
            "text/plain": [
              "          director   movie_star         1         2         3         4  \\\n",
              "0      d_nm0000108  c_nm0000151 -0.783380  0.240543 -0.343397  0.234359   \n",
              "1      d_nm4029428  c_nm5167146 -1.127972  0.600274 -0.419049 -0.487430   \n",
              "2      d_nm4029428  c_nm4289038 -1.885895  1.018663 -0.603495 -0.752132   \n",
              "3      d_nm4029428  c_nm4028680 -2.004260  1.137642 -0.694293 -0.765735   \n",
              "4      d_nm4029428  c_nm1395817 -1.585731  0.805332 -0.611246 -0.662079   \n",
              "...            ...          ...       ...       ...       ...       ...   \n",
              "9995   c_nm1194663  d_nm4579435  2.063507 -2.626084 -2.138991 -0.526139   \n",
              "9996   c_nm1846544  d_nm3943930  1.170975 -1.900871 -1.072854  4.390075   \n",
              "9997   c_nm7701995  d_nm1498874  2.813074 -2.919632  1.619685 -0.495259   \n",
              "9998  c_nm11726777  d_nm4755154  0.314743  0.102844 -1.498833  0.197580   \n",
              "9999   c_nm5049050  d_nm3712386 -2.143671  3.087397  1.753976  1.956635   \n",
              "\n",
              "             5         6      Y  \n",
              "0    -0.076019  0.447412   True  \n",
              "1     0.468580  0.182966   True  \n",
              "2     0.773187  0.252787   True  \n",
              "3     0.777655  0.354427   True  \n",
              "4     0.616733  0.303020   True  \n",
              "...        ...       ...    ...  \n",
              "9995 -1.709153  1.132385  False  \n",
              "9996 -0.592978 -1.641216  False  \n",
              "9997  2.213256 -1.126182  False  \n",
              "9998 -2.521116  0.280846  False  \n",
              "9999 -1.133909 -0.481676  False  \n",
              "\n",
              "[29665 rows x 9 columns]"
            ],
            "text/html": [
              "\n",
              "  <div id=\"df-7ff04cfb-bf23-4c1c-b5d8-6fd6e912ab1e\">\n",
              "    <div class=\"colab-df-container\">\n",
              "      <div>\n",
              "<style scoped>\n",
              "    .dataframe tbody tr th:only-of-type {\n",
              "        vertical-align: middle;\n",
              "    }\n",
              "\n",
              "    .dataframe tbody tr th {\n",
              "        vertical-align: top;\n",
              "    }\n",
              "\n",
              "    .dataframe thead th {\n",
              "        text-align: right;\n",
              "    }\n",
              "</style>\n",
              "<table border=\"1\" class=\"dataframe\">\n",
              "  <thead>\n",
              "    <tr style=\"text-align: right;\">\n",
              "      <th></th>\n",
              "      <th>director</th>\n",
              "      <th>movie_star</th>\n",
              "      <th>1</th>\n",
              "      <th>2</th>\n",
              "      <th>3</th>\n",
              "      <th>4</th>\n",
              "      <th>5</th>\n",
              "      <th>6</th>\n",
              "      <th>Y</th>\n",
              "    </tr>\n",
              "  </thead>\n",
              "  <tbody>\n",
              "    <tr>\n",
              "      <th>0</th>\n",
              "      <td>d_nm0000108</td>\n",
              "      <td>c_nm0000151</td>\n",
              "      <td>-0.783380</td>\n",
              "      <td>0.240543</td>\n",
              "      <td>-0.343397</td>\n",
              "      <td>0.234359</td>\n",
              "      <td>-0.076019</td>\n",
              "      <td>0.447412</td>\n",
              "      <td>True</td>\n",
              "    </tr>\n",
              "    <tr>\n",
              "      <th>1</th>\n",
              "      <td>d_nm4029428</td>\n",
              "      <td>c_nm5167146</td>\n",
              "      <td>-1.127972</td>\n",
              "      <td>0.600274</td>\n",
              "      <td>-0.419049</td>\n",
              "      <td>-0.487430</td>\n",
              "      <td>0.468580</td>\n",
              "      <td>0.182966</td>\n",
              "      <td>True</td>\n",
              "    </tr>\n",
              "    <tr>\n",
              "      <th>2</th>\n",
              "      <td>d_nm4029428</td>\n",
              "      <td>c_nm4289038</td>\n",
              "      <td>-1.885895</td>\n",
              "      <td>1.018663</td>\n",
              "      <td>-0.603495</td>\n",
              "      <td>-0.752132</td>\n",
              "      <td>0.773187</td>\n",
              "      <td>0.252787</td>\n",
              "      <td>True</td>\n",
              "    </tr>\n",
              "    <tr>\n",
              "      <th>3</th>\n",
              "      <td>d_nm4029428</td>\n",
              "      <td>c_nm4028680</td>\n",
              "      <td>-2.004260</td>\n",
              "      <td>1.137642</td>\n",
              "      <td>-0.694293</td>\n",
              "      <td>-0.765735</td>\n",
              "      <td>0.777655</td>\n",
              "      <td>0.354427</td>\n",
              "      <td>True</td>\n",
              "    </tr>\n",
              "    <tr>\n",
              "      <th>4</th>\n",
              "      <td>d_nm4029428</td>\n",
              "      <td>c_nm1395817</td>\n",
              "      <td>-1.585731</td>\n",
              "      <td>0.805332</td>\n",
              "      <td>-0.611246</td>\n",
              "      <td>-0.662079</td>\n",
              "      <td>0.616733</td>\n",
              "      <td>0.303020</td>\n",
              "      <td>True</td>\n",
              "    </tr>\n",
              "    <tr>\n",
              "      <th>...</th>\n",
              "      <td>...</td>\n",
              "      <td>...</td>\n",
              "      <td>...</td>\n",
              "      <td>...</td>\n",
              "      <td>...</td>\n",
              "      <td>...</td>\n",
              "      <td>...</td>\n",
              "      <td>...</td>\n",
              "      <td>...</td>\n",
              "    </tr>\n",
              "    <tr>\n",
              "      <th>9995</th>\n",
              "      <td>c_nm1194663</td>\n",
              "      <td>d_nm4579435</td>\n",
              "      <td>2.063507</td>\n",
              "      <td>-2.626084</td>\n",
              "      <td>-2.138991</td>\n",
              "      <td>-0.526139</td>\n",
              "      <td>-1.709153</td>\n",
              "      <td>1.132385</td>\n",
              "      <td>False</td>\n",
              "    </tr>\n",
              "    <tr>\n",
              "      <th>9996</th>\n",
              "      <td>c_nm1846544</td>\n",
              "      <td>d_nm3943930</td>\n",
              "      <td>1.170975</td>\n",
              "      <td>-1.900871</td>\n",
              "      <td>-1.072854</td>\n",
              "      <td>4.390075</td>\n",
              "      <td>-0.592978</td>\n",
              "      <td>-1.641216</td>\n",
              "      <td>False</td>\n",
              "    </tr>\n",
              "    <tr>\n",
              "      <th>9997</th>\n",
              "      <td>c_nm7701995</td>\n",
              "      <td>d_nm1498874</td>\n",
              "      <td>2.813074</td>\n",
              "      <td>-2.919632</td>\n",
              "      <td>1.619685</td>\n",
              "      <td>-0.495259</td>\n",
              "      <td>2.213256</td>\n",
              "      <td>-1.126182</td>\n",
              "      <td>False</td>\n",
              "    </tr>\n",
              "    <tr>\n",
              "      <th>9998</th>\n",
              "      <td>c_nm11726777</td>\n",
              "      <td>d_nm4755154</td>\n",
              "      <td>0.314743</td>\n",
              "      <td>0.102844</td>\n",
              "      <td>-1.498833</td>\n",
              "      <td>0.197580</td>\n",
              "      <td>-2.521116</td>\n",
              "      <td>0.280846</td>\n",
              "      <td>False</td>\n",
              "    </tr>\n",
              "    <tr>\n",
              "      <th>9999</th>\n",
              "      <td>c_nm5049050</td>\n",
              "      <td>d_nm3712386</td>\n",
              "      <td>-2.143671</td>\n",
              "      <td>3.087397</td>\n",
              "      <td>1.753976</td>\n",
              "      <td>1.956635</td>\n",
              "      <td>-1.133909</td>\n",
              "      <td>-0.481676</td>\n",
              "      <td>False</td>\n",
              "    </tr>\n",
              "  </tbody>\n",
              "</table>\n",
              "<p>29665 rows × 9 columns</p>\n",
              "</div>\n",
              "      <button class=\"colab-df-convert\" onclick=\"convertToInteractive('df-7ff04cfb-bf23-4c1c-b5d8-6fd6e912ab1e')\"\n",
              "              title=\"Convert this dataframe to an interactive table.\"\n",
              "              style=\"display:none;\">\n",
              "        \n",
              "  <svg xmlns=\"http://www.w3.org/2000/svg\" height=\"24px\"viewBox=\"0 0 24 24\"\n",
              "       width=\"24px\">\n",
              "    <path d=\"M0 0h24v24H0V0z\" fill=\"none\"/>\n",
              "    <path d=\"M18.56 5.44l.94 2.06.94-2.06 2.06-.94-2.06-.94-.94-2.06-.94 2.06-2.06.94zm-11 1L8.5 8.5l.94-2.06 2.06-.94-2.06-.94L8.5 2.5l-.94 2.06-2.06.94zm10 10l.94 2.06.94-2.06 2.06-.94-2.06-.94-.94-2.06-.94 2.06-2.06.94z\"/><path d=\"M17.41 7.96l-1.37-1.37c-.4-.4-.92-.59-1.43-.59-.52 0-1.04.2-1.43.59L10.3 9.45l-7.72 7.72c-.78.78-.78 2.05 0 2.83L4 21.41c.39.39.9.59 1.41.59.51 0 1.02-.2 1.41-.59l7.78-7.78 2.81-2.81c.8-.78.8-2.07 0-2.86zM5.41 20L4 18.59l7.72-7.72 1.47 1.35L5.41 20z\"/>\n",
              "  </svg>\n",
              "      </button>\n",
              "      \n",
              "  <style>\n",
              "    .colab-df-container {\n",
              "      display:flex;\n",
              "      flex-wrap:wrap;\n",
              "      gap: 12px;\n",
              "    }\n",
              "\n",
              "    .colab-df-convert {\n",
              "      background-color: #E8F0FE;\n",
              "      border: none;\n",
              "      border-radius: 50%;\n",
              "      cursor: pointer;\n",
              "      display: none;\n",
              "      fill: #1967D2;\n",
              "      height: 32px;\n",
              "      padding: 0 0 0 0;\n",
              "      width: 32px;\n",
              "    }\n",
              "\n",
              "    .colab-df-convert:hover {\n",
              "      background-color: #E2EBFA;\n",
              "      box-shadow: 0px 1px 2px rgba(60, 64, 67, 0.3), 0px 1px 3px 1px rgba(60, 64, 67, 0.15);\n",
              "      fill: #174EA6;\n",
              "    }\n",
              "\n",
              "    [theme=dark] .colab-df-convert {\n",
              "      background-color: #3B4455;\n",
              "      fill: #D2E3FC;\n",
              "    }\n",
              "\n",
              "    [theme=dark] .colab-df-convert:hover {\n",
              "      background-color: #434B5C;\n",
              "      box-shadow: 0px 1px 3px 1px rgba(0, 0, 0, 0.15);\n",
              "      filter: drop-shadow(0px 1px 2px rgba(0, 0, 0, 0.3));\n",
              "      fill: #FFFFFF;\n",
              "    }\n",
              "  </style>\n",
              "\n",
              "      <script>\n",
              "        const buttonEl =\n",
              "          document.querySelector('#df-7ff04cfb-bf23-4c1c-b5d8-6fd6e912ab1e button.colab-df-convert');\n",
              "        buttonEl.style.display =\n",
              "          google.colab.kernel.accessAllowed ? 'block' : 'none';\n",
              "\n",
              "        async function convertToInteractive(key) {\n",
              "          const element = document.querySelector('#df-7ff04cfb-bf23-4c1c-b5d8-6fd6e912ab1e');\n",
              "          const dataTable =\n",
              "            await google.colab.kernel.invokeFunction('convertToInteractive',\n",
              "                                                     [key], {});\n",
              "          if (!dataTable) return;\n",
              "\n",
              "          const docLinkHtml = 'Like what you see? Visit the ' +\n",
              "            '<a target=\"_blank\" href=https://colab.research.google.com/notebooks/data_table.ipynb>data table notebook</a>'\n",
              "            + ' to learn more about interactive tables.';\n",
              "          element.innerHTML = '';\n",
              "          dataTable['output_type'] = 'display_data';\n",
              "          await google.colab.output.renderOutput(dataTable, element);\n",
              "          const docLink = document.createElement('div');\n",
              "          docLink.innerHTML = docLinkHtml;\n",
              "          element.appendChild(docLink);\n",
              "        }\n",
              "      </script>\n",
              "    </div>\n",
              "  </div>\n",
              "  "
            ]
          },
          "metadata": {},
          "execution_count": 40
        }
      ]
    },
    {
      "cell_type": "markdown",
      "source": [
        "# Create Test and Train Datasets"
      ],
      "metadata": {
        "id": "6F2DkQH6uk05"
      }
    },
    {
      "cell_type": "code",
      "source": [
        "result_df_train = pd.read_csv('/content/train.csv')\n",
        "del result_df_train[\"Unnamed: 0\"]\n",
        "del result_df_train[\"director\"]\n",
        "del result_df_train[\"movie_star\"]\n",
        "\n",
        "result_df_test = pd.read_csv('/content/test.csv')\n",
        "del result_df_test[\"Unnamed: 0\"]\n",
        "\n",
        "labels_d = result_df_test.iloc[:, 0].values\n",
        "labels_f = result_df_test.iloc[:, 1].values\n",
        "\n",
        "del result_df_test[\"director\"]\n",
        "del result_df_test[\"movie_star\"]\n",
        "\n",
        "### TRAIN ###\n",
        "x_train = result_df_train.iloc[:, :-1]\n",
        "y_train = result_df_train.iloc[:, 6].values\n",
        "\n",
        "### TEST ###\n",
        "x_test = result_df_test.iloc[:, :-1]\n",
        "y_test = result_df_test.iloc[:, 6].values"
      ],
      "metadata": {
        "id": "clkB6Np4ukIu"
      },
      "execution_count": 42,
      "outputs": []
    },
    {
      "cell_type": "markdown",
      "source": [
        "# Logistic Regression for the prediction"
      ],
      "metadata": {
        "id": "B0vMaaRpwSyG"
      }
    },
    {
      "cell_type": "code",
      "source": [
        "from sklearn.linear_model import LogisticRegression\n",
        "logisticRegr = LogisticRegression()\n",
        "logisticRegr.fit(x_train, y_train)\n",
        "\n",
        "y_pred = logisticRegr.predict(x_test)\n",
        "\n",
        "logical_reg_score = logisticRegr.score(x_test, y_test)"
      ],
      "metadata": {
        "id": "_rI6SeSJqJ0f"
      },
      "execution_count": 54,
      "outputs": []
    },
    {
      "cell_type": "markdown",
      "source": [
        "# Evaluation of the regression model"
      ],
      "metadata": {
        "id": "3PT3nKVFxFKZ"
      }
    },
    {
      "cell_type": "code",
      "source": [
        "from sklearn import metrics\n",
        "\n",
        "cm = metrics.confusion_matrix(y_test, y_pred)\n",
        "print(cm)"
      ],
      "metadata": {
        "colab": {
          "base_uri": "https://localhost:8080/"
        },
        "id": "mb1J7papky9Q",
        "outputId": "80a9b242-cbc9-4d35-fcc1-f79a80d16fa4"
      },
      "execution_count": 55,
      "outputs": [
        {
          "output_type": "stream",
          "name": "stdout",
          "text": [
            "[[ 5512  4488]\n",
            " [  764 18901]]\n"
          ]
        }
      ]
    },
    {
      "cell_type": "code",
      "source": [
        "counter = 0\n",
        "for pred, true, in zip(y_pred, y_test):\n",
        "  if pred == True and true == False:\n",
        "    counter = counter + 1\n",
        "counter"
      ],
      "metadata": {
        "colab": {
          "base_uri": "https://localhost:8080/"
        },
        "id": "m_Li0MYn-6kl",
        "outputId": "1751f02a-d898-411f-a083-cb682a77a1c5"
      },
      "execution_count": 66,
      "outputs": [
        {
          "output_type": "execute_result",
          "data": {
            "text/plain": [
              "4488"
            ]
          },
          "metadata": {},
          "execution_count": 66
        }
      ]
    },
    {
      "cell_type": "code",
      "source": [
        "print(logical_reg_score)"
      ],
      "metadata": {
        "colab": {
          "base_uri": "https://localhost:8080/"
        },
        "id": "cWAFD4WZky_6",
        "outputId": "0744620f-6ffb-49e8-f354-3c2a60cbe8a3"
      },
      "execution_count": 56,
      "outputs": [
        {
          "output_type": "stream",
          "name": "stdout",
          "text": [
            "0.8229563458621271\n"
          ]
        }
      ]
    },
    {
      "cell_type": "code",
      "source": [
        "###Confusion matrix with sklearn\n",
        "from sklearn.metrics import roc_curve, roc_auc_score\n",
        "\n",
        "##Computing false and true positive rates\n",
        "fpr, tpr,_= roc_curve(y_test, y_pred, drop_intermediate=False)\n",
        "\n",
        "import matplotlib.pyplot as plt\n",
        "plt.figure()\n",
        "\n",
        "##Adding the ROC\n",
        "plt.plot(fpr, tpr, color='red',\n",
        " lw=2, label='ROC curve')\n",
        "\n",
        "##Random FPR and TPR\n",
        "plt.plot([0, 1], [0, 1], color='blue', lw=2, linestyle='--')\n",
        "\n",
        "##Title and label\n",
        "plt.xlabel('FPR')\n",
        "plt.ylabel('TPR')\n",
        "plt.title('ROC curve')\n",
        "plt.show()\n",
        "\n",
        "print(roc_auc_score(logisticRegr.predict(x_test), y_test))"
      ],
      "metadata": {
        "colab": {
          "base_uri": "https://localhost:8080/",
          "height": 312
        },
        "id": "6cHgpUg0kzCC",
        "outputId": "fa8e349d-71e4-454d-b482-9ac125848668"
      },
      "execution_count": 57,
      "outputs": [
        {
          "output_type": "display_data",
          "data": {
            "text/plain": [
              "<Figure size 432x288 with 1 Axes>"
            ],
            "image/png": "[encoded data removed]"
          },
          "metadata": {
            "needs_background": "light"
          }
        },
        {
          "output_type": "stream",
          "name": "stdout",
          "text": [
            "0.8431906687735223\n"
          ]
        }
      ]
    },
    {
      "cell_type": "code",
      "source": [
        "counter = 0\n",
        "for pred, true, in zip(y_pred, y_test):\n",
        "  if pred == False and true == True:\n",
        "    print(\"False: \" + labels_d[counter] + \" and \" + labels_f[counter])\n",
        "    counter = counter + 1\n",
        "  \n",
        "  if counter == 20:\n",
        "    break"
      ],
      "metadata": {
        "colab": {
          "base_uri": "https://localhost:8080/"
        },
        "id": "olUClCDWkzEb",
        "outputId": "65b08ef0-2712-494d-d537-58db0157ba0c"
      },
      "execution_count": 60,
      "outputs": [
        {
          "output_type": "stream",
          "name": "stdout",
          "text": [
            "False: d_nm0000108 and c_nm0000151\n",
            "False: d_nm4029428 and c_nm5167146\n",
            "False: d_nm4029428 and c_nm4289038\n",
            "False: d_nm4029428 and c_nm4028680\n",
            "False: d_nm4029428 and c_nm1395817\n",
            "False: d_nm4028848 and c_nm9316956\n",
            "False: d_nm4028848 and c_nm9316955\n",
            "False: d_nm4028848 and c_nm9316954\n",
            "False: d_nm4028848 and c_nm9316953\n",
            "False: d_nm4028848 and c_nm4836961\n",
            "False: d_nm4024940 and c_nm4500480\n",
            "False: d_nm4024940 and c_nm4469134\n",
            "False: d_nm4024940 and c_nm4468951\n",
            "False: d_nm4024940 and c_nm4318511\n",
            "False: d_nm4017355 and c_nm2837093\n",
            "False: d_nm4017355 and c_nm2238815\n",
            "False: d_nm4030793 and c_nm5258595\n",
            "False: d_nm4017355 and c_nm1536605\n",
            "False: d_nm4030793 and c_nm5258668\n",
            "False: d_nm4030793 and c_nm5679766\n"
          ]
        }
      ]
    },
    {
      "cell_type": "code",
      "source": [
        "counter = 0\n",
        "for pred, true, in zip(y_pred, y_test):\n",
        "  if pred == True and true == True:\n",
        "    print(\"True: \" + labels_d[counter] + \" and \" + labels_f[counter])\n",
        "    counter = counter + 1\n",
        "  \n",
        "  if counter == 20:\n",
        "    break"
      ],
      "metadata": {
        "colab": {
          "base_uri": "https://localhost:8080/"
        },
        "id": "jtyDk00bxNkJ",
        "outputId": "65e2c72a-743b-4dda-f954-42581ad697fa"
      },
      "execution_count": 61,
      "outputs": [
        {
          "output_type": "stream",
          "name": "stdout",
          "text": [
            "True: d_nm0000108 and c_nm0000151\n",
            "True: d_nm4029428 and c_nm5167146\n",
            "True: d_nm4029428 and c_nm4289038\n",
            "True: d_nm4029428 and c_nm4028680\n",
            "True: d_nm4029428 and c_nm1395817\n",
            "True: d_nm4028848 and c_nm9316956\n",
            "True: d_nm4028848 and c_nm9316955\n",
            "True: d_nm4028848 and c_nm9316954\n",
            "True: d_nm4028848 and c_nm9316953\n",
            "True: d_nm4028848 and c_nm4836961\n",
            "True: d_nm4024940 and c_nm4500480\n",
            "True: d_nm4024940 and c_nm4469134\n",
            "True: d_nm4024940 and c_nm4468951\n",
            "True: d_nm4024940 and c_nm4318511\n",
            "True: d_nm4017355 and c_nm2837093\n",
            "True: d_nm4017355 and c_nm2238815\n",
            "True: d_nm4030793 and c_nm5258595\n",
            "True: d_nm4017355 and c_nm1536605\n",
            "True: d_nm4030793 and c_nm5258668\n",
            "True: d_nm4030793 and c_nm5679766\n"
          ]
        }
      ]
    },
    {
      "cell_type": "markdown",
      "source": [
        "#  Not used because of very high hardware need"
      ],
      "metadata": {
        "id": "I118DMMEv0fw"
      }
    },
    {
      "cell_type": "markdown",
      "source": [
        "Because of very high hardware system need, I could not compiled these below codes!!!"
      ],
      "metadata": {
        "id": "CD0pA9g5kWpD"
      }
    },
    {
      "cell_type": "code",
      "execution_count": 64,
      "metadata": {
        "id": "l1jiHVUcZO_V",
        "outputId": "d6a46212-cb5a-43fa-ab63-54e33aba1384",
        "colab": {
          "base_uri": "https://localhost:8080/"
        }
      },
      "outputs": [
        {
          "output_type": "stream",
          "name": "stdout",
          "text": [
            "25078\n",
            "General Dataset: 23718\n",
            "Right: 15305 Left: 4329\n",
            "Graph with 19634 nodes and 23718 edges\n",
            "This network bipartite and weighted?\n",
            "True\n",
            "True\n"
          ]
        },
        {
          "output_type": "stream",
          "name": "stderr",
          "text": [
            "<ipython-input-64-d9480d1f8edf>:78: DeprecationWarning: info is deprecated and will be removed in version 3.0.\n",
            "\n",
            "  print(nx.info(graph))\n"
          ]
        }
      ],
      "source": [
        "###############################################################################\n",
        "###############################################################################\n",
        "### TRAIN\n",
        "###############################################################################\n",
        "###############################################################################\n",
        "\n",
        "groupData = trainData.groupby('tconst')\n",
        "\n",
        "listGroupData = list(groupData.groups)\n",
        "\n",
        "edgesList = []\n",
        "\n",
        "for eachMovie in listGroupData:\n",
        "    oneGroup = groupData.get_group(eachMovie)\n",
        "    if (oneGroup.category.str.contains(pat=\"actor\").any() or oneGroup.category.str.contains(pat=\"actress\").any()):\n",
        "        if ((oneGroup.category.str.contains(pat=\"director\").any())):\n",
        "            for personIndex1, personRow1 in oneGroup.iterrows():\n",
        "                checkValue1 = personRow1.category\n",
        "                if(checkValue1 == \"director\"):\n",
        "                    for personIndex2, personRow2 in oneGroup.iterrows():\n",
        "                        checkValue2 = personRow2.category\n",
        "                        if(checkValue2 == \"actor\" or checkValue2 == \"actress\"):\n",
        "                            edgesList.append(\"d_\" + personRow1.nconst + \",c_\" + personRow2.nconst)\n",
        "\n",
        "print(len(edgesList))\n",
        "\n",
        "with open('general_network_links.txt', 'w') as f:\n",
        "    for item in edgesList:\n",
        "        f.write(\"%s\\n\" % item)\n",
        "\n",
        "edgesData = pd.read_csv('general_network_links.txt', sep=',', header=None)\n",
        "edgesData.columns = [\"director\", \"movie_star\"]\n",
        "\n",
        "counted = edgesData.groupby(edgesData.columns.tolist()).size().reset_index().\\\n",
        "    rename(columns={0:'weight'})\n",
        "\n",
        "counted = counted.sort_values(by=\"weight\")\n",
        "\n",
        "print(\"General Dataset: \" + str(len(counted)))\n",
        "\n",
        "left_list = counted.director.to_list()\n",
        "right_list = counted.movie_star.to_list()\n",
        "weight_list = counted.weight.to_list()\n",
        "\n",
        "with open('edgelist.txt', 'w') as f:\n",
        "    for item1, item2, item3 in zip(left_list, right_list, weight_list):\n",
        "        f.write(item1 + \" \" + item2 + \" \" + str(item3) + \"\\n\")\n",
        "\n",
        "with open('left.txt', 'w') as f:\n",
        "    for item in left_list:\n",
        "        f.write(\"%s\\n\" % item)\n",
        "\n",
        "with open('right.txt', 'w') as f:\n",
        "    for item in right_list:\n",
        "        f.write(\"%s\\n\" % item)\n",
        "        \n",
        "left = [line.rstrip('\\n') for line in open(\"left.txt\")]\n",
        "right = [line.rstrip('\\n') for line in open(\"right.txt\")]\n",
        "\n",
        "left = list(set(left))\n",
        "right = list(set(right))\n",
        "\n",
        "print(\"Right: \" + str(len(right)) + \" Left: \" + str(len(left)))\n",
        "\n",
        "edge_list = [line.rstrip('\\n') for line in open(\"edgelist.txt\")]\n",
        "\n",
        "a_list = []\n",
        "\n",
        "for elem in edge_list:\n",
        "    a_list.append(tuple(elem.split(\" \")))\n",
        "    \n",
        "graph = nx.Graph()\n",
        "graph.add_nodes_from(right, bipartite=0)\n",
        "graph.add_nodes_from(left, bipartite=1)\n",
        "\n",
        "[graph.add_edge(x, y, weight=int(z)) for x, y, z in a_list]\n",
        "\n",
        "print(nx.info(graph))\n",
        "print(\"This network bipartite and weighted?\")\n",
        "print(nx.is_bipartite(graph))\n",
        "print(nx.is_weighted(graph))"
      ]
    },
    {
      "cell_type": "code",
      "execution_count": 67,
      "metadata": {
        "colab": {
          "base_uri": "https://localhost:8080/",
          "height": 49,
          "referenced_widgets": [
            "4ee60ab8e6314c5c859814757231fa10",
            "3fb9c41cda954675ae67e92e8b56c7d7",
            "486649a0133840bd9020bb20e5a3e7cf",
            "96adafd2edca47c684b3fa715c81dfdf",
            "b563483e471d4ca4b8c7ac7cb3528a3f",
            "19d2bc0f93b549c99eec5ca3682ab0d6",
            "80e455cf017e4d0a8c95d83f4228c486",
            "aed69aec56cb434db8510ec41359290b",
            "82f02bde9635444d859551226da78534",
            "e175a0a43f474009856d7842e479615d",
            "0bd3b8f6ae4b4d8abe791bf3f38021a6"
          ]
        },
        "id": "cFs17yRVZO_V",
        "outputId": "a642430d-b125-4029-d437-9a9d52671413"
      },
      "outputs": [
        {
          "output_type": "display_data",
          "data": {
            "text/plain": [
              "Computing transition probabilities:   0%|          | 0/19634 [00:00<?, ?it/s]"
            ],
            "application/vnd.jupyter.widget-view+json": {
              "version_major": 2,
              "version_minor": 0,
              "model_id": "4ee60ab8e6314c5c859814757231fa10"
            }
          },
          "metadata": {}
        }
      ],
      "source": [
        "from node2vec import Node2Vec\n",
        "\n",
        "# Precompute probabilities and generate walks - **ON WINDOWS ONLY WORKS WITH workers=1**\n",
        "node2vec = Node2Vec(graph, dimensions=6, walk_length=10, num_walks=3, workers=2, weight_key=\"weight\")  # Use temp_folder for big graphs"
      ]
    },
    {
      "cell_type": "code",
      "execution_count": 68,
      "metadata": {
        "id": "Q-3wokLwZO_V"
      },
      "outputs": [],
      "source": [
        "# Embed nodes\n",
        "model = node2vec.fit(window=10, min_count=1, batch_words=4)  # Any keywords acceptable by gensim.Word2Vec can be passed, `diemnsions` and `workers` are automatically passed (from the Node2Vec constructor)"
      ]
    },
    {
      "cell_type": "code",
      "execution_count": 69,
      "metadata": {
        "id": "uKvfJOXlZO_V"
      },
      "outputs": [],
      "source": [
        "EMBEDDING_FILENAME = 'emb/train_embeddings.emb'\n",
        "EMBEDDING_MODEL_FILENAME = 'emb/train_embeddings.model'\n",
        "\n",
        "# Save embeddings for later use\n",
        "model.wv.save_word2vec_format(EMBEDDING_FILENAME)\n",
        "\n",
        "# Save model for later use\n",
        "model.save(EMBEDDING_MODEL_FILENAME)"
      ]
    },
    {
      "cell_type": "code",
      "execution_count": 70,
      "metadata": {
        "id": "rLJwG8WbZO_V",
        "colab": {
          "base_uri": "https://localhost:8080/"
        },
        "outputId": "786ae691-e38f-4d9f-96e5-b0b739a567d4"
      },
      "outputs": [
        {
          "output_type": "stream",
          "name": "stdout",
          "text": [
            "25078\n",
            "General Dataset: 23718\n",
            "Right: 15305 Left: 4329\n",
            "Graph with 19634 nodes and 23718 edges\n",
            "This network bipartite and weighted?\n",
            "True\n",
            "True\n"
          ]
        },
        {
          "output_type": "stream",
          "name": "stderr",
          "text": [
            "<ipython-input-70-9aea61f5c7e1>:78: DeprecationWarning: info is deprecated and will be removed in version 3.0.\n",
            "\n",
            "  print(nx.info(graph))\n"
          ]
        }
      ],
      "source": [
        "###############################################################################\n",
        "###############################################################################\n",
        "### VAL\n",
        "###############################################################################\n",
        "###############################################################################\n",
        "\n",
        "groupData = trainData.groupby('tconst')\n",
        "\n",
        "listGroupData = list(groupData.groups)\n",
        "\n",
        "edgesList = []\n",
        "\n",
        "for eachMovie in listGroupData:\n",
        "    oneGroup = groupData.get_group(eachMovie)\n",
        "    if (oneGroup.category.str.contains(pat=\"actor\").any() or oneGroup.category.str.contains(pat=\"actress\").any()):\n",
        "        if ((oneGroup.category.str.contains(pat=\"director\").any())):\n",
        "            for personIndex1, personRow1 in oneGroup.iterrows():\n",
        "                checkValue1 = personRow1.category\n",
        "                if(checkValue1 == \"director\"):\n",
        "                    for personIndex2, personRow2 in oneGroup.iterrows():\n",
        "                        checkValue2 = personRow2.category\n",
        "                        if(checkValue2 == \"actor\" or checkValue2 == \"actress\"):\n",
        "                            edgesList.append(\"d_\" + personRow1.nconst + \",c_\" + personRow2.nconst)\n",
        "\n",
        "print(len(edgesList))\n",
        "\n",
        "with open('general_network_links.txt', 'w') as f:\n",
        "    for item in edgesList:\n",
        "        f.write(\"%s\\n\" % item)\n",
        "\n",
        "edgesData = pd.read_csv('general_network_links.txt', sep=',', header=None)\n",
        "edgesData.columns = [\"director\", \"movie_star\"]\n",
        "\n",
        "counted = edgesData.groupby(edgesData.columns.tolist()).size().reset_index().\\\n",
        "    rename(columns={0:'weight'})\n",
        "\n",
        "counted = counted.sort_values(by=\"weight\")\n",
        "\n",
        "print(\"General Dataset: \" + str(len(counted)))\n",
        "\n",
        "left_list = counted.director.to_list()\n",
        "right_list = counted.movie_star.to_list()\n",
        "weight_list = counted.weight.to_list()\n",
        "\n",
        "with open('edgelist.txt', 'w') as f:\n",
        "    for item1, item2, item3 in zip(left_list, right_list, weight_list):\n",
        "        f.write(item1 + \" \" + item2 + \" \" + str(item3) + \"\\n\")\n",
        "\n",
        "with open('left.txt', 'w') as f:\n",
        "    for item in left_list:\n",
        "        f.write(\"%s\\n\" % item)\n",
        "\n",
        "with open('right.txt', 'w') as f:\n",
        "    for item in right_list:\n",
        "        f.write(\"%s\\n\" % item)\n",
        "        \n",
        "left = [line.rstrip('\\n') for line in open(\"left.txt\")]\n",
        "right = [line.rstrip('\\n') for line in open(\"right.txt\")]\n",
        "\n",
        "left = list(set(left))\n",
        "right = list(set(right))\n",
        "\n",
        "print(\"Right: \" + str(len(right)) + \" Left: \" + str(len(left)))\n",
        "\n",
        "edge_list = [line.rstrip('\\n') for line in open(\"edgelist.txt\")]\n",
        "\n",
        "a_list = []\n",
        "\n",
        "for elem in edge_list:\n",
        "    a_list.append(tuple(elem.split(\" \")))\n",
        "    \n",
        "graph = nx.Graph()\n",
        "graph.add_nodes_from(right, bipartite=0)\n",
        "graph.add_nodes_from(left, bipartite=1)\n",
        "\n",
        "[graph.add_edge(x, y, weight=int(z)) for x, y, z in a_list]\n",
        "\n",
        "print(nx.info(graph))\n",
        "print(\"This network bipartite and weighted?\")\n",
        "print(nx.is_bipartite(graph))\n",
        "print(nx.is_weighted(graph))"
      ]
    },
    {
      "cell_type": "code",
      "execution_count": 71,
      "metadata": {
        "id": "5LfOc87PZO_W",
        "colab": {
          "base_uri": "https://localhost:8080/",
          "height": 49,
          "referenced_widgets": [
            "6bf2a4cb48a54e8d8b8712ede0927e71",
            "f7e3e2287254479790f561491fba0f4f",
            "c474f68cddcb4000a5a33a9f727e631e",
            "851aa61452fc49cb8957751e84708849",
            "ce319bc3e4d34afebd5df61216147d64",
            "c1e53c5b88114781883487c927ed8441",
            "ea76f75cc7ad47829555882cd493dc34",
            "263c6774449247099d1da10176b6810b",
            "a19415ac1e664442b7665d91f781285a",
            "282d8bb5a3fb4e5aa648430c9583e69e",
            "4efc02e0e27c4b46be7727894a042b66"
          ]
        },
        "outputId": "36698435-bd86-42b4-cf73-bf90a1023dc3"
      },
      "outputs": [
        {
          "output_type": "display_data",
          "data": {
            "text/plain": [
              "Computing transition probabilities:   0%|          | 0/19634 [00:00<?, ?it/s]"
            ],
            "application/vnd.jupyter.widget-view+json": {
              "version_major": 2,
              "version_minor": 0,
              "model_id": "6bf2a4cb48a54e8d8b8712ede0927e71"
            }
          },
          "metadata": {}
        }
      ],
      "source": [
        "from node2vec import Node2Vec\n",
        "\n",
        "# Precompute probabilities and generate walks - **ON WINDOWS ONLY WORKS WITH workers=1**\n",
        "node2vec = Node2Vec(graph, dimensions=6, walk_length=10, num_walks=3, workers=2, weight_key=\"weight\")  # Use temp_folder for big graphs"
      ]
    },
    {
      "cell_type": "code",
      "execution_count": 72,
      "metadata": {
        "id": "rFpzo8SgZO_W"
      },
      "outputs": [],
      "source": [
        "# Embed nodes\n",
        "model = node2vec.fit(window=10, min_count=1, batch_words=4)  # Any keywords acceptable by gensim.Word2Vec can be passed, `diemnsions` and `workers` are automatically passed (from the Node2Vec constructor)"
      ]
    },
    {
      "cell_type": "code",
      "execution_count": 73,
      "metadata": {
        "id": "rFkjuIloZO_W"
      },
      "outputs": [],
      "source": [
        "EMBEDDING_FILENAME = 'emb/val_embeddings.emb'\n",
        "EMBEDDING_MODEL_FILENAME = 'emb/val_embeddings.model'\n",
        "\n",
        "# Save embeddings for later use\n",
        "model.wv.save_word2vec_format(EMBEDDING_FILENAME)\n",
        "\n",
        "# Save model for later use\n",
        "model.save(EMBEDDING_MODEL_FILENAME)"
      ]
    },
    {
      "cell_type": "code",
      "execution_count": 74,
      "metadata": {
        "id": "KGkXjyPkZO_W",
        "colab": {
          "base_uri": "https://localhost:8080/"
        },
        "outputId": "242015c7-96b0-40d4-de2a-2901764c185b"
      },
      "outputs": [
        {
          "output_type": "stream",
          "name": "stdout",
          "text": [
            "25078\n",
            "General Dataset: 23718\n",
            "Right: 15305 Left: 4329\n",
            "Graph with 19634 nodes and 23718 edges\n",
            "This network bipartite and weighted?\n",
            "True\n",
            "True\n"
          ]
        },
        {
          "output_type": "stream",
          "name": "stderr",
          "text": [
            "<ipython-input-74-3e35f2df9d44>:78: DeprecationWarning: info is deprecated and will be removed in version 3.0.\n",
            "\n",
            "  print(nx.info(graph))\n"
          ]
        }
      ],
      "source": [
        "###############################################################################\n",
        "###############################################################################\n",
        "### TEST\n",
        "###############################################################################\n",
        "###############################################################################\n",
        "\n",
        "groupData = trainData.groupby('tconst')\n",
        "\n",
        "listGroupData = list(groupData.groups)\n",
        "\n",
        "edgesList = []\n",
        "\n",
        "for eachMovie in listGroupData:\n",
        "    oneGroup = groupData.get_group(eachMovie)\n",
        "    if (oneGroup.category.str.contains(pat=\"actor\").any() or oneGroup.category.str.contains(pat=\"actress\").any()):\n",
        "        if ((oneGroup.category.str.contains(pat=\"director\").any())):\n",
        "            for personIndex1, personRow1 in oneGroup.iterrows():\n",
        "                checkValue1 = personRow1.category\n",
        "                if(checkValue1 == \"director\"):\n",
        "                    for personIndex2, personRow2 in oneGroup.iterrows():\n",
        "                        checkValue2 = personRow2.category\n",
        "                        if(checkValue2 == \"actor\" or checkValue2 == \"actress\"):\n",
        "                            edgesList.append(\"d_\" + personRow1.nconst + \",c_\" + personRow2.nconst)\n",
        "\n",
        "print(len(edgesList))\n",
        "\n",
        "with open('general_network_links.txt', 'w') as f:\n",
        "    for item in edgesList:\n",
        "        f.write(\"%s\\n\" % item)\n",
        "\n",
        "edgesData = pd.read_csv('general_network_links.txt', sep=',', header=None)\n",
        "edgesData.columns = [\"director\", \"movie_star\"]\n",
        "\n",
        "counted = edgesData.groupby(edgesData.columns.tolist()).size().reset_index().\\\n",
        "    rename(columns={0:'weight'})\n",
        "\n",
        "counted = counted.sort_values(by=\"weight\")\n",
        "\n",
        "print(\"General Dataset: \" + str(len(counted)))\n",
        "\n",
        "left_list = counted.director.to_list()\n",
        "right_list = counted.movie_star.to_list()\n",
        "weight_list = counted.weight.to_list()\n",
        "\n",
        "with open('edgelist.txt', 'w') as f:\n",
        "    for item1, item2, item3 in zip(left_list, right_list, weight_list):\n",
        "        f.write(item1 + \" \" + item2 + \" \" + str(item3) + \"\\n\")\n",
        "\n",
        "with open('left.txt', 'w') as f:\n",
        "    for item in left_list:\n",
        "        f.write(\"%s\\n\" % item)\n",
        "\n",
        "with open('right.txt', 'w') as f:\n",
        "    for item in right_list:\n",
        "        f.write(\"%s\\n\" % item)\n",
        "        \n",
        "left = [line.rstrip('\\n') for line in open(\"left.txt\")]\n",
        "right = [line.rstrip('\\n') for line in open(\"right.txt\")]\n",
        "\n",
        "left = list(set(left))\n",
        "right = list(set(right))\n",
        "\n",
        "print(\"Right: \" + str(len(right)) + \" Left: \" + str(len(left)))\n",
        "\n",
        "edge_list = [line.rstrip('\\n') for line in open(\"edgelist.txt\")]\n",
        "\n",
        "a_list = []\n",
        "\n",
        "for elem in edge_list:\n",
        "    a_list.append(tuple(elem.split(\" \")))\n",
        "    \n",
        "graph = nx.Graph()\n",
        "graph.add_nodes_from(right, bipartite=0)\n",
        "graph.add_nodes_from(left, bipartite=1)\n",
        "\n",
        "[graph.add_edge(x, y, weight=int(z)) for x, y, z in a_list]\n",
        "\n",
        "print(nx.info(graph))\n",
        "print(\"This network bipartite and weighted?\")\n",
        "print(nx.is_bipartite(graph))\n",
        "print(nx.is_weighted(graph))"
      ]
    },
    {
      "cell_type": "code",
      "execution_count": 75,
      "metadata": {
        "id": "v33YN82MZO_W",
        "colab": {
          "base_uri": "https://localhost:8080/",
          "height": 49,
          "referenced_widgets": [
            "3ff80f5cea684c578d2c2f38d3e9306e",
            "4733c078f5914138b8cb0d3d2f25da6a",
            "375f78b788fd4ce0b7172103eea433e7",
            "4dd87f8994934465b30cb11e4dfa129a",
            "7bf0cbf68e704166b94cc26d72fa1023",
            "f9a166291d3642d7a06d9817e6a16d87",
            "2a606a62fab444daa308bd19965172d8",
            "25a2e09d73164ef8802bb0f4bf851dcb",
            "2ae13982020844d190607033de36f845",
            "47502f523d6d48d98ac208c8e543cb5f",
            "f9de6d7956434944abfae4180754e810"
          ]
        },
        "outputId": "cdf4ebd2-9b88-4ac6-a871-428c63130883"
      },
      "outputs": [
        {
          "output_type": "display_data",
          "data": {
            "text/plain": [
              "Computing transition probabilities:   0%|          | 0/19634 [00:00<?, ?it/s]"
            ],
            "application/vnd.jupyter.widget-view+json": {
              "version_major": 2,
              "version_minor": 0,
              "model_id": "3ff80f5cea684c578d2c2f38d3e9306e"
            }
          },
          "metadata": {}
        }
      ],
      "source": [
        "from node2vec import Node2Vec\n",
        "\n",
        "# Precompute probabilities and generate walks - **ON WINDOWS ONLY WORKS WITH workers=1**\n",
        "node2vec = Node2Vec(graph, dimensions=6, walk_length=10, num_walks=3, workers=2, weight_key=\"weight\")  # Use temp_folder for big graphs"
      ]
    },
    {
      "cell_type": "code",
      "execution_count": 76,
      "metadata": {
        "id": "sC0h8MC4ZO_W"
      },
      "outputs": [],
      "source": [
        "# Embed nodes\n",
        "model = node2vec.fit(window=10, min_count=1, batch_words=4)  # Any keywords acceptable by gensim.Word2Vec can be passed, `diemnsions` and `workers` are automatically passed (from the Node2Vec constructor)"
      ]
    },
    {
      "cell_type": "code",
      "execution_count": 77,
      "metadata": {
        "id": "H31NhoB3ZO_X"
      },
      "outputs": [],
      "source": [
        "EMBEDDING_FILENAME = 'emb/test_embeddings.emb'\n",
        "EMBEDDING_MODEL_FILENAME = 'emb/test_embeddings.model'\n",
        "\n",
        "# Save embeddings for later use\n",
        "model.wv.save_word2vec_format(EMBEDDING_FILENAME)\n",
        "\n",
        "# Save model for later use\n",
        "model.save(EMBEDDING_MODEL_FILENAME)"
      ]
    },
    {
      "cell_type": "code",
      "execution_count": 78,
      "metadata": {
        "id": "nKHd5Tz0ZO_X"
      },
      "outputs": [],
      "source": [
        "# Load saved embeddings in Google Drive.\n",
        "model_train = gensim.models.KeyedVectors.load_word2vec_format(\"emb/train_embeddings.emb\", binary=False)\n",
        "model_val = gensim.models.KeyedVectors.load_word2vec_format(\"emb/val_embeddings.emb\", binary=False)\n",
        "model_test = gensim.models.KeyedVectors.load_word2vec_format(\"emb/test_embeddings.emb\", binary=False)"
      ]
    },
    {
      "cell_type": "code",
      "execution_count": null,
      "metadata": {
        "id": "mu12P3FkZO_X",
        "colab": {
          "base_uri": "https://localhost:8080/"
        },
        "outputId": "efd5c8e6-57ae-441e-b434-ef7cf618284a"
      },
      "outputs": [
        {
          "output_type": "stream",
          "name": "stderr",
          "text": [
            "Generating edge features:  37%|███▋      | 70837520/192756795.0 [07:15<12:23, 164040.74it/s]"
          ]
        }
      ],
      "source": [
        "# Embed edges using Hadamard method\n",
        "from node2vec.edges import HadamardEmbedder\n",
        "\n",
        "edges_embs_train = HadamardEmbedder(keyed_vectors=model_train)\n",
        "edges_embs_val   = HadamardEmbedder(keyed_vectors=model_val)\n",
        "edges_embs_test  = HadamardEmbedder(keyed_vectors=model_test)\n",
        "\n",
        "# Get all edges in a separate KeyedVectors instance - use with caution could be huge for big networks\n",
        "edges_kv_train   = edges_embs_train.as_keyed_vectors()\n",
        "edges_kv_val     = edges_embs_val.as_keyed_vectors()\n",
        "edges_kv_test    = edges_embs_test.as_keyed_vectors()\n",
        "\n",
        "EDGES_EMBEDDING_FILENAME_TRAIN = \"result/IMDB_TRAIN.txt\"\n",
        "EDGES_EMBEDDING_FILENAME_VAL   = \"result/IMDB_VAL.txt\"\n",
        "EDGES_EMBEDDING_FILENAME_TEST  = \"result/IMDB_TEST.txt\"\n",
        "\n",
        "# Save embeddings for later use\n",
        "edges_kv_train.save_word2vec_format(EDGES_EMBEDDING_FILENAME_TRAIN)\n",
        "edges_kv_val.save_word2vec_format(EDGES_EMBEDDING_FILENAME_VAL)\n",
        "edges_kv_test.save_word2vec_format(EDGES_EMBEDDING_FILENAME_TEST)"
      ]
    }
  ],
  "metadata": {
    "colab": {
      "collapsed_sections": [
        "HF6QGjxvaDwM",
        "kdbYNPyVgElj",
        "JPVl2AHtWit4",
        "mzQi1abPHWWb",
        "P98kYOm8wtZv",
        "L9klhrEYU2hN"
      ],
      "machine_shape": "hm",
      "provenance": []
    },
    "gpuClass": "standard",
    "kernelspec": {
      "display_name": "Python 3 (ipykernel)",
      "language": "python",
      "name": "python3"
    },
    "language_info": {
      "codemirror_mode": {
        "name": "ipython",
        "version": 3
      },
      "file_extension": ".py",
      "mimetype": "text/x-python",
      "name": "python",
      "nbconvert_exporter": "python",
      "pygments_lexer": "ipython3",
      "version": "3.9.12"
    },
    "widgets": {
      "application/vnd.jupyter.widget-state+json": {
        "9a3e38071fd140f395fb11be9f42aa4c": {
          "model_module": "@jupyter-widgets/controls",
          "model_name": "HBoxModel",
          "model_module_version": "1.5.0",
          "state": {
            "_dom_classes": [],
            "_model_module": "@jupyter-widgets/controls",
            "_model_module_version": "1.5.0",
            "_model_name": "HBoxModel",
            "_view_count": null,
            "_view_module": "@jupyter-widgets/controls",
            "_view_module_version": "1.5.0",
            "_view_name": "HBoxView",
            "box_style": "",
            "children": [
              "IPY_MODEL_ec1335a4f6e54cea815c8d0ef5f53279",
              "IPY_MODEL_4017c1a942024629933a66f3bca06671",
              "IPY_MODEL_65e07892c56f4911940d7521b4424618"
            ],
            "layout": "IPY_MODEL_9e956e2d0e714b3ab2dbc8b3c81d3346"
          }
        },
        "ec1335a4f6e54cea815c8d0ef5f53279": {
          "model_module": "@jupyter-widgets/controls",
          "model_name": "HTMLModel",
          "model_module_version": "1.5.0",
          "state": {
            "_dom_classes": [],
            "_model_module": "@jupyter-widgets/controls",
            "_model_module_version": "1.5.0",
            "_model_name": "HTMLModel",
            "_view_count": null,
            "_view_module": "@jupyter-widgets/controls",
            "_view_module_version": "1.5.0",
            "_view_name": "HTMLView",
            "description": "",
            "description_tooltip": null,
            "layout": "IPY_MODEL_b979210150794f20ace097e29e4c3696",
            "placeholder": "​",
            "style": "IPY_MODEL_752a98ba46184420932bc3d0e8f61cf1",
            "value": "Computing transition probabilities: 100%"
          }
        },
        "4017c1a942024629933a66f3bca06671": {
          "model_module": "@jupyter-widgets/controls",
          "model_name": "FloatProgressModel",
          "model_module_version": "1.5.0",
          "state": {
            "_dom_classes": [],
            "_model_module": "@jupyter-widgets/controls",
            "_model_module_version": "1.5.0",
            "_model_name": "FloatProgressModel",
            "_view_count": null,
            "_view_module": "@jupyter-widgets/controls",
            "_view_module_version": "1.5.0",
            "_view_name": "ProgressView",
            "bar_style": "success",
            "description": "",
            "description_tooltip": null,
            "layout": "IPY_MODEL_8e8eb73489db419c8988b35482df8201",
            "max": 19632,
            "min": 0,
            "orientation": "horizontal",
            "style": "IPY_MODEL_c74c8c52293441d18b68352497e04781",
            "value": 19632
          }
        },
        "65e07892c56f4911940d7521b4424618": {
          "model_module": "@jupyter-widgets/controls",
          "model_name": "HTMLModel",
          "model_module_version": "1.5.0",
          "state": {
            "_dom_classes": [],
            "_model_module": "@jupyter-widgets/controls",
            "_model_module_version": "1.5.0",
            "_model_name": "HTMLModel",
            "_view_count": null,
            "_view_module": "@jupyter-widgets/controls",
            "_view_module_version": "1.5.0",
            "_view_name": "HTMLView",
            "description": "",
            "description_tooltip": null,
            "layout": "IPY_MODEL_f6016ff210d344f8ac50496b2bcf35f9",
            "placeholder": "​",
            "style": "IPY_MODEL_924886d63117443aa6e74f88e4e44143",
            "value": " 19632/19632 [00:02&lt;00:00, 6112.92it/s]"
          }
        },
        "9e956e2d0e714b3ab2dbc8b3c81d3346": {
          "model_module": "@jupyter-widgets/base",
          "model_name": "LayoutModel",
          "model_module_version": "1.2.0",
          "state": {
            "_model_module": "@jupyter-widgets/base",
            "_model_module_version": "1.2.0",
            "_model_name": "LayoutModel",
            "_view_count": null,
            "_view_module": "@jupyter-widgets/base",
            "_view_module_version": "1.2.0",
            "_view_name": "LayoutView",
            "align_content": null,
            "align_items": null,
            "align_self": null,
            "border": null,
            "bottom": null,
            "display": null,
            "flex": null,
            "flex_flow": null,
            "grid_area": null,
            "grid_auto_columns": null,
            "grid_auto_flow": null,
            "grid_auto_rows": null,
            "grid_column": null,
            "grid_gap": null,
            "grid_row": null,
            "grid_template_areas": null,
            "grid_template_columns": null,
            "grid_template_rows": null,
            "height": null,
            "justify_content": null,
            "justify_items": null,
            "left": null,
            "margin": null,
            "max_height": null,
            "max_width": null,
            "min_height": null,
            "min_width": null,
            "object_fit": null,
            "object_position": null,
            "order": null,
            "overflow": null,
            "overflow_x": null,
            "overflow_y": null,
            "padding": null,
            "right": null,
            "top": null,
            "visibility": null,
            "width": null
          }
        },
        "b979210150794f20ace097e29e4c3696": {
          "model_module": "@jupyter-widgets/base",
          "model_name": "LayoutModel",
          "model_module_version": "1.2.0",
          "state": {
            "_model_module": "@jupyter-widgets/base",
            "_model_module_version": "1.2.0",
            "_model_name": "LayoutModel",
            "_view_count": null,
            "_view_module": "@jupyter-widgets/base",
            "_view_module_version": "1.2.0",
            "_view_name": "LayoutView",
            "align_content": null,
            "align_items": null,
            "align_self": null,
            "border": null,
            "bottom": null,
            "display": null,
            "flex": null,
            "flex_flow": null,
            "grid_area": null,
            "grid_auto_columns": null,
            "grid_auto_flow": null,
            "grid_auto_rows": null,
            "grid_column": null,
            "grid_gap": null,
            "grid_row": null,
            "grid_template_areas": null,
            "grid_template_columns": null,
            "grid_template_rows": null,
            "height": null,
            "justify_content": null,
            "justify_items": null,
            "left": null,
            "margin": null,
            "max_height": null,
            "max_width": null,
            "min_height": null,
            "min_width": null,
            "object_fit": null,
            "object_position": null,
            "order": null,
            "overflow": null,
            "overflow_x": null,
            "overflow_y": null,
            "padding": null,
            "right": null,
            "top": null,
            "visibility": null,
            "width": null
          }
        },
        "752a98ba46184420932bc3d0e8f61cf1": {
          "model_module": "@jupyter-widgets/controls",
          "model_name": "DescriptionStyleModel",
          "model_module_version": "1.5.0",
          "state": {
            "_model_module": "@jupyter-widgets/controls",
            "_model_module_version": "1.5.0",
            "_model_name": "DescriptionStyleModel",
            "_view_count": null,
            "_view_module": "@jupyter-widgets/base",
            "_view_module_version": "1.2.0",
            "_view_name": "StyleView",
            "description_width": ""
          }
        },
        "8e8eb73489db419c8988b35482df8201": {
          "model_module": "@jupyter-widgets/base",
          "model_name": "LayoutModel",
          "model_module_version": "1.2.0",
          "state": {
            "_model_module": "@jupyter-widgets/base",
            "_model_module_version": "1.2.0",
            "_model_name": "LayoutModel",
            "_view_count": null,
            "_view_module": "@jupyter-widgets/base",
            "_view_module_version": "1.2.0",
            "_view_name": "LayoutView",
            "align_content": null,
            "align_items": null,
            "align_self": null,
            "border": null,
            "bottom": null,
            "display": null,
            "flex": null,
            "flex_flow": null,
            "grid_area": null,
            "grid_auto_columns": null,
            "grid_auto_flow": null,
            "grid_auto_rows": null,
            "grid_column": null,
            "grid_gap": null,
            "grid_row": null,
            "grid_template_areas": null,
            "grid_template_columns": null,
            "grid_template_rows": null,
            "height": null,
            "justify_content": null,
            "justify_items": null,
            "left": null,
            "margin": null,
            "max_height": null,
            "max_width": null,
            "min_height": null,
            "min_width": null,
            "object_fit": null,
            "object_position": null,
            "order": null,
            "overflow": null,
            "overflow_x": null,
            "overflow_y": null,
            "padding": null,
            "right": null,
            "top": null,
            "visibility": null,
            "width": null
          }
        },
        "c74c8c52293441d18b68352497e04781": {
          "model_module": "@jupyter-widgets/controls",
          "model_name": "ProgressStyleModel",
          "model_module_version": "1.5.0",
          "state": {
            "_model_module": "@jupyter-widgets/controls",
            "_model_module_version": "1.5.0",
            "_model_name": "ProgressStyleModel",
            "_view_count": null,
            "_view_module": "@jupyter-widgets/base",
            "_view_module_version": "1.2.0",
            "_view_name": "StyleView",
            "bar_color": null,
            "description_width": ""
          }
        },
        "f6016ff210d344f8ac50496b2bcf35f9": {
          "model_module": "@jupyter-widgets/base",
          "model_name": "LayoutModel",
          "model_module_version": "1.2.0",
          "state": {
            "_model_module": "@jupyter-widgets/base",
            "_model_module_version": "1.2.0",
            "_model_name": "LayoutModel",
            "_view_count": null,
            "_view_module": "@jupyter-widgets/base",
            "_view_module_version": "1.2.0",
            "_view_name": "LayoutView",
            "align_content": null,
            "align_items": null,
            "align_self": null,
            "border": null,
            "bottom": null,
            "display": null,
            "flex": null,
            "flex_flow": null,
            "grid_area": null,
            "grid_auto_columns": null,
            "grid_auto_flow": null,
            "grid_auto_rows": null,
            "grid_column": null,
            "grid_gap": null,
            "grid_row": null,
            "grid_template_areas": null,
            "grid_template_columns": null,
            "grid_template_rows": null,
            "height": null,
            "justify_content": null,
            "justify_items": null,
            "left": null,
            "margin": null,
            "max_height": null,
            "max_width": null,
            "min_height": null,
            "min_width": null,
            "object_fit": null,
            "object_position": null,
            "order": null,
            "overflow": null,
            "overflow_x": null,
            "overflow_y": null,
            "padding": null,
            "right": null,
            "top": null,
            "visibility": null,
            "width": null
          }
        },
        "924886d63117443aa6e74f88e4e44143": {
          "model_module": "@jupyter-widgets/controls",
          "model_name": "DescriptionStyleModel",
          "model_module_version": "1.5.0",
          "state": {
            "_model_module": "@jupyter-widgets/controls",
            "_model_module_version": "1.5.0",
            "_model_name": "DescriptionStyleModel",
            "_view_count": null,
            "_view_module": "@jupyter-widgets/base",
            "_view_module_version": "1.2.0",
            "_view_name": "StyleView",
            "description_width": ""
          }
        },
        "b474138b34ab406c871c75a62ba36887": {
          "model_module": "@jupyter-widgets/controls",
          "model_name": "HBoxModel",
          "model_module_version": "1.5.0",
          "state": {
            "_dom_classes": [],
            "_model_module": "@jupyter-widgets/controls",
            "_model_module_version": "1.5.0",
            "_model_name": "HBoxModel",
            "_view_count": null,
            "_view_module": "@jupyter-widgets/controls",
            "_view_module_version": "1.5.0",
            "_view_name": "HBoxView",
            "box_style": "",
            "children": [
              "IPY_MODEL_351aad48c2c84440aaa46ed53d1bc3d4",
              "IPY_MODEL_c3914ca7cfb444519b6bf316d6342eca",
              "IPY_MODEL_2f7fd0ecd9724a3aa4bec47ed1d016ee"
            ],
            "layout": "IPY_MODEL_ba4eb24bcaea49189cbb9d57c60c24a3"
          }
        },
        "351aad48c2c84440aaa46ed53d1bc3d4": {
          "model_module": "@jupyter-widgets/controls",
          "model_name": "HTMLModel",
          "model_module_version": "1.5.0",
          "state": {
            "_dom_classes": [],
            "_model_module": "@jupyter-widgets/controls",
            "_model_module_version": "1.5.0",
            "_model_name": "HTMLModel",
            "_view_count": null,
            "_view_module": "@jupyter-widgets/controls",
            "_view_module_version": "1.5.0",
            "_view_name": "HTMLView",
            "description": "",
            "description_tooltip": null,
            "layout": "IPY_MODEL_60d328c07685411883dbe56b1591b554",
            "placeholder": "​",
            "style": "IPY_MODEL_fe092af741df45c8a6dd3e9bab7fe829",
            "value": "Computing transition probabilities: 100%"
          }
        },
        "c3914ca7cfb444519b6bf316d6342eca": {
          "model_module": "@jupyter-widgets/controls",
          "model_name": "FloatProgressModel",
          "model_module_version": "1.5.0",
          "state": {
            "_dom_classes": [],
            "_model_module": "@jupyter-widgets/controls",
            "_model_module_version": "1.5.0",
            "_model_name": "FloatProgressModel",
            "_view_count": null,
            "_view_module": "@jupyter-widgets/controls",
            "_view_module_version": "1.5.0",
            "_view_name": "ProgressView",
            "bar_style": "success",
            "description": "",
            "description_tooltip": null,
            "layout": "IPY_MODEL_5f68f3a2622e496a83d9dca79d31cc1e",
            "max": 18604,
            "min": 0,
            "orientation": "horizontal",
            "style": "IPY_MODEL_1db50453b9d943c1a3f56851815a07a9",
            "value": 18604
          }
        },
        "2f7fd0ecd9724a3aa4bec47ed1d016ee": {
          "model_module": "@jupyter-widgets/controls",
          "model_name": "HTMLModel",
          "model_module_version": "1.5.0",
          "state": {
            "_dom_classes": [],
            "_model_module": "@jupyter-widgets/controls",
            "_model_module_version": "1.5.0",
            "_model_name": "HTMLModel",
            "_view_count": null,
            "_view_module": "@jupyter-widgets/controls",
            "_view_module_version": "1.5.0",
            "_view_name": "HTMLView",
            "description": "",
            "description_tooltip": null,
            "layout": "IPY_MODEL_6e84ea4f1eb148d89d4e47e337dd646d",
            "placeholder": "​",
            "style": "IPY_MODEL_fbcf7ac4534c43f199954d98aec2207e",
            "value": " 18604/18604 [00:01&lt;00:00, 8872.48it/s]"
          }
        },
        "ba4eb24bcaea49189cbb9d57c60c24a3": {
          "model_module": "@jupyter-widgets/base",
          "model_name": "LayoutModel",
          "model_module_version": "1.2.0",
          "state": {
            "_model_module": "@jupyter-widgets/base",
            "_model_module_version": "1.2.0",
            "_model_name": "LayoutModel",
            "_view_count": null,
            "_view_module": "@jupyter-widgets/base",
            "_view_module_version": "1.2.0",
            "_view_name": "LayoutView",
            "align_content": null,
            "align_items": null,
            "align_self": null,
            "border": null,
            "bottom": null,
            "display": null,
            "flex": null,
            "flex_flow": null,
            "grid_area": null,
            "grid_auto_columns": null,
            "grid_auto_flow": null,
            "grid_auto_rows": null,
            "grid_column": null,
            "grid_gap": null,
            "grid_row": null,
            "grid_template_areas": null,
            "grid_template_columns": null,
            "grid_template_rows": null,
            "height": null,
            "justify_content": null,
            "justify_items": null,
            "left": null,
            "margin": null,
            "max_height": null,
            "max_width": null,
            "min_height": null,
            "min_width": null,
            "object_fit": null,
            "object_position": null,
            "order": null,
            "overflow": null,
            "overflow_x": null,
            "overflow_y": null,
            "padding": null,
            "right": null,
            "top": null,
            "visibility": null,
            "width": null
          }
        },
        "60d328c07685411883dbe56b1591b554": {
          "model_module": "@jupyter-widgets/base",
          "model_name": "LayoutModel",
          "model_module_version": "1.2.0",
          "state": {
            "_model_module": "@jupyter-widgets/base",
            "_model_module_version": "1.2.0",
            "_model_name": "LayoutModel",
            "_view_count": null,
            "_view_module": "@jupyter-widgets/base",
            "_view_module_version": "1.2.0",
            "_view_name": "LayoutView",
            "align_content": null,
            "align_items": null,
            "align_self": null,
            "border": null,
            "bottom": null,
            "display": null,
            "flex": null,
            "flex_flow": null,
            "grid_area": null,
            "grid_auto_columns": null,
            "grid_auto_flow": null,
            "grid_auto_rows": null,
            "grid_column": null,
            "grid_gap": null,
            "grid_row": null,
            "grid_template_areas": null,
            "grid_template_columns": null,
            "grid_template_rows": null,
            "height": null,
            "justify_content": null,
            "justify_items": null,
            "left": null,
            "margin": null,
            "max_height": null,
            "max_width": null,
            "min_height": null,
            "min_width": null,
            "object_fit": null,
            "object_position": null,
            "order": null,
            "overflow": null,
            "overflow_x": null,
            "overflow_y": null,
            "padding": null,
            "right": null,
            "top": null,
            "visibility": null,
            "width": null
          }
        },
        "fe092af741df45c8a6dd3e9bab7fe829": {
          "model_module": "@jupyter-widgets/controls",
          "model_name": "DescriptionStyleModel",
          "model_module_version": "1.5.0",
          "state": {
            "_model_module": "@jupyter-widgets/controls",
            "_model_module_version": "1.5.0",
            "_model_name": "DescriptionStyleModel",
            "_view_count": null,
            "_view_module": "@jupyter-widgets/base",
            "_view_module_version": "1.2.0",
            "_view_name": "StyleView",
            "description_width": ""
          }
        },
        "5f68f3a2622e496a83d9dca79d31cc1e": {
          "model_module": "@jupyter-widgets/base",
          "model_name": "LayoutModel",
          "model_module_version": "1.2.0",
          "state": {
            "_model_module": "@jupyter-widgets/base",
            "_model_module_version": "1.2.0",
            "_model_name": "LayoutModel",
            "_view_count": null,
            "_view_module": "@jupyter-widgets/base",
            "_view_module_version": "1.2.0",
            "_view_name": "LayoutView",
            "align_content": null,
            "align_items": null,
            "align_self": null,
            "border": null,
            "bottom": null,
            "display": null,
            "flex": null,
            "flex_flow": null,
            "grid_area": null,
            "grid_auto_columns": null,
            "grid_auto_flow": null,
            "grid_auto_rows": null,
            "grid_column": null,
            "grid_gap": null,
            "grid_row": null,
            "grid_template_areas": null,
            "grid_template_columns": null,
            "grid_template_rows": null,
            "height": null,
            "justify_content": null,
            "justify_items": null,
            "left": null,
            "margin": null,
            "max_height": null,
            "max_width": null,
            "min_height": null,
            "min_width": null,
            "object_fit": null,
            "object_position": null,
            "order": null,
            "overflow": null,
            "overflow_x": null,
            "overflow_y": null,
            "padding": null,
            "right": null,
            "top": null,
            "visibility": null,
            "width": null
          }
        },
        "1db50453b9d943c1a3f56851815a07a9": {
          "model_module": "@jupyter-widgets/controls",
          "model_name": "ProgressStyleModel",
          "model_module_version": "1.5.0",
          "state": {
            "_model_module": "@jupyter-widgets/controls",
            "_model_module_version": "1.5.0",
            "_model_name": "ProgressStyleModel",
            "_view_count": null,
            "_view_module": "@jupyter-widgets/base",
            "_view_module_version": "1.2.0",
            "_view_name": "StyleView",
            "bar_color": null,
            "description_width": ""
          }
        },
        "6e84ea4f1eb148d89d4e47e337dd646d": {
          "model_module": "@jupyter-widgets/base",
          "model_name": "LayoutModel",
          "model_module_version": "1.2.0",
          "state": {
            "_model_module": "@jupyter-widgets/base",
            "_model_module_version": "1.2.0",
            "_model_name": "LayoutModel",
            "_view_count": null,
            "_view_module": "@jupyter-widgets/base",
            "_view_module_version": "1.2.0",
            "_view_name": "LayoutView",
            "align_content": null,
            "align_items": null,
            "align_self": null,
            "border": null,
            "bottom": null,
            "display": null,
            "flex": null,
            "flex_flow": null,
            "grid_area": null,
            "grid_auto_columns": null,
            "grid_auto_flow": null,
            "grid_auto_rows": null,
            "grid_column": null,
            "grid_gap": null,
            "grid_row": null,
            "grid_template_areas": null,
            "grid_template_columns": null,
            "grid_template_rows": null,
            "height": null,
            "justify_content": null,
            "justify_items": null,
            "left": null,
            "margin": null,
            "max_height": null,
            "max_width": null,
            "min_height": null,
            "min_width": null,
            "object_fit": null,
            "object_position": null,
            "order": null,
            "overflow": null,
            "overflow_x": null,
            "overflow_y": null,
            "padding": null,
            "right": null,
            "top": null,
            "visibility": null,
            "width": null
          }
        },
        "fbcf7ac4534c43f199954d98aec2207e": {
          "model_module": "@jupyter-widgets/controls",
          "model_name": "DescriptionStyleModel",
          "model_module_version": "1.5.0",
          "state": {
            "_model_module": "@jupyter-widgets/controls",
            "_model_module_version": "1.5.0",
            "_model_name": "DescriptionStyleModel",
            "_view_count": null,
            "_view_module": "@jupyter-widgets/base",
            "_view_module_version": "1.2.0",
            "_view_name": "StyleView",
            "description_width": ""
          }
        },
        "f49c46e64b5447e2be42af6b9452f5a3": {
          "model_module": "@jupyter-widgets/controls",
          "model_name": "HBoxModel",
          "model_module_version": "1.5.0",
          "state": {
            "_dom_classes": [],
            "_model_module": "@jupyter-widgets/controls",
            "_model_module_version": "1.5.0",
            "_model_name": "HBoxModel",
            "_view_count": null,
            "_view_module": "@jupyter-widgets/controls",
            "_view_module_version": "1.5.0",
            "_view_name": "HBoxView",
            "box_style": "",
            "children": [
              "IPY_MODEL_4843dc8c3e604c189d60f6d13d429b33",
              "IPY_MODEL_bc4266f9487440a4a8779b5829e0d863",
              "IPY_MODEL_a14fa05008db4e5c810693b303000bdd"
            ],
            "layout": "IPY_MODEL_7d7c860c5db34860a45284e1b23c15c0"
          }
        },
        "4843dc8c3e604c189d60f6d13d429b33": {
          "model_module": "@jupyter-widgets/controls",
          "model_name": "HTMLModel",
          "model_module_version": "1.5.0",
          "state": {
            "_dom_classes": [],
            "_model_module": "@jupyter-widgets/controls",
            "_model_module_version": "1.5.0",
            "_model_name": "HTMLModel",
            "_view_count": null,
            "_view_module": "@jupyter-widgets/controls",
            "_view_module_version": "1.5.0",
            "_view_name": "HTMLView",
            "description": "",
            "description_tooltip": null,
            "layout": "IPY_MODEL_f519b78a450247789c6c397db1f0450a",
            "placeholder": "​",
            "style": "IPY_MODEL_421771a8eb544c30a3a6496e5e8f4cce",
            "value": "Computing transition probabilities: 100%"
          }
        },
        "bc4266f9487440a4a8779b5829e0d863": {
          "model_module": "@jupyter-widgets/controls",
          "model_name": "FloatProgressModel",
          "model_module_version": "1.5.0",
          "state": {
            "_dom_classes": [],
            "_model_module": "@jupyter-widgets/controls",
            "_model_module_version": "1.5.0",
            "_model_name": "FloatProgressModel",
            "_view_count": null,
            "_view_module": "@jupyter-widgets/controls",
            "_view_module_version": "1.5.0",
            "_view_name": "ProgressView",
            "bar_style": "success",
            "description": "",
            "description_tooltip": null,
            "layout": "IPY_MODEL_9ea74948699e4fb49ba97c763e09a409",
            "max": 37071,
            "min": 0,
            "orientation": "horizontal",
            "style": "IPY_MODEL_92c8ca724fed4fb6bfa3d906df661d7c",
            "value": 37071
          }
        },
        "a14fa05008db4e5c810693b303000bdd": {
          "model_module": "@jupyter-widgets/controls",
          "model_name": "HTMLModel",
          "model_module_version": "1.5.0",
          "state": {
            "_dom_classes": [],
            "_model_module": "@jupyter-widgets/controls",
            "_model_module_version": "1.5.0",
            "_model_name": "HTMLModel",
            "_view_count": null,
            "_view_module": "@jupyter-widgets/controls",
            "_view_module_version": "1.5.0",
            "_view_name": "HTMLView",
            "description": "",
            "description_tooltip": null,
            "layout": "IPY_MODEL_0dd79498b39b497084317918b145527f",
            "placeholder": "​",
            "style": "IPY_MODEL_4a19ce299cd940aabc79a0d0dbdd8877",
            "value": " 37071/37071 [00:04&lt;00:00, 6586.11it/s]"
          }
        },
        "7d7c860c5db34860a45284e1b23c15c0": {
          "model_module": "@jupyter-widgets/base",
          "model_name": "LayoutModel",
          "model_module_version": "1.2.0",
          "state": {
            "_model_module": "@jupyter-widgets/base",
            "_model_module_version": "1.2.0",
            "_model_name": "LayoutModel",
            "_view_count": null,
            "_view_module": "@jupyter-widgets/base",
            "_view_module_version": "1.2.0",
            "_view_name": "LayoutView",
            "align_content": null,
            "align_items": null,
            "align_self": null,
            "border": null,
            "bottom": null,
            "display": null,
            "flex": null,
            "flex_flow": null,
            "grid_area": null,
            "grid_auto_columns": null,
            "grid_auto_flow": null,
            "grid_auto_rows": null,
            "grid_column": null,
            "grid_gap": null,
            "grid_row": null,
            "grid_template_areas": null,
            "grid_template_columns": null,
            "grid_template_rows": null,
            "height": null,
            "justify_content": null,
            "justify_items": null,
            "left": null,
            "margin": null,
            "max_height": null,
            "max_width": null,
            "min_height": null,
            "min_width": null,
            "object_fit": null,
            "object_position": null,
            "order": null,
            "overflow": null,
            "overflow_x": null,
            "overflow_y": null,
            "padding": null,
            "right": null,
            "top": null,
            "visibility": null,
            "width": null
          }
        },
        "f519b78a450247789c6c397db1f0450a": {
          "model_module": "@jupyter-widgets/base",
          "model_name": "LayoutModel",
          "model_module_version": "1.2.0",
          "state": {
            "_model_module": "@jupyter-widgets/base",
            "_model_module_version": "1.2.0",
            "_model_name": "LayoutModel",
            "_view_count": null,
            "_view_module": "@jupyter-widgets/base",
            "_view_module_version": "1.2.0",
            "_view_name": "LayoutView",
            "align_content": null,
            "align_items": null,
            "align_self": null,
            "border": null,
            "bottom": null,
            "display": null,
            "flex": null,
            "flex_flow": null,
            "grid_area": null,
            "grid_auto_columns": null,
            "grid_auto_flow": null,
            "grid_auto_rows": null,
            "grid_column": null,
            "grid_gap": null,
            "grid_row": null,
            "grid_template_areas": null,
            "grid_template_columns": null,
            "grid_template_rows": null,
            "height": null,
            "justify_content": null,
            "justify_items": null,
            "left": null,
            "margin": null,
            "max_height": null,
            "max_width": null,
            "min_height": null,
            "min_width": null,
            "object_fit": null,
            "object_position": null,
            "order": null,
            "overflow": null,
            "overflow_x": null,
            "overflow_y": null,
            "padding": null,
            "right": null,
            "top": null,
            "visibility": null,
            "width": null
          }
        },
        "421771a8eb544c30a3a6496e5e8f4cce": {
          "model_module": "@jupyter-widgets/controls",
          "model_name": "DescriptionStyleModel",
          "model_module_version": "1.5.0",
          "state": {
            "_model_module": "@jupyter-widgets/controls",
            "_model_module_version": "1.5.0",
            "_model_name": "DescriptionStyleModel",
            "_view_count": null,
            "_view_module": "@jupyter-widgets/base",
            "_view_module_version": "1.2.0",
            "_view_name": "StyleView",
            "description_width": ""
          }
        },
        "9ea74948699e4fb49ba97c763e09a409": {
          "model_module": "@jupyter-widgets/base",
          "model_name": "LayoutModel",
          "model_module_version": "1.2.0",
          "state": {
            "_model_module": "@jupyter-widgets/base",
            "_model_module_version": "1.2.0",
            "_model_name": "LayoutModel",
            "_view_count": null,
            "_view_module": "@jupyter-widgets/base",
            "_view_module_version": "1.2.0",
            "_view_name": "LayoutView",
            "align_content": null,
            "align_items": null,
            "align_self": null,
            "border": null,
            "bottom": null,
            "display": null,
            "flex": null,
            "flex_flow": null,
            "grid_area": null,
            "grid_auto_columns": null,
            "grid_auto_flow": null,
            "grid_auto_rows": null,
            "grid_column": null,
            "grid_gap": null,
            "grid_row": null,
            "grid_template_areas": null,
            "grid_template_columns": null,
            "grid_template_rows": null,
            "height": null,
            "justify_content": null,
            "justify_items": null,
            "left": null,
            "margin": null,
            "max_height": null,
            "max_width": null,
            "min_height": null,
            "min_width": null,
            "object_fit": null,
            "object_position": null,
            "order": null,
            "overflow": null,
            "overflow_x": null,
            "overflow_y": null,
            "padding": null,
            "right": null,
            "top": null,
            "visibility": null,
            "width": null
          }
        },
        "92c8ca724fed4fb6bfa3d906df661d7c": {
          "model_module": "@jupyter-widgets/controls",
          "model_name": "ProgressStyleModel",
          "model_module_version": "1.5.0",
          "state": {
            "_model_module": "@jupyter-widgets/controls",
            "_model_module_version": "1.5.0",
            "_model_name": "ProgressStyleModel",
            "_view_count": null,
            "_view_module": "@jupyter-widgets/base",
            "_view_module_version": "1.2.0",
            "_view_name": "StyleView",
            "bar_color": null,
            "description_width": ""
          }
        },
        "0dd79498b39b497084317918b145527f": {
          "model_module": "@jupyter-widgets/base",
          "model_name": "LayoutModel",
          "model_module_version": "1.2.0",
          "state": {
            "_model_module": "@jupyter-widgets/base",
            "_model_module_version": "1.2.0",
            "_model_name": "LayoutModel",
            "_view_count": null,
            "_view_module": "@jupyter-widgets/base",
            "_view_module_version": "1.2.0",
            "_view_name": "LayoutView",
            "align_content": null,
            "align_items": null,
            "align_self": null,
            "border": null,
            "bottom": null,
            "display": null,
            "flex": null,
            "flex_flow": null,
            "grid_area": null,
            "grid_auto_columns": null,
            "grid_auto_flow": null,
            "grid_auto_rows": null,
            "grid_column": null,
            "grid_gap": null,
            "grid_row": null,
            "grid_template_areas": null,
            "grid_template_columns": null,
            "grid_template_rows": null,
            "height": null,
            "justify_content": null,
            "justify_items": null,
            "left": null,
            "margin": null,
            "max_height": null,
            "max_width": null,
            "min_height": null,
            "min_width": null,
            "object_fit": null,
            "object_position": null,
            "order": null,
            "overflow": null,
            "overflow_x": null,
            "overflow_y": null,
            "padding": null,
            "right": null,
            "top": null,
            "visibility": null,
            "width": null
          }
        },
        "4a19ce299cd940aabc79a0d0dbdd8877": {
          "model_module": "@jupyter-widgets/controls",
          "model_name": "DescriptionStyleModel",
          "model_module_version": "1.5.0",
          "state": {
            "_model_module": "@jupyter-widgets/controls",
            "_model_module_version": "1.5.0",
            "_model_name": "DescriptionStyleModel",
            "_view_count": null,
            "_view_module": "@jupyter-widgets/base",
            "_view_module_version": "1.2.0",
            "_view_name": "StyleView",
            "description_width": ""
          }
        },
        "83658adf14814ec58dc017eba66b486e": {
          "model_module": "@jupyter-widgets/controls",
          "model_name": "HBoxModel",
          "model_module_version": "1.5.0",
          "state": {
            "_dom_classes": [],
            "_model_module": "@jupyter-widgets/controls",
            "_model_module_version": "1.5.0",
            "_model_name": "HBoxModel",
            "_view_count": null,
            "_view_module": "@jupyter-widgets/controls",
            "_view_module_version": "1.5.0",
            "_view_name": "HBoxView",
            "box_style": "",
            "children": [
              "IPY_MODEL_0723a6f2804c4289a8759821e28c5e45",
              "IPY_MODEL_9a255bb0cc6f41a8b57a88cae5320d77",
              "IPY_MODEL_ebce420b4bf6442b8b107f145fb8c3d5"
            ],
            "layout": "IPY_MODEL_138f4f8fc07e49a39830a80f9829760f"
          }
        },
        "0723a6f2804c4289a8759821e28c5e45": {
          "model_module": "@jupyter-widgets/controls",
          "model_name": "HTMLModel",
          "model_module_version": "1.5.0",
          "state": {
            "_dom_classes": [],
            "_model_module": "@jupyter-widgets/controls",
            "_model_module_version": "1.5.0",
            "_model_name": "HTMLModel",
            "_view_count": null,
            "_view_module": "@jupyter-widgets/controls",
            "_view_module_version": "1.5.0",
            "_view_name": "HTMLView",
            "description": "",
            "description_tooltip": null,
            "layout": "IPY_MODEL_13108ea09b5f4483a25ef9c8cfa321fd",
            "placeholder": "​",
            "style": "IPY_MODEL_b82bf2707c8d453fb8b98c9db10eb760",
            "value": "Computing transition probabilities: 100%"
          }
        },
        "9a255bb0cc6f41a8b57a88cae5320d77": {
          "model_module": "@jupyter-widgets/controls",
          "model_name": "FloatProgressModel",
          "model_module_version": "1.5.0",
          "state": {
            "_dom_classes": [],
            "_model_module": "@jupyter-widgets/controls",
            "_model_module_version": "1.5.0",
            "_model_name": "FloatProgressModel",
            "_view_count": null,
            "_view_module": "@jupyter-widgets/controls",
            "_view_module_version": "1.5.0",
            "_view_name": "ProgressView",
            "bar_style": "success",
            "description": "",
            "description_tooltip": null,
            "layout": "IPY_MODEL_7c01366ef1754894bf76fc04a06f5438",
            "max": 17225,
            "min": 0,
            "orientation": "horizontal",
            "style": "IPY_MODEL_80d1ae66354240388cd4b35cd9eceb3d",
            "value": 17225
          }
        },
        "ebce420b4bf6442b8b107f145fb8c3d5": {
          "model_module": "@jupyter-widgets/controls",
          "model_name": "HTMLModel",
          "model_module_version": "1.5.0",
          "state": {
            "_dom_classes": [],
            "_model_module": "@jupyter-widgets/controls",
            "_model_module_version": "1.5.0",
            "_model_name": "HTMLModel",
            "_view_count": null,
            "_view_module": "@jupyter-widgets/controls",
            "_view_module_version": "1.5.0",
            "_view_name": "HTMLView",
            "description": "",
            "description_tooltip": null,
            "layout": "IPY_MODEL_12c65ee5c26e4fe485ee98dc7e8856ff",
            "placeholder": "​",
            "style": "IPY_MODEL_14c42ade77954fc487f0de33b6fbf636",
            "value": " 17225/17225 [00:01&lt;00:00, 9928.91it/s]"
          }
        },
        "138f4f8fc07e49a39830a80f9829760f": {
          "model_module": "@jupyter-widgets/base",
          "model_name": "LayoutModel",
          "model_module_version": "1.2.0",
          "state": {
            "_model_module": "@jupyter-widgets/base",
            "_model_module_version": "1.2.0",
            "_model_name": "LayoutModel",
            "_view_count": null,
            "_view_module": "@jupyter-widgets/base",
            "_view_module_version": "1.2.0",
            "_view_name": "LayoutView",
            "align_content": null,
            "align_items": null,
            "align_self": null,
            "border": null,
            "bottom": null,
            "display": null,
            "flex": null,
            "flex_flow": null,
            "grid_area": null,
            "grid_auto_columns": null,
            "grid_auto_flow": null,
            "grid_auto_rows": null,
            "grid_column": null,
            "grid_gap": null,
            "grid_row": null,
            "grid_template_areas": null,
            "grid_template_columns": null,
            "grid_template_rows": null,
            "height": null,
            "justify_content": null,
            "justify_items": null,
            "left": null,
            "margin": null,
            "max_height": null,
            "max_width": null,
            "min_height": null,
            "min_width": null,
            "object_fit": null,
            "object_position": null,
            "order": null,
            "overflow": null,
            "overflow_x": null,
            "overflow_y": null,
            "padding": null,
            "right": null,
            "top": null,
            "visibility": null,
            "width": null
          }
        },
        "13108ea09b5f4483a25ef9c8cfa321fd": {
          "model_module": "@jupyter-widgets/base",
          "model_name": "LayoutModel",
          "model_module_version": "1.2.0",
          "state": {
            "_model_module": "@jupyter-widgets/base",
            "_model_module_version": "1.2.0",
            "_model_name": "LayoutModel",
            "_view_count": null,
            "_view_module": "@jupyter-widgets/base",
            "_view_module_version": "1.2.0",
            "_view_name": "LayoutView",
            "align_content": null,
            "align_items": null,
            "align_self": null,
            "border": null,
            "bottom": null,
            "display": null,
            "flex": null,
            "flex_flow": null,
            "grid_area": null,
            "grid_auto_columns": null,
            "grid_auto_flow": null,
            "grid_auto_rows": null,
            "grid_column": null,
            "grid_gap": null,
            "grid_row": null,
            "grid_template_areas": null,
            "grid_template_columns": null,
            "grid_template_rows": null,
            "height": null,
            "justify_content": null,
            "justify_items": null,
            "left": null,
            "margin": null,
            "max_height": null,
            "max_width": null,
            "min_height": null,
            "min_width": null,
            "object_fit": null,
            "object_position": null,
            "order": null,
            "overflow": null,
            "overflow_x": null,
            "overflow_y": null,
            "padding": null,
            "right": null,
            "top": null,
            "visibility": null,
            "width": null
          }
        },
        "b82bf2707c8d453fb8b98c9db10eb760": {
          "model_module": "@jupyter-widgets/controls",
          "model_name": "DescriptionStyleModel",
          "model_module_version": "1.5.0",
          "state": {
            "_model_module": "@jupyter-widgets/controls",
            "_model_module_version": "1.5.0",
            "_model_name": "DescriptionStyleModel",
            "_view_count": null,
            "_view_module": "@jupyter-widgets/base",
            "_view_module_version": "1.2.0",
            "_view_name": "StyleView",
            "description_width": ""
          }
        },
        "7c01366ef1754894bf76fc04a06f5438": {
          "model_module": "@jupyter-widgets/base",
          "model_name": "LayoutModel",
          "model_module_version": "1.2.0",
          "state": {
            "_model_module": "@jupyter-widgets/base",
            "_model_module_version": "1.2.0",
            "_model_name": "LayoutModel",
            "_view_count": null,
            "_view_module": "@jupyter-widgets/base",
            "_view_module_version": "1.2.0",
            "_view_name": "LayoutView",
            "align_content": null,
            "align_items": null,
            "align_self": null,
            "border": null,
            "bottom": null,
            "display": null,
            "flex": null,
            "flex_flow": null,
            "grid_area": null,
            "grid_auto_columns": null,
            "grid_auto_flow": null,
            "grid_auto_rows": null,
            "grid_column": null,
            "grid_gap": null,
            "grid_row": null,
            "grid_template_areas": null,
            "grid_template_columns": null,
            "grid_template_rows": null,
            "height": null,
            "justify_content": null,
            "justify_items": null,
            "left": null,
            "margin": null,
            "max_height": null,
            "max_width": null,
            "min_height": null,
            "min_width": null,
            "object_fit": null,
            "object_position": null,
            "order": null,
            "overflow": null,
            "overflow_x": null,
            "overflow_y": null,
            "padding": null,
            "right": null,
            "top": null,
            "visibility": null,
            "width": null
          }
        },
        "80d1ae66354240388cd4b35cd9eceb3d": {
          "model_module": "@jupyter-widgets/controls",
          "model_name": "ProgressStyleModel",
          "model_module_version": "1.5.0",
          "state": {
            "_model_module": "@jupyter-widgets/controls",
            "_model_module_version": "1.5.0",
            "_model_name": "ProgressStyleModel",
            "_view_count": null,
            "_view_module": "@jupyter-widgets/base",
            "_view_module_version": "1.2.0",
            "_view_name": "StyleView",
            "bar_color": null,
            "description_width": ""
          }
        },
        "12c65ee5c26e4fe485ee98dc7e8856ff": {
          "model_module": "@jupyter-widgets/base",
          "model_name": "LayoutModel",
          "model_module_version": "1.2.0",
          "state": {
            "_model_module": "@jupyter-widgets/base",
            "_model_module_version": "1.2.0",
            "_model_name": "LayoutModel",
            "_view_count": null,
            "_view_module": "@jupyter-widgets/base",
            "_view_module_version": "1.2.0",
            "_view_name": "LayoutView",
            "align_content": null,
            "align_items": null,
            "align_self": null,
            "border": null,
            "bottom": null,
            "display": null,
            "flex": null,
            "flex_flow": null,
            "grid_area": null,
            "grid_auto_columns": null,
            "grid_auto_flow": null,
            "grid_auto_rows": null,
            "grid_column": null,
            "grid_gap": null,
            "grid_row": null,
            "grid_template_areas": null,
            "grid_template_columns": null,
            "grid_template_rows": null,
            "height": null,
            "justify_content": null,
            "justify_items": null,
            "left": null,
            "margin": null,
            "max_height": null,
            "max_width": null,
            "min_height": null,
            "min_width": null,
            "object_fit": null,
            "object_position": null,
            "order": null,
            "overflow": null,
            "overflow_x": null,
            "overflow_y": null,
            "padding": null,
            "right": null,
            "top": null,
            "visibility": null,
            "width": null
          }
        },
        "14c42ade77954fc487f0de33b6fbf636": {
          "model_module": "@jupyter-widgets/controls",
          "model_name": "DescriptionStyleModel",
          "model_module_version": "1.5.0",
          "state": {
            "_model_module": "@jupyter-widgets/controls",
            "_model_module_version": "1.5.0",
            "_model_name": "DescriptionStyleModel",
            "_view_count": null,
            "_view_module": "@jupyter-widgets/base",
            "_view_module_version": "1.2.0",
            "_view_name": "StyleView",
            "description_width": ""
          }
        },
        "4ee60ab8e6314c5c859814757231fa10": {
          "model_module": "@jupyter-widgets/controls",
          "model_name": "HBoxModel",
          "model_module_version": "1.5.0",
          "state": {
            "_dom_classes": [],
            "_model_module": "@jupyter-widgets/controls",
            "_model_module_version": "1.5.0",
            "_model_name": "HBoxModel",
            "_view_count": null,
            "_view_module": "@jupyter-widgets/controls",
            "_view_module_version": "1.5.0",
            "_view_name": "HBoxView",
            "box_style": "",
            "children": [
              "IPY_MODEL_3fb9c41cda954675ae67e92e8b56c7d7",
              "IPY_MODEL_486649a0133840bd9020bb20e5a3e7cf",
              "IPY_MODEL_96adafd2edca47c684b3fa715c81dfdf"
            ],
            "layout": "IPY_MODEL_b563483e471d4ca4b8c7ac7cb3528a3f"
          }
        },
        "3fb9c41cda954675ae67e92e8b56c7d7": {
          "model_module": "@jupyter-widgets/controls",
          "model_name": "HTMLModel",
          "model_module_version": "1.5.0",
          "state": {
            "_dom_classes": [],
            "_model_module": "@jupyter-widgets/controls",
            "_model_module_version": "1.5.0",
            "_model_name": "HTMLModel",
            "_view_count": null,
            "_view_module": "@jupyter-widgets/controls",
            "_view_module_version": "1.5.0",
            "_view_name": "HTMLView",
            "description": "",
            "description_tooltip": null,
            "layout": "IPY_MODEL_19d2bc0f93b549c99eec5ca3682ab0d6",
            "placeholder": "​",
            "style": "IPY_MODEL_80e455cf017e4d0a8c95d83f4228c486",
            "value": "Computing transition probabilities: 100%"
          }
        },
        "486649a0133840bd9020bb20e5a3e7cf": {
          "model_module": "@jupyter-widgets/controls",
          "model_name": "FloatProgressModel",
          "model_module_version": "1.5.0",
          "state": {
            "_dom_classes": [],
            "_model_module": "@jupyter-widgets/controls",
            "_model_module_version": "1.5.0",
            "_model_name": "FloatProgressModel",
            "_view_count": null,
            "_view_module": "@jupyter-widgets/controls",
            "_view_module_version": "1.5.0",
            "_view_name": "ProgressView",
            "bar_style": "success",
            "description": "",
            "description_tooltip": null,
            "layout": "IPY_MODEL_aed69aec56cb434db8510ec41359290b",
            "max": 19634,
            "min": 0,
            "orientation": "horizontal",
            "style": "IPY_MODEL_82f02bde9635444d859551226da78534",
            "value": 19634
          }
        },
        "96adafd2edca47c684b3fa715c81dfdf": {
          "model_module": "@jupyter-widgets/controls",
          "model_name": "HTMLModel",
          "model_module_version": "1.5.0",
          "state": {
            "_dom_classes": [],
            "_model_module": "@jupyter-widgets/controls",
            "_model_module_version": "1.5.0",
            "_model_name": "HTMLModel",
            "_view_count": null,
            "_view_module": "@jupyter-widgets/controls",
            "_view_module_version": "1.5.0",
            "_view_name": "HTMLView",
            "description": "",
            "description_tooltip": null,
            "layout": "IPY_MODEL_e175a0a43f474009856d7842e479615d",
            "placeholder": "​",
            "style": "IPY_MODEL_0bd3b8f6ae4b4d8abe791bf3f38021a6",
            "value": " 19634/19634 [00:03&lt;00:00, 5987.45it/s]"
          }
        },
        "b563483e471d4ca4b8c7ac7cb3528a3f": {
          "model_module": "@jupyter-widgets/base",
          "model_name": "LayoutModel",
          "model_module_version": "1.2.0",
          "state": {
            "_model_module": "@jupyter-widgets/base",
            "_model_module_version": "1.2.0",
            "_model_name": "LayoutModel",
            "_view_count": null,
            "_view_module": "@jupyter-widgets/base",
            "_view_module_version": "1.2.0",
            "_view_name": "LayoutView",
            "align_content": null,
            "align_items": null,
            "align_self": null,
            "border": null,
            "bottom": null,
            "display": null,
            "flex": null,
            "flex_flow": null,
            "grid_area": null,
            "grid_auto_columns": null,
            "grid_auto_flow": null,
            "grid_auto_rows": null,
            "grid_column": null,
            "grid_gap": null,
            "grid_row": null,
            "grid_template_areas": null,
            "grid_template_columns": null,
            "grid_template_rows": null,
            "height": null,
            "justify_content": null,
            "justify_items": null,
            "left": null,
            "margin": null,
            "max_height": null,
            "max_width": null,
            "min_height": null,
            "min_width": null,
            "object_fit": null,
            "object_position": null,
            "order": null,
            "overflow": null,
            "overflow_x": null,
            "overflow_y": null,
            "padding": null,
            "right": null,
            "top": null,
            "visibility": null,
            "width": null
          }
        },
        "19d2bc0f93b549c99eec5ca3682ab0d6": {
          "model_module": "@jupyter-widgets/base",
          "model_name": "LayoutModel",
          "model_module_version": "1.2.0",
          "state": {
            "_model_module": "@jupyter-widgets/base",
            "_model_module_version": "1.2.0",
            "_model_name": "LayoutModel",
            "_view_count": null,
            "_view_module": "@jupyter-widgets/base",
            "_view_module_version": "1.2.0",
            "_view_name": "LayoutView",
            "align_content": null,
            "align_items": null,
            "align_self": null,
            "border": null,
            "bottom": null,
            "display": null,
            "flex": null,
            "flex_flow": null,
            "grid_area": null,
            "grid_auto_columns": null,
            "grid_auto_flow": null,
            "grid_auto_rows": null,
            "grid_column": null,
            "grid_gap": null,
            "grid_row": null,
            "grid_template_areas": null,
            "grid_template_columns": null,
            "grid_template_rows": null,
            "height": null,
            "justify_content": null,
            "justify_items": null,
            "left": null,
            "margin": null,
            "max_height": null,
            "max_width": null,
            "min_height": null,
            "min_width": null,
            "object_fit": null,
            "object_position": null,
            "order": null,
            "overflow": null,
            "overflow_x": null,
            "overflow_y": null,
            "padding": null,
            "right": null,
            "top": null,
            "visibility": null,
            "width": null
          }
        },
        "80e455cf017e4d0a8c95d83f4228c486": {
          "model_module": "@jupyter-widgets/controls",
          "model_name": "DescriptionStyleModel",
          "model_module_version": "1.5.0",
          "state": {
            "_model_module": "@jupyter-widgets/controls",
            "_model_module_version": "1.5.0",
            "_model_name": "DescriptionStyleModel",
            "_view_count": null,
            "_view_module": "@jupyter-widgets/base",
            "_view_module_version": "1.2.0",
            "_view_name": "StyleView",
            "description_width": ""
          }
        },
        "aed69aec56cb434db8510ec41359290b": {
          "model_module": "@jupyter-widgets/base",
          "model_name": "LayoutModel",
          "model_module_version": "1.2.0",
          "state": {
            "_model_module": "@jupyter-widgets/base",
            "_model_module_version": "1.2.0",
            "_model_name": "LayoutModel",
            "_view_count": null,
            "_view_module": "@jupyter-widgets/base",
            "_view_module_version": "1.2.0",
            "_view_name": "LayoutView",
            "align_content": null,
            "align_items": null,
            "align_self": null,
            "border": null,
            "bottom": null,
            "display": null,
            "flex": null,
            "flex_flow": null,
            "grid_area": null,
            "grid_auto_columns": null,
            "grid_auto_flow": null,
            "grid_auto_rows": null,
            "grid_column": null,
            "grid_gap": null,
            "grid_row": null,
            "grid_template_areas": null,
            "grid_template_columns": null,
            "grid_template_rows": null,
            "height": null,
            "justify_content": null,
            "justify_items": null,
            "left": null,
            "margin": null,
            "max_height": null,
            "max_width": null,
            "min_height": null,
            "min_width": null,
            "object_fit": null,
            "object_position": null,
            "order": null,
            "overflow": null,
            "overflow_x": null,
            "overflow_y": null,
            "padding": null,
            "right": null,
            "top": null,
            "visibility": null,
            "width": null
          }
        },
        "82f02bde9635444d859551226da78534": {
          "model_module": "@jupyter-widgets/controls",
          "model_name": "ProgressStyleModel",
          "model_module_version": "1.5.0",
          "state": {
            "_model_module": "@jupyter-widgets/controls",
            "_model_module_version": "1.5.0",
            "_model_name": "ProgressStyleModel",
            "_view_count": null,
            "_view_module": "@jupyter-widgets/base",
            "_view_module_version": "1.2.0",
            "_view_name": "StyleView",
            "bar_color": null,
            "description_width": ""
          }
        },
        "e175a0a43f474009856d7842e479615d": {
          "model_module": "@jupyter-widgets/base",
          "model_name": "LayoutModel",
          "model_module_version": "1.2.0",
          "state": {
            "_model_module": "@jupyter-widgets/base",
            "_model_module_version": "1.2.0",
            "_model_name": "LayoutModel",
            "_view_count": null,
            "_view_module": "@jupyter-widgets/base",
            "_view_module_version": "1.2.0",
            "_view_name": "LayoutView",
            "align_content": null,
            "align_items": null,
            "align_self": null,
            "border": null,
            "bottom": null,
            "display": null,
            "flex": null,
            "flex_flow": null,
            "grid_area": null,
            "grid_auto_columns": null,
            "grid_auto_flow": null,
            "grid_auto_rows": null,
            "grid_column": null,
            "grid_gap": null,
            "grid_row": null,
            "grid_template_areas": null,
            "grid_template_columns": null,
            "grid_template_rows": null,
            "height": null,
            "justify_content": null,
            "justify_items": null,
            "left": null,
            "margin": null,
            "max_height": null,
            "max_width": null,
            "min_height": null,
            "min_width": null,
            "object_fit": null,
            "object_position": null,
            "order": null,
            "overflow": null,
            "overflow_x": null,
            "overflow_y": null,
            "padding": null,
            "right": null,
            "top": null,
            "visibility": null,
            "width": null
          }
        },
        "0bd3b8f6ae4b4d8abe791bf3f38021a6": {
          "model_module": "@jupyter-widgets/controls",
          "model_name": "DescriptionStyleModel",
          "model_module_version": "1.5.0",
          "state": {
            "_model_module": "@jupyter-widgets/controls",
            "_model_module_version": "1.5.0",
            "_model_name": "DescriptionStyleModel",
            "_view_count": null,
            "_view_module": "@jupyter-widgets/base",
            "_view_module_version": "1.2.0",
            "_view_name": "StyleView",
            "description_width": ""
          }
        },
        "6bf2a4cb48a54e8d8b8712ede0927e71": {
          "model_module": "@jupyter-widgets/controls",
          "model_name": "HBoxModel",
          "model_module_version": "1.5.0",
          "state": {
            "_dom_classes": [],
            "_model_module": "@jupyter-widgets/controls",
            "_model_module_version": "1.5.0",
            "_model_name": "HBoxModel",
            "_view_count": null,
            "_view_module": "@jupyter-widgets/controls",
            "_view_module_version": "1.5.0",
            "_view_name": "HBoxView",
            "box_style": "",
            "children": [
              "IPY_MODEL_f7e3e2287254479790f561491fba0f4f",
              "IPY_MODEL_c474f68cddcb4000a5a33a9f727e631e",
              "IPY_MODEL_851aa61452fc49cb8957751e84708849"
            ],
            "layout": "IPY_MODEL_ce319bc3e4d34afebd5df61216147d64"
          }
        },
        "f7e3e2287254479790f561491fba0f4f": {
          "model_module": "@jupyter-widgets/controls",
          "model_name": "HTMLModel",
          "model_module_version": "1.5.0",
          "state": {
            "_dom_classes": [],
            "_model_module": "@jupyter-widgets/controls",
            "_model_module_version": "1.5.0",
            "_model_name": "HTMLModel",
            "_view_count": null,
            "_view_module": "@jupyter-widgets/controls",
            "_view_module_version": "1.5.0",
            "_view_name": "HTMLView",
            "description": "",
            "description_tooltip": null,
            "layout": "IPY_MODEL_c1e53c5b88114781883487c927ed8441",
            "placeholder": "​",
            "style": "IPY_MODEL_ea76f75cc7ad47829555882cd493dc34",
            "value": "Computing transition probabilities: 100%"
          }
        },
        "c474f68cddcb4000a5a33a9f727e631e": {
          "model_module": "@jupyter-widgets/controls",
          "model_name": "FloatProgressModel",
          "model_module_version": "1.5.0",
          "state": {
            "_dom_classes": [],
            "_model_module": "@jupyter-widgets/controls",
            "_model_module_version": "1.5.0",
            "_model_name": "FloatProgressModel",
            "_view_count": null,
            "_view_module": "@jupyter-widgets/controls",
            "_view_module_version": "1.5.0",
            "_view_name": "ProgressView",
            "bar_style": "success",
            "description": "",
            "description_tooltip": null,
            "layout": "IPY_MODEL_263c6774449247099d1da10176b6810b",
            "max": 19634,
            "min": 0,
            "orientation": "horizontal",
            "style": "IPY_MODEL_a19415ac1e664442b7665d91f781285a",
            "value": 19634
          }
        },
        "851aa61452fc49cb8957751e84708849": {
          "model_module": "@jupyter-widgets/controls",
          "model_name": "HTMLModel",
          "model_module_version": "1.5.0",
          "state": {
            "_dom_classes": [],
            "_model_module": "@jupyter-widgets/controls",
            "_model_module_version": "1.5.0",
            "_model_name": "HTMLModel",
            "_view_count": null,
            "_view_module": "@jupyter-widgets/controls",
            "_view_module_version": "1.5.0",
            "_view_name": "HTMLView",
            "description": "",
            "description_tooltip": null,
            "layout": "IPY_MODEL_282d8bb5a3fb4e5aa648430c9583e69e",
            "placeholder": "​",
            "style": "IPY_MODEL_4efc02e0e27c4b46be7727894a042b66",
            "value": " 19634/19634 [00:02&lt;00:00, 5890.66it/s]"
          }
        },
        "ce319bc3e4d34afebd5df61216147d64": {
          "model_module": "@jupyter-widgets/base",
          "model_name": "LayoutModel",
          "model_module_version": "1.2.0",
          "state": {
            "_model_module": "@jupyter-widgets/base",
            "_model_module_version": "1.2.0",
            "_model_name": "LayoutModel",
            "_view_count": null,
            "_view_module": "@jupyter-widgets/base",
            "_view_module_version": "1.2.0",
            "_view_name": "LayoutView",
            "align_content": null,
            "align_items": null,
            "align_self": null,
            "border": null,
            "bottom": null,
            "display": null,
            "flex": null,
            "flex_flow": null,
            "grid_area": null,
            "grid_auto_columns": null,
            "grid_auto_flow": null,
            "grid_auto_rows": null,
            "grid_column": null,
            "grid_gap": null,
            "grid_row": null,
            "grid_template_areas": null,
            "grid_template_columns": null,
            "grid_template_rows": null,
            "height": null,
            "justify_content": null,
            "justify_items": null,
            "left": null,
            "margin": null,
            "max_height": null,
            "max_width": null,
            "min_height": null,
            "min_width": null,
            "object_fit": null,
            "object_position": null,
            "order": null,
            "overflow": null,
            "overflow_x": null,
            "overflow_y": null,
            "padding": null,
            "right": null,
            "top": null,
            "visibility": null,
            "width": null
          }
        },
        "c1e53c5b88114781883487c927ed8441": {
          "model_module": "@jupyter-widgets/base",
          "model_name": "LayoutModel",
          "model_module_version": "1.2.0",
          "state": {
            "_model_module": "@jupyter-widgets/base",
            "_model_module_version": "1.2.0",
            "_model_name": "LayoutModel",
            "_view_count": null,
            "_view_module": "@jupyter-widgets/base",
            "_view_module_version": "1.2.0",
            "_view_name": "LayoutView",
            "align_content": null,
            "align_items": null,
            "align_self": null,
            "border": null,
            "bottom": null,
            "display": null,
            "flex": null,
            "flex_flow": null,
            "grid_area": null,
            "grid_auto_columns": null,
            "grid_auto_flow": null,
            "grid_auto_rows": null,
            "grid_column": null,
            "grid_gap": null,
            "grid_row": null,
            "grid_template_areas": null,
            "grid_template_columns": null,
            "grid_template_rows": null,
            "height": null,
            "justify_content": null,
            "justify_items": null,
            "left": null,
            "margin": null,
            "max_height": null,
            "max_width": null,
            "min_height": null,
            "min_width": null,
            "object_fit": null,
            "object_position": null,
            "order": null,
            "overflow": null,
            "overflow_x": null,
            "overflow_y": null,
            "padding": null,
            "right": null,
            "top": null,
            "visibility": null,
            "width": null
          }
        },
        "ea76f75cc7ad47829555882cd493dc34": {
          "model_module": "@jupyter-widgets/controls",
          "model_name": "DescriptionStyleModel",
          "model_module_version": "1.5.0",
          "state": {
            "_model_module": "@jupyter-widgets/controls",
            "_model_module_version": "1.5.0",
            "_model_name": "DescriptionStyleModel",
            "_view_count": null,
            "_view_module": "@jupyter-widgets/base",
            "_view_module_version": "1.2.0",
            "_view_name": "StyleView",
            "description_width": ""
          }
        },
        "263c6774449247099d1da10176b6810b": {
          "model_module": "@jupyter-widgets/base",
          "model_name": "LayoutModel",
          "model_module_version": "1.2.0",
          "state": {
            "_model_module": "@jupyter-widgets/base",
            "_model_module_version": "1.2.0",
            "_model_name": "LayoutModel",
            "_view_count": null,
            "_view_module": "@jupyter-widgets/base",
            "_view_module_version": "1.2.0",
            "_view_name": "LayoutView",
            "align_content": null,
            "align_items": null,
            "align_self": null,
            "border": null,
            "bottom": null,
            "display": null,
            "flex": null,
            "flex_flow": null,
            "grid_area": null,
            "grid_auto_columns": null,
            "grid_auto_flow": null,
            "grid_auto_rows": null,
            "grid_column": null,
            "grid_gap": null,
            "grid_row": null,
            "grid_template_areas": null,
            "grid_template_columns": null,
            "grid_template_rows": null,
            "height": null,
            "justify_content": null,
            "justify_items": null,
            "left": null,
            "margin": null,
            "max_height": null,
            "max_width": null,
            "min_height": null,
            "min_width": null,
            "object_fit": null,
            "object_position": null,
            "order": null,
            "overflow": null,
            "overflow_x": null,
            "overflow_y": null,
            "padding": null,
            "right": null,
            "top": null,
            "visibility": null,
            "width": null
          }
        },
        "a19415ac1e664442b7665d91f781285a": {
          "model_module": "@jupyter-widgets/controls",
          "model_name": "ProgressStyleModel",
          "model_module_version": "1.5.0",
          "state": {
            "_model_module": "@jupyter-widgets/controls",
            "_model_module_version": "1.5.0",
            "_model_name": "ProgressStyleModel",
            "_view_count": null,
            "_view_module": "@jupyter-widgets/base",
            "_view_module_version": "1.2.0",
            "_view_name": "StyleView",
            "bar_color": null,
            "description_width": ""
          }
        },
        "282d8bb5a3fb4e5aa648430c9583e69e": {
          "model_module": "@jupyter-widgets/base",
          "model_name": "LayoutModel",
          "model_module_version": "1.2.0",
          "state": {
            "_model_module": "@jupyter-widgets/base",
            "_model_module_version": "1.2.0",
            "_model_name": "LayoutModel",
            "_view_count": null,
            "_view_module": "@jupyter-widgets/base",
            "_view_module_version": "1.2.0",
            "_view_name": "LayoutView",
            "align_content": null,
            "align_items": null,
            "align_self": null,
            "border": null,
            "bottom": null,
            "display": null,
            "flex": null,
            "flex_flow": null,
            "grid_area": null,
            "grid_auto_columns": null,
            "grid_auto_flow": null,
            "grid_auto_rows": null,
            "grid_column": null,
            "grid_gap": null,
            "grid_row": null,
            "grid_template_areas": null,
            "grid_template_columns": null,
            "grid_template_rows": null,
            "height": null,
            "justify_content": null,
            "justify_items": null,
            "left": null,
            "margin": null,
            "max_height": null,
            "max_width": null,
            "min_height": null,
            "min_width": null,
            "object_fit": null,
            "object_position": null,
            "order": null,
            "overflow": null,
            "overflow_x": null,
            "overflow_y": null,
            "padding": null,
            "right": null,
            "top": null,
            "visibility": null,
            "width": null
          }
        },
        "4efc02e0e27c4b46be7727894a042b66": {
          "model_module": "@jupyter-widgets/controls",
          "model_name": "DescriptionStyleModel",
          "model_module_version": "1.5.0",
          "state": {
            "_model_module": "@jupyter-widgets/controls",
            "_model_module_version": "1.5.0",
            "_model_name": "DescriptionStyleModel",
            "_view_count": null,
            "_view_module": "@jupyter-widgets/base",
            "_view_module_version": "1.2.0",
            "_view_name": "StyleView",
            "description_width": ""
          }
        },
        "3ff80f5cea684c578d2c2f38d3e9306e": {
          "model_module": "@jupyter-widgets/controls",
          "model_name": "HBoxModel",
          "model_module_version": "1.5.0",
          "state": {
            "_dom_classes": [],
            "_model_module": "@jupyter-widgets/controls",
            "_model_module_version": "1.5.0",
            "_model_name": "HBoxModel",
            "_view_count": null,
            "_view_module": "@jupyter-widgets/controls",
            "_view_module_version": "1.5.0",
            "_view_name": "HBoxView",
            "box_style": "",
            "children": [
              "IPY_MODEL_4733c078f5914138b8cb0d3d2f25da6a",
              "IPY_MODEL_375f78b788fd4ce0b7172103eea433e7",
              "IPY_MODEL_4dd87f8994934465b30cb11e4dfa129a"
            ],
            "layout": "IPY_MODEL_7bf0cbf68e704166b94cc26d72fa1023"
          }
        },
        "4733c078f5914138b8cb0d3d2f25da6a": {
          "model_module": "@jupyter-widgets/controls",
          "model_name": "HTMLModel",
          "model_module_version": "1.5.0",
          "state": {
            "_dom_classes": [],
            "_model_module": "@jupyter-widgets/controls",
            "_model_module_version": "1.5.0",
            "_model_name": "HTMLModel",
            "_view_count": null,
            "_view_module": "@jupyter-widgets/controls",
            "_view_module_version": "1.5.0",
            "_view_name": "HTMLView",
            "description": "",
            "description_tooltip": null,
            "layout": "IPY_MODEL_f9a166291d3642d7a06d9817e6a16d87",
            "placeholder": "​",
            "style": "IPY_MODEL_2a606a62fab444daa308bd19965172d8",
            "value": "Computing transition probabilities: 100%"
          }
        },
        "375f78b788fd4ce0b7172103eea433e7": {
          "model_module": "@jupyter-widgets/controls",
          "model_name": "FloatProgressModel",
          "model_module_version": "1.5.0",
          "state": {
            "_dom_classes": [],
            "_model_module": "@jupyter-widgets/controls",
            "_model_module_version": "1.5.0",
            "_model_name": "FloatProgressModel",
            "_view_count": null,
            "_view_module": "@jupyter-widgets/controls",
            "_view_module_version": "1.5.0",
            "_view_name": "ProgressView",
            "bar_style": "success",
            "description": "",
            "description_tooltip": null,
            "layout": "IPY_MODEL_25a2e09d73164ef8802bb0f4bf851dcb",
            "max": 19634,
            "min": 0,
            "orientation": "horizontal",
            "style": "IPY_MODEL_2ae13982020844d190607033de36f845",
            "value": 19634
          }
        },
        "4dd87f8994934465b30cb11e4dfa129a": {
          "model_module": "@jupyter-widgets/controls",
          "model_name": "HTMLModel",
          "model_module_version": "1.5.0",
          "state": {
            "_dom_classes": [],
            "_model_module": "@jupyter-widgets/controls",
            "_model_module_version": "1.5.0",
            "_model_name": "HTMLModel",
            "_view_count": null,
            "_view_module": "@jupyter-widgets/controls",
            "_view_module_version": "1.5.0",
            "_view_name": "HTMLView",
            "description": "",
            "description_tooltip": null,
            "layout": "IPY_MODEL_47502f523d6d48d98ac208c8e543cb5f",
            "placeholder": "​",
            "style": "IPY_MODEL_f9de6d7956434944abfae4180754e810",
            "value": " 19634/19634 [00:02&lt;00:00, 6018.34it/s]"
          }
        },
        "7bf0cbf68e704166b94cc26d72fa1023": {
          "model_module": "@jupyter-widgets/base",
          "model_name": "LayoutModel",
          "model_module_version": "1.2.0",
          "state": {
            "_model_module": "@jupyter-widgets/base",
            "_model_module_version": "1.2.0",
            "_model_name": "LayoutModel",
            "_view_count": null,
            "_view_module": "@jupyter-widgets/base",
            "_view_module_version": "1.2.0",
            "_view_name": "LayoutView",
            "align_content": null,
            "align_items": null,
            "align_self": null,
            "border": null,
            "bottom": null,
            "display": null,
            "flex": null,
            "flex_flow": null,
            "grid_area": null,
            "grid_auto_columns": null,
            "grid_auto_flow": null,
            "grid_auto_rows": null,
            "grid_column": null,
            "grid_gap": null,
            "grid_row": null,
            "grid_template_areas": null,
            "grid_template_columns": null,
            "grid_template_rows": null,
            "height": null,
            "justify_content": null,
            "justify_items": null,
            "left": null,
            "margin": null,
            "max_height": null,
            "max_width": null,
            "min_height": null,
            "min_width": null,
            "object_fit": null,
            "object_position": null,
            "order": null,
            "overflow": null,
            "overflow_x": null,
            "overflow_y": null,
            "padding": null,
            "right": null,
            "top": null,
            "visibility": null,
            "width": null
          }
        },
        "f9a166291d3642d7a06d9817e6a16d87": {
          "model_module": "@jupyter-widgets/base",
          "model_name": "LayoutModel",
          "model_module_version": "1.2.0",
          "state": {
            "_model_module": "@jupyter-widgets/base",
            "_model_module_version": "1.2.0",
            "_model_name": "LayoutModel",
            "_view_count": null,
            "_view_module": "@jupyter-widgets/base",
            "_view_module_version": "1.2.0",
            "_view_name": "LayoutView",
            "align_content": null,
            "align_items": null,
            "align_self": null,
            "border": null,
            "bottom": null,
            "display": null,
            "flex": null,
            "flex_flow": null,
            "grid_area": null,
            "grid_auto_columns": null,
            "grid_auto_flow": null,
            "grid_auto_rows": null,
            "grid_column": null,
            "grid_gap": null,
            "grid_row": null,
            "grid_template_areas": null,
            "grid_template_columns": null,
            "grid_template_rows": null,
            "height": null,
            "justify_content": null,
            "justify_items": null,
            "left": null,
            "margin": null,
            "max_height": null,
            "max_width": null,
            "min_height": null,
            "min_width": null,
            "object_fit": null,
            "object_position": null,
            "order": null,
            "overflow": null,
            "overflow_x": null,
            "overflow_y": null,
            "padding": null,
            "right": null,
            "top": null,
            "visibility": null,
            "width": null
          }
        },
        "2a606a62fab444daa308bd19965172d8": {
          "model_module": "@jupyter-widgets/controls",
          "model_name": "DescriptionStyleModel",
          "model_module_version": "1.5.0",
          "state": {
            "_model_module": "@jupyter-widgets/controls",
            "_model_module_version": "1.5.0",
            "_model_name": "DescriptionStyleModel",
            "_view_count": null,
            "_view_module": "@jupyter-widgets/base",
            "_view_module_version": "1.2.0",
            "_view_name": "StyleView",
            "description_width": ""
          }
        },
        "25a2e09d73164ef8802bb0f4bf851dcb": {
          "model_module": "@jupyter-widgets/base",
          "model_name": "LayoutModel",
          "model_module_version": "1.2.0",
          "state": {
            "_model_module": "@jupyter-widgets/base",
            "_model_module_version": "1.2.0",
            "_model_name": "LayoutModel",
            "_view_count": null,
            "_view_module": "@jupyter-widgets/base",
            "_view_module_version": "1.2.0",
            "_view_name": "LayoutView",
            "align_content": null,
            "align_items": null,
            "align_self": null,
            "border": null,
            "bottom": null,
            "display": null,
            "flex": null,
            "flex_flow": null,
            "grid_area": null,
            "grid_auto_columns": null,
            "grid_auto_flow": null,
            "grid_auto_rows": null,
            "grid_column": null,
            "grid_gap": null,
            "grid_row": null,
            "grid_template_areas": null,
            "grid_template_columns": null,
            "grid_template_rows": null,
            "height": null,
            "justify_content": null,
            "justify_items": null,
            "left": null,
            "margin": null,
            "max_height": null,
            "max_width": null,
            "min_height": null,
            "min_width": null,
            "object_fit": null,
            "object_position": null,
            "order": null,
            "overflow": null,
            "overflow_x": null,
            "overflow_y": null,
            "padding": null,
            "right": null,
            "top": null,
            "visibility": null,
            "width": null
          }
        },
        "2ae13982020844d190607033de36f845": {
          "model_module": "@jupyter-widgets/controls",
          "model_name": "ProgressStyleModel",
          "model_module_version": "1.5.0",
          "state": {
            "_model_module": "@jupyter-widgets/controls",
            "_model_module_version": "1.5.0",
            "_model_name": "ProgressStyleModel",
            "_view_count": null,
            "_view_module": "@jupyter-widgets/base",
            "_view_module_version": "1.2.0",
            "_view_name": "StyleView",
            "bar_color": null,
            "description_width": ""
          }
        },
        "47502f523d6d48d98ac208c8e543cb5f": {
          "model_module": "@jupyter-widgets/base",
          "model_name": "LayoutModel",
          "model_module_version": "1.2.0",
          "state": {
            "_model_module": "@jupyter-widgets/base",
            "_model_module_version": "1.2.0",
            "_model_name": "LayoutModel",
            "_view_count": null,
            "_view_module": "@jupyter-widgets/base",
            "_view_module_version": "1.2.0",
            "_view_name": "LayoutView",
            "align_content": null,
            "align_items": null,
            "align_self": null,
            "border": null,
            "bottom": null,
            "display": null,
            "flex": null,
            "flex_flow": null,
            "grid_area": null,
            "grid_auto_columns": null,
            "grid_auto_flow": null,
            "grid_auto_rows": null,
            "grid_column": null,
            "grid_gap": null,
            "grid_row": null,
            "grid_template_areas": null,
            "grid_template_columns": null,
            "grid_template_rows": null,
            "height": null,
            "justify_content": null,
            "justify_items": null,
            "left": null,
            "margin": null,
            "max_height": null,
            "max_width": null,
            "min_height": null,
            "min_width": null,
            "object_fit": null,
            "object_position": null,
            "order": null,
            "overflow": null,
            "overflow_x": null,
            "overflow_y": null,
            "padding": null,
            "right": null,
            "top": null,
            "visibility": null,
            "width": null
          }
        },
        "f9de6d7956434944abfae4180754e810": {
          "model_module": "@jupyter-widgets/controls",
          "model_name": "DescriptionStyleModel",
          "model_module_version": "1.5.0",
          "state": {
            "_model_module": "@jupyter-widgets/controls",
            "_model_module_version": "1.5.0",
            "_model_name": "DescriptionStyleModel",
            "_view_count": null,
            "_view_module": "@jupyter-widgets/base",
            "_view_module_version": "1.2.0",
            "_view_name": "StyleView",
            "description_width": ""
          }
        }
      }
    }
  },
  "nbformat": 4,
  "nbformat_minor": 0
}